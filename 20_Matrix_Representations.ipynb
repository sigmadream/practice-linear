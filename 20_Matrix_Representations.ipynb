{
 "cells": [
  {
   "cell_type": "markdown",
   "metadata": {},
   "source": [
    "# 행렬의 표현"
   ]
  },
  {
   "cell_type": "markdown",
   "metadata": {},
   "source": [
    "선형 변환과 행렬 대수 사이의 핵심적인 연결 고리는 모든 선형 변환이 행렬 곱셈으로 수행될 수 있다는 사실입니다. 따라서 어떤 식으로든 행렬을 선형 변환과 연관시키는 것은 당연한 일입니다. 반대로 행렬 곱셈을 수행할 때 행렬이 나타내는 관련 선형 변환을 고려하는 것은 매우 자연스러운 일입니다. 이런 식으로 행렬 곱셈은 한 공간의 벡터를 다른 공간의 벡터에 매핑하는 수단으로 볼 수 있습니다."
   ]
  },
  {
   "cell_type": "markdown",
   "metadata": {},
   "source": [
    "행렬 표현을 구하는 가장 일반적인 경우를 다루는 대신 $\\mathbb{R}^n$에서 $\\mathbb{R}^m$로의 선형 변환을 고려해 보겠습니다. 선형 변환의 정의 속성은 $\\mathbb{R}^n$의 기저에 있는 각 요소의 이미지(출력)를 지정하는 것으로 설명할 수 있음을 의미합니다. $T$가 우리의 변환이고, $\\beta = \\{V_1, V_2,..., V_n\\}$가 $\\mathbb{R}^n$의 기저이며, 이미지 $T(V_1)$, $T(V_2)$, ..., $T(V_n)$를 알고 있다고 가정해 봅시다.  이것은 $\\mathbb{R}^n$에서 임의의 $X$에 대한 $T(X)$를 계산하는 데 필요한 유일한 정보입니다. 먼저 $X$를 기저의 관점에서 $X = c_1V_1 + c_2V_2 + ... c_nV_n$로 표현한 다음 변환의 선형성을 사용합니다.\n",
    "\n",
    "$$\n",
    "\\begin{matrix}\n",
    "T(X) = T(c_1V_1 + c_2V_2 + ... c_nV_n) = c_1T(V_1) + c_2T(V_2) + ... c_nT(V_n)\n",
    "\\end{matrix}\n",
    "$$\n",
    "\n",
    "행렬과 연결하기 위해서는 이 방정식의 오른쪽이 행렬-벡터 곱셈으로 표현될 수 있다는 것을 인식해야 합니다. 행렬의 열은 기저 벡터의 이미지이고, *벡터는 기저 $\\beta$*에 대한 $X$의 좌표 벡터입니다.\n",
    "\n",
    "$$\n",
    "\\begin{matrix}\n",
    "T(X) =  c_1T(V_1) + c_2T(V_2) + ... c_nT(V_n) = \\left[ \\begin{array}{c|c|c|c} & & & \\\\\n",
    "T(V_1) & T(V_2) & ... & T(V_n) \\\\ & & & \\end{array} \\right]\n",
    "\\left[ \\begin{array}{c} c_1 \\\\ c_2 \\\\ \\vdots \\\\ c_n \\end{array} \\right]\n",
    "\\end{matrix}\n",
    "$$\n",
    "\n",
    "따라서 선형 변환을 나타내는 행렬은 $\\mathbb{R}^n$을 설명하기 위해 선택한 기저에 따라 달라지며, 이는 기저를 선택할 때마다 다른 행렬을 제공한다는 것을 의미합니다. 이 섹션에서는 표준 기저와 관련된 행렬 표현으로 주의를 제한하겠습니다."
   ]
  },
  {
   "cell_type": "markdown",
   "metadata": {},
   "source": [
    "## 표준 행렬 표현\n",
    "\n",
    "선형 변환의 표준 기저 $\\alpha = \\{E_1, E_2, ..., E_n\\}$을 선택하면, 선형 변환의 행렬 표현을 **표준 행렬 표현**이라고 부릅니다.  이 행렬은 이전 장에서 사용한 다른 모든 행렬과 마찬가지로 일반 행렬이지만 약간 다른 표기법을 도입합니다. 변환의 레이블로 $T$를 사용하는 경우, $T$의 표준 행렬 표현을 나타내기 위해 $\\left[T\\right]$라는 표기법을 사용할 것입니다."
   ]
  },
  {
   "cell_type": "markdown",
   "metadata": {},
   "source": [
    "### 예제 1: Transformation from $\\mathbb{R}^2$ to $\\mathbb{R}^4$\n",
    "\n",
    "다음 이미지가 정의된 $T:\\mathbb{R}^2 \\to \\mathbb{R}^4$ 로의 변환을 생각해 보겠습니다.\n",
    "\n",
    "$$\n",
    "\\begin{matrix}\n",
    "T\\left(\\left[\\begin{array}{r} 1\\\\0 \\end{array}\\right]\\right)= \\left[\\begin{array}{r} 2\\\\0\\\\1\\\\1 \\end{array}\\right] \\hspace{1cm}  \n",
    "T\\left(\\left[\\begin{array}{r} 0\\\\1 \\end{array}\\right]\\right)= \\left[\\begin{array}{r} 0\\\\1\\\\-1\\\\4 \\end{array}\\right]\n",
    "\\end{matrix}\n",
    "$$\n",
    "\n",
    "표준 행렬 표현은 이러한 이미지를 열로 사용하여 구축됩니다.\n",
    "\n",
    "$$\n",
    "\\begin{matrix}\n",
    "\\left[T\\right] =\\left[\\begin{array}{rr} 2 & 0 \\\\ 0 & 1 \\\\ 1 & -1 \\\\ 1 & 4 \\end{array}\\right]  \n",
    "\\end{matrix}\n",
    "$$\n",
    "\n",
    "이제 $X$가 $\\mathbb{R}^2$의 다른 벡터라면, $T(X)$를 행렬-벡터 곱 $\\left[T\\right]X$로 계산할 수 있습니다.\n",
    "\n",
    "$$\n",
    "\\begin{matrix}\n",
    "X = \\left[\\begin{array}{r} 5 \\\\ -2 \\end{array}\\right] \\hspace{1cm} \\to \\hspace{1cm}\n",
    "T(X) = \\left[T\\right]X =\\left[\\begin{array}{rr} 2 & 0 \\\\ 0 & 1 \\\\ 1 & -1 \\\\ 1 & 4 \\end{array}\\right] \\left[\\begin{array}{r} 5 \\\\ -2 \\end{array}\\right] = \n",
    "5\\left[\\begin{array}{r} 2\\\\0\\\\1\\\\1 \\end{array}\\right] -\n",
    "2\\left[\\begin{array}{r} 0\\\\1\\\\-1\\\\4 \\end{array}\\right] = \n",
    "\\left[\\begin{array}{r} 10\\\\2\\\\3\\\\-3 \\end{array}\\right]\n",
    "\\end{matrix}\n",
    "$$"
   ]
  },
  {
   "cell_type": "markdown",
   "metadata": {},
   "source": [
    "### 예제 2:  Transformation from $\\mathbb{R}^3$ to $\\mathbb{R}^3$\n",
    "\n",
    "선형 변환 $L:\\mathbb{R}^3 \\to \\mathbb{R}^3$은 다음과 같은 공식으로 정의할 수 있습니다.\n",
    "\n",
    "$$\n",
    "\\begin{matrix}\n",
    "L \\left(\\left[\\begin{array}{r} x_1 \\\\ x_2 \\\\ x_3 \\end{array} \\right]\\right) = \n",
    "\\left[\\begin{array}{c} x_1 - x_3 \\\\ 3x_1 -x_2 + 2x_3  \\\\ 2x_1 + 8x_2 \\end{array} \\right]\n",
    "\\end{matrix}\n",
    "$$\n",
    "\n",
    "$L$의 표준 행렬 표현을 구하기 위해 먼저 공식을 적용하여 표준 기저의 이미지를 생성한 다음, 이를 조합하여 $\\left[L\\right]$를 형성합니다.\n",
    "\n",
    "$$\n",
    "\\begin{matrix}\n",
    "L\\left(\\left[\\begin{array}{r} 1\\\\0\\\\0 \\end{array}\\right]\\right)= \\left[\\begin{array}{r} 1\\\\3\\\\2 \\end{array}\\right] \\hspace{1cm}  \n",
    "L\\left(\\left[\\begin{array}{r} 0\\\\1\\\\0 \\end{array}\\right]\\right)= \\left[\\begin{array}{r} 0\\\\-1\\\\8 \\end{array}\\right] \\hspace{1cm}  \n",
    "L\\left(\\left[\\begin{array}{r} 0\\\\0\\\\1 \\end{array}\\right]\\right)= \\left[\\begin{array}{r} -1\\\\2\\\\0 \\end{array}\\right] \n",
    "\\end{matrix}\n",
    "$$\n",
    "\n",
    "$$\n",
    "\\begin{matrix}\n",
    "\\left[L\\right] = \\left[\\begin{array}{rrr} 1 & 0 & -1 \\\\ 3 & -1 & 2 \\\\ 2 & 8 & 0 \\end{array}\\right]\n",
    "\\end{matrix}\n",
    "$$"
   ]
  },
  {
   "cell_type": "markdown",
   "metadata": {},
   "source": [
    "## RREF를 사용한 분석\n",
    "\n",
    "이제 선형 변환을 행렬-벡터 곱셈으로 표현할 수 있게 되었으므로 이전 장에서 배운 내용을 사용하여 선형 변환이 반전 가능한지 확인할 수 있습니다.  변환 $T:\\mathbb{R}^n \\to \\mathbb{R}^m$이 표준 행렬 표현 $[T]$를 가지며, 역변환 $T^{-1}:\\mathbb{R}^m \\to \\mathbb{R}^n$이 존재하는지 알고 싶다고 가정해 봅시다. 선형 방정식 $[T]X = B$가 $\\mathbb{R}^m$의 모든 $B$에 대해 고유한 해를 갖는지 알아야 합니다.\n",
    "\n",
    "[일반 선형 시스템](10_General_Linear_Systems.ipynb)의 논의를 되돌아보면, 이 시스템과 관련된 RREF 마지막 열에 피벗이 있는 경우 $[T]X = B$ 시스템이 일관성이 없음을 알 수 있습니다. 이것이 가능한 유일한 방법은 행렬 $[T]$에 피벗이 없는 *행*이 있는 경우인데, 행당 피벗이 하나 이상 있을 수 없기 때문입니다. 또한 $[T]$의 각 열에 피벗이 있을 때 $[T]X=B$는 고유한 해를 갖는다는 것을 발견했습니다. 따라서 $[T]X=B$는 행렬 $[T]$의 각 행과 각 열에 피벗이 있을 때 정확히 $\\mathbb{R}^m$의 모든 $B$에 대해 고유한 해를 갖습니다. 이 경우 선형 변환 $T$는 반전이 가능하며 행렬 $[T]$는 역을 갖습니다.\n",
    "\n",
    "선형 변환에는 이와 매우 밀접한 관련이 있는 두 가지 다른 속성이 있습니다.\n",
    "\n",
    "- 선형 시스템 $[T]X=B$가 $\\mathbb{R}^m$의 모든 $B$에 대해 적어도 하나의 해를 갖는 경우, 변환은 **또는** $\\mathbb{R}^m$이라고 합니다.  이 경우, $\\mathbb{R}^m$의 모든 벡터 $B$에 대해 $\\mathbb{R}^n$에는 적어도 하나의 벡터 $X$가 존재하므로 $T(X)=B$가 됩니다. 행렬 $[T]$가 모든 행에 피벗을 가질 때마다 변환 $T$가 켜집니다.  \n",
    "\n",
    "- 선형 시스템 $[T]X=B$가 $\\mathbb{R}^m$의 모든 $B$에 대해 *최대 하나의 해를 갖는 경우, 선형 변환은 **일대일**이라고 합니다.  이 경우, $\\mathbb{R}^n$의 두 벡터는 $\\mathbb{R}^m$의 동일한 벡터로 전송되지 않습니다.  행렬 $[T]$가 모든 열에 피벗을 가질 때마다 변환 $T$는 일대일입니다.\n",
    "\n",
    "**변환은 일대일 변환인 경우에만 반전이 가능합니다.**"
   ]
  },
  {
   "cell_type": "markdown",
   "metadata": {},
   "source": [
    "각 열의 최대 하나의 피벗과 행당 하나의 피벗이 있을 수 있다는 점을 염두에 둔다면, $m$과 $n$의 상대적인 크기에 따라 이러한 속성에 대한 추가 진술을 할 수 있습니다.  $T:\\mathbb{R}^n \\to \\mathbb{R}^m$일 경우, $m>n$인 경우 $T$는 $\\mathbb{R}^m$ 위에 있을 수 없고, $m<n$인 경우 일대일일 수 없습니다.  $m=n$일 때만 $T$가 반전될 수 있습니다.\n",
    "\n",
    "예제를 살펴보겠습니다. **예제 1**에서 행렬 $[T]$는 $4 \\times 2$입니다. 행렬은 최대 두 개의 피벗(열당 최대 하나)을 가질 수 있으므로 각 행에 피벗을 가질 수 없다는 것을 알고 있습니다. 각 열에 피벗이 있는지 확인하기 위해 RREF를 계산할 수 있습니다."
   ]
  },
  {
   "cell_type": "code",
   "execution_count": 1,
   "metadata": {},
   "outputs": [
    {
     "name": "stdout",
     "output_type": "stream",
     "text": [
      "[[1. 0.]\n",
      " [0. 1.]\n",
      " [0. 0.]\n",
      " [0. 0.]]\n"
     ]
    }
   ],
   "source": [
    "import numpy as np\n",
    "import linear_solver as ls\n",
    "\n",
    "T = np.array([[2, 0],[0,1],[1, -1],[1,4]])\n",
    "print(ls.full_row_reduction(T))"
   ]
  },
  {
   "cell_type": "markdown",
   "metadata": {},
   "source": [
    "이 경우 변환 $T$는 일대일(`one-to-one`)이지만 전사(`onto`)는 아닙니다.\n",
    "\n",
    "**예제 2**에서 행렬 $[L]$은 $3 \\times 3$이며, 피벗 위치를 결정하기 위해 RREF를 계산해야 합니다."
   ]
  },
  {
   "cell_type": "code",
   "execution_count": 2,
   "metadata": {},
   "outputs": [
    {
     "name": "stdout",
     "output_type": "stream",
     "text": [
      "[[1. 0. 0.]\n",
      " [0. 1. 0.]\n",
      " [0. 0. 1.]]\n"
     ]
    }
   ],
   "source": [
    "L=np.array([[1,0,-1],[3,-1,2],[2,8,0]])\n",
    "print(ls.full_row_reduction(L))"
   ]
  },
  {
   "cell_type": "markdown",
   "metadata": {},
   "source": [
    "행렬 표현은 각 행과 열에 피벗이 있으므로 변환 $L$은 반전 가능합니다."
   ]
  }
 ],
 "metadata": {
  "kernelspec": {
   "display_name": "Python 3",
   "language": "python",
   "name": "python3"
  },
  "language_info": {
   "codemirror_mode": {
    "name": "ipython",
    "version": 3
   },
   "file_extension": ".py",
   "mimetype": "text/x-python",
   "name": "python",
   "nbconvert_exporter": "python",
   "pygments_lexer": "ipython3",
   "version": "3.12.1"
  }
 },
 "nbformat": 4,
 "nbformat_minor": 4
}
