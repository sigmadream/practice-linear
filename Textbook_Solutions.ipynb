{
 "cells": [
  {
   "cell_type": "markdown",
   "metadata": {},
   "source": [
    "# 프로그래밍 실습"
   ]
  },
  {
   "cell_type": "markdown",
   "metadata": {},
   "source": [
    "## 1장"
   ]
  },
  {
   "cell_type": "markdown",
   "metadata": {},
   "source": [
    "### 1.1 정수를 입력받아서 합을 계산하는 함수 `calc`를 작성하라."
   ]
  },
  {
   "cell_type": "code",
   "execution_count": 1,
   "metadata": {},
   "outputs": [],
   "source": [
    "def calc(n):\n",
    "    sum = 0\n",
    "    for i in range(0, n+1):\n",
    "        sum += i\n",
    "    return sum"
   ]
  },
  {
   "cell_type": "code",
   "execution_count": 2,
   "metadata": {},
   "outputs": [
    {
     "data": {
      "text/plain": [
       "55"
      ]
     },
     "execution_count": 2,
     "metadata": {},
     "output_type": "execute_result"
    }
   ],
   "source": [
    "calc(10)"
   ]
  },
  {
   "cell_type": "markdown",
   "metadata": {},
   "source": [
    "### 1.2 다음과 같은 행렬 `A` 와 벡터 `v`를 파이썬으로 정의하고, 이를 출력하는 프로그램을 작성하라."
   ]
  },
  {
   "cell_type": "code",
   "execution_count": 3,
   "metadata": {},
   "outputs": [
    {
     "name": "stdout",
     "output_type": "stream",
     "text": [
      "A = [[1 2 3]\n",
      " [4 5 6]\n",
      " [7 8 9]]\n",
      "v = [[1]\n",
      " [2]\n",
      " [3]]\n"
     ]
    }
   ],
   "source": [
    "import numpy as np\n",
    "\n",
    "A = np.array([[1,2,3], [4,5,6], [7,8,9]])\n",
    "v = np.array([[1], [2], [3]])\n",
    "\n",
    "print(f\"A = {A}\")\n",
    "print(f\"v = {v}\")"
   ]
  },
  {
   "cell_type": "markdown",
   "metadata": {},
   "source": [
    "### 1.3 다음과 같은 행렬과 벡터들의 크기를 출력하는 프로그램을 작성하라.\n",
    "\n",
    "$$\n",
    "A = \n",
    "\\begin{matrix}\n",
    "\\left[\\begin{array}{ccc} 1 & 2 & 3 \\\\ 4 & 5 & 6 \\\\ 7 & 8 & 9 \\end{array}\\right]\n",
    "\\end{matrix}\n",
    ",\n",
    "v = \n",
    "\\begin{matrix}\n",
    "\\left[\\begin{array}{c} 1 \\\\ 2 \\\\ 3 \\end{array}\\right]\n",
    "\\end{matrix}\n",
    ",\n",
    "w = \\begin{matrix}\n",
    "\\left[\\begin{array}{c} 1 & 2 & 3 \\end{array}\\right]\n",
    "\\end{matrix}\n",
    ",\n",
    "B = \n",
    "\\begin{matrix}\n",
    "\\left[\\begin{array}{cc} 1 & 2 & 3\\\\ 4 & 5 & 6 \\end{array}\\right]\n",
    "\\end{matrix}\n",
    "$$"
   ]
  },
  {
   "cell_type": "code",
   "execution_count": 4,
   "metadata": {},
   "outputs": [
    {
     "name": "stdout",
     "output_type": "stream",
     "text": [
      "A = [[1 2 3]\n",
      " [4 5 6]\n",
      " [7 8 9]]\n",
      "A.shape = (3, 3)\n",
      "v = [[1]\n",
      " [2]\n",
      " [3]]\n",
      "v.shape = (3, 1)\n",
      "w = [1 2 3]\n",
      "w.shape = (3,)\n",
      "B = [[1 2 3]\n",
      " [4 5 6]]\n",
      "B.shape = (2, 3)\n"
     ]
    }
   ],
   "source": [
    "A = np.array([[1,2,3], [4,5,6], [7,8,9]])\n",
    "print(f\"A = {A}\")\n",
    "print(f\"A.shape = {A.shape}\")\n",
    "\n",
    "v = np.array([[1], [2], [3]])\n",
    "print(f\"v = {v}\")\n",
    "print(f\"v.shape = {v.shape}\")\n",
    "\n",
    "w = np.array([1, 2, 3])\n",
    "print(f\"w = {w}\")\n",
    "print(f\"w.shape = {w.shape}\")\n",
    "\n",
    "B = np.array([[1,2,3], [4,5,6]])\n",
    "print(f\"B = {B}\")\n",
    "print(f\"B.shape = {B.shape}\")"
   ]
  },
  {
   "cell_type": "markdown",
   "metadata": {},
   "source": [
    "## 2장"
   ]
  },
  {
   "cell_type": "markdown",
   "metadata": {},
   "source": [
    "### 2.1 $2 \\times 3$ 영행렬, 모든 성분이 1인 $2 \\times 2$ 행렬, 모든 성분이 3인 $3 \\times 2$ 행렬, $2 \\times 2$ 단위행렬을 만들어 출력하는 프로그램을 작성하라."
   ]
  },
  {
   "cell_type": "code",
   "execution_count": 5,
   "metadata": {},
   "outputs": [
    {
     "name": "stdout",
     "output_type": "stream",
     "text": [
      "a = [[0. 0. 0.]\n",
      " [0. 0. 0.]]\n",
      "b = [[1. 1.]\n",
      " [1. 1.]]\n",
      "c = [[3 3]\n",
      " [3 3]\n",
      " [3 3]]\n",
      "d = [[1. 0.]\n",
      " [0. 1.]]\n"
     ]
    }
   ],
   "source": [
    "a = np.zeros((2,3))\n",
    "print(f\"a = {a}\")\n",
    "\n",
    "b = np.ones((2,2))\n",
    "print(f\"b = {b}\")\n",
    "\n",
    "c = np.full((3,2),3)\n",
    "print(f\"c = {c}\")\n",
    "\n",
    "d = np.eye(2)\n",
    "print(f\"d = {d}\")"
   ]
  },
  {
   "cell_type": "markdown",
   "metadata": {},
   "source": [
    "### 2.2 가우스-조단 소거법을 수행하는 gauss( )라는 함수를 정의하고, 이 함수를 이용하여 다음 연립선형방정식의 해를 구하라. gauss(A)의 입력으로 주어지는 A는 주어진 연립선형방정 식에 대한 첨가행렬이다.\n",
    "\n",
    "$$\n",
    "\\begin{matrix}\n",
    "2x_1 + 2x_2 + 4x_3 & = & 18 \\\\\n",
    "x_1 + 3x_2 + 2x_3 & = & 13 \\\\\n",
    "3x_1 + x_2 + 3x_3 & = & 14 \\\\\n",
    "\\end{matrix}\n",
    "$$"
   ]
  },
  {
   "cell_type": "code",
   "execution_count": 6,
   "metadata": {},
   "outputs": [],
   "source": [
    "def pprint(msg, A):\n",
    "    print(\"---\", msg, \"---\")\n",
    "    (n,m) = A.shape\n",
    "    for i in range(0, n):\n",
    "        line = \"\"\n",
    "        for j in range(0, m):\n",
    "            line += \"{0:.2f}\".format(A[i,j]) + \"\\t\"\n",
    "            if j == n-1:\n",
    "                line += \"| \"\n",
    "        print(line)\n",
    "    print(\"\")"
   ]
  },
  {
   "cell_type": "code",
   "execution_count": 7,
   "metadata": {},
   "outputs": [
    {
     "name": "stdout",
     "output_type": "stream",
     "text": [
      "--- 주어진 문제 ---\n",
      "2.00\t2.00\t4.00\t| 18.00\t\n",
      "1.00\t3.00\t2.00\t| 13.00\t\n",
      "3.00\t1.00\t3.00\t| 14.00\t\n",
      "\n",
      "--- 1번째 반복 ---\n",
      "1.00\t0.33\t1.00\t| 4.67\t\n",
      "0.00\t2.67\t1.00\t| 8.33\t\n",
      "0.00\t1.33\t2.00\t| 8.67\t\n",
      "\n",
      "--- 2번째 반복 ---\n",
      "1.00\t0.00\t0.88\t| 3.63\t\n",
      "0.00\t1.00\t0.38\t| 3.12\t\n",
      "0.00\t0.00\t1.50\t| 4.50\t\n",
      "\n",
      "--- 3번째 반복 ---\n",
      "1.00\t0.00\t0.00\t| 1.00\t\n",
      "0.00\t1.00\t0.00\t| 2.00\t\n",
      "0.00\t0.00\t1.00\t| 3.00\t\n",
      "\n",
      "해:\t1.00\t2.00\t3.00\t\n"
     ]
    }
   ],
   "source": [
    "def gauss(A):\n",
    "    (n,m) = A.shape\n",
    "\n",
    "    for i in range(0, min(n,m)):\n",
    "        # i번째 열에서 절댓값이 최대인 성분의 행 선택\n",
    "        maxEl = abs(A[i,i])\n",
    "        maxRow = i\n",
    "        for k in range(i+1, n):\n",
    "            if abs(A[k,i]) > maxEl:\n",
    "                maxEl = abs(A[k,i])\n",
    "                maxRow = k\n",
    "\n",
    "        # 현재 i번째 행과 최댓값을 갖는 행 maxRow의 교환\n",
    "        for k in range(i, m):\n",
    "            tmp = A[maxRow,k]\n",
    "            A[maxRow,k] = A[i,k]\n",
    "            A[i,k] = tmp\n",
    "\n",
    "        # 추축성분을 1로 만들기\n",
    "        piv = A[i,i]\n",
    "        for k in range(i, m):\n",
    "            A[i,k] = A[i,k]/piv\n",
    "\n",
    "        # 현재 i번째 열의 i번째 행을 제외한 모두 성분을 0으로 만들기\n",
    "        for k in range(0, n):\n",
    "            if k != i:\n",
    "                c = A[k,i]/A[i,i]\n",
    "                for j in range(i, m):\n",
    "                    if i == j:\n",
    "                        A[k,j] = 0\n",
    "                    else:\n",
    "                        A[k,j] = A[k,j] - c * A[i,j]\n",
    "\n",
    "        pprint(str(i+1)+\"번째 반복\", A) # 중간 과정 출력\n",
    "\n",
    "    # Ax=b의 해 반환\n",
    "    x = np.zeros(m-1)\n",
    "    for i in range(0,m-1):\n",
    "        x[i] = A[i,m-1]\n",
    "    return x\n",
    "\n",
    "# 주어진 연립선형방정식에 대한 첨가행렬\n",
    "A = np.array([[2., 2., 4., 18.], [1., 3., 2., 13.], [3., 1., 3., 14.]])\n",
    "\n",
    "pprint(\"주어진 문제\", A) # 첨가행렬 출력\n",
    "x = gauss(A) # 가우스-조단 소거법 적용\n",
    "\n",
    "# 출력 생성\n",
    "(n,m) = A.shape\n",
    "line = \"해:\\t\"\n",
    "for i in range(0, m-1):\n",
    "    line += \"{0:.2f}\".format(x[i]) + \"\\t\"\n",
    "print(line)"
   ]
  },
  {
   "cell_type": "markdown",
   "metadata": {},
   "source": [
    "## 3장"
   ]
  },
  {
   "cell_type": "markdown",
   "metadata": {},
   "source": [
    "### 3.1 다음 벡터 $v_1$ , $v_2$, $v_3$를 행으로 하는 행렬 A와 열로 하는 행렬 B 를 이들 벡터를 사용하여 만들고, 행렬 $C$ 에 $v_3$를 열로 추가하여 행렬 $D$를 만들어라. 또한 행렬 $E$의 1행 4열의 성분, 2 행 3열의 성분, 1~2 행의 3열에 해당하는 부분행렬, 1~2행의 3~4열에 해당하는 부분행렬, 3행에 해당하는 부분행렬을 출력하라. 마지막으로 행렬 $E$의 1행 1열의 성분을 -1로 변경하고 행렬 $E$를 출력하라."
   ]
  },
  {
   "cell_type": "code",
   "execution_count": 8,
   "metadata": {},
   "outputs": [
    {
     "name": "stdout",
     "output_type": "stream",
     "text": [
      "벡터의 결합에 의한 행렬 생성\n",
      "A = [[1 2 3]\n",
      " [4 5 6]\n",
      " [7 8 9]]\n",
      "B = [[1 4 7]\n",
      " [2 5 8]\n",
      " [3 6 9]]\n",
      "C = [[1 2]\n",
      " [3 4]\n",
      " [5 6]]\n",
      "D = [[1 2 7]\n",
      " [3 4 8]\n",
      " [5 6 9]]\n",
      "행렬의 성분 접근\n",
      "E[0,3] = 4\n",
      "E[1,2] = 7\n",
      "E[0:2, 2] = [3 7]\n",
      "E[0:2, 2:4] = [[3 4]\n",
      " [7 8]]\n",
      "E[2, :] = [ 9 10 11 12]\n",
      "성분의 변경\n",
      "E = [[ 1  2  3  4]\n",
      " [ 5  6  7  8]\n",
      " [ 9 10 11 12]]\n",
      "E[0,0] =  1\n",
      "[[-1  2  3  4]\n",
      " [ 5  6  7  8]\n",
      " [ 9 10 11 12]]\n",
      "E[0,0] =  -1\n"
     ]
    }
   ],
   "source": [
    "print(\"벡터의 결합에 의한 행렬 생성\")\n",
    "v1 = np.array([1, 2, 3])\n",
    "v2 = np.array([4, 5, 6])\n",
    "v3 = np.array([7, 8, 9])\n",
    "\n",
    "A = np.vstack([v1, v2, v3]) # v1, v2, v3를 각각 행으로 하는 행렬 A 생성\n",
    "print(\"A =\", A)\n",
    "\n",
    "B = np.column_stack([v1, v2, v3]) # v1, v2, v3를 각각 열로 하는 행렬 B 생성\n",
    "print(\"B =\", B)\n",
    "\n",
    "C = np.array([[1, 2], [3, 4], [5, 6]])\n",
    "print(\"C =\", C)\n",
    "\n",
    "D = np.column_stack([C, v3]) # 행렬 C에 v3를 열로 추가하여 행렬 D 생성\n",
    "print(\"D =\", D)\n",
    "\n",
    "print(\"행렬의 성분 접근\")\n",
    "E = np.array([[1, 2, 3, 4], [5, 6, 7, 8], [9, 10, 11, 12]])\n",
    "\n",
    "print(\"E[0,3] =\", E[0,3]) # 1행 4열의 성분\n",
    "print(\"E[1,2] =\", E[1,2]) # 2행 3열의 성분\n",
    "\n",
    "print(\"E[0:2, 2] =\", E[0:2, 2]) # E의 1~2행의 3열에 해당하는 부분행렬\n",
    "print(\"E[0:2, 2:4] =\", E[0:2, 2:4]) # E의 1~2행의 3~4열에 해당하는 부분행렬\n",
    "print(\"E[2, :] =\", E[2, :]) # E의 3행에 해당하는 부분행렬\n",
    "\n",
    "print(\"성분의 변경\")\n",
    "print(\"E =\", E)\n",
    "\n",
    "print(\"E[0,0] = \", E[0, 0])\n",
    "E[0, 0] = -1 # E의 1행 1열 성분을 -1로 변경\n",
    "print(E)\n",
    "print(\"E[0,0] = \", E[0, 0])\n"
   ]
  },
  {
   "cell_type": "markdown",
   "metadata": {},
   "source": [
    "### 3.2 다음과 같은 행렬과 벡터를 이용하여 $A + B$, $A - B$, $3A$, $2v$, $AB$, $AC$, $Av$, $A^2$, $A^3$, A 와 B 의 대응 성분별 곱셈 $A*B$, A와 B의 대응 성분별 나눗셈 $A/B$, 성분별 거듭제곱 $A**2$, $A^T$ , $v^T$ , 대각행렬 $diag(1, 2, 3)$의 생성, $D_{11}$, $D_{12}$, $D_{21}$, $D_{22}$를 사용한 블록행렬 $D$의 생성 연산을 수행하고 결과를 출력하는 프로그램을 작성하라."
   ]
  },
  {
   "cell_type": "code",
   "execution_count": 9,
   "metadata": {},
   "outputs": [
    {
     "name": "stdout",
     "output_type": "stream",
     "text": [
      "--- A+B ---\n",
      "3.00\t4.00\t\n",
      "4.00\t7.00\t\n",
      "\n",
      "--- A-B ---\n",
      "-1.00\t0.00\t\n",
      "2.00\t1.00\t\n",
      "\n",
      "--- 3*A  ---\n",
      "3.00\t6.00\t\n",
      "9.00\t12.00\t\n",
      "\n",
      "--- 2*v  ---\n",
      "20.00\t\n",
      "40.00\t\n",
      "\n",
      "--- matmul(A,B) ---\n",
      "4.00\t8.00\t\n",
      "10.00\t18.00\t\n",
      "\n",
      "--- matmul(A,C) ---\n",
      "18.00\t21.00\t24.00\t\n",
      "40.00\t47.00\t54.00\t\n",
      "\n",
      "--- A*v ---\n",
      "10.00\t20.00\t\n",
      "60.00\t80.00\t\n",
      "\n",
      "--- matrix_power(A, 2) ---\n",
      "7.00\t10.00\t\n",
      "15.00\t22.00\t\n",
      "\n",
      "--- matrix_power(A, 3) ---\n",
      "37.00\t54.00\t\n",
      "81.00\t118.00\t\n",
      "\n",
      "--- A*B ---\n",
      "2.00\t4.00\t\n",
      "3.00\t12.00\t\n",
      "\n",
      "--- A/B ---\n",
      "0.50\t1.00\t\n",
      "3.00\t1.33\t\n",
      "\n",
      "--- A**2 == A*A ---\n",
      "1.00\t4.00\t\n",
      "9.00\t16.00\t\n",
      "\n",
      "--- A.T ---\n",
      "1.00\t3.00\t\n",
      "2.00\t4.00\t\n",
      "\n",
      "--- v.T ---\n",
      "10.00\t20.00\t\n",
      "\n",
      "--- diag(1,2,3) = ---\n",
      "1.00\t0.00\t0.00\t\n",
      "0.00\t2.00\t0.00\t\n",
      "0.00\t0.00\t3.00\t\n",
      "\n",
      "--- block matrix ---\n",
      "1.00\t2.00\t5.00\t\n",
      "3.00\t4.00\t6.00\t\n",
      "7.00\t7.00\t8.00\t\n",
      "\n"
     ]
    }
   ],
   "source": [
    "A = np.array([[1., 2.], [3., 4.]])\n",
    "B = np.array([[2., 2.], [1., 3.]])\n",
    "C = np.array([[4., 5., 6.], [7., 8., 9.]])\n",
    "v = np.array([[10.], [20.]])\n",
    "\n",
    "pprint(\"A+B\", A+B) # 행렬의 합 A+B\n",
    "pprint(\"A-B\", A-B) # 행렬의 차 A-B\n",
    "\n",
    "pprint(\"3*A \", 3*A) # 행렬의 스칼라배 3A\n",
    "pprint(\"2*v \", 2*v) # 벡터의 스칼라배 2v\n",
    "\n",
    "pprint(\"matmul(A,B)\", np.matmul(A,B)) # 행렬의 곱 AB\n",
    "pprint(\"matmul(A,C)\", np.matmul(A,C)) # 행렬의 곱 AC\n",
    "pprint(\"A*v\", A*v) # 행렬과 벡터의 곱 Av\n",
    "\n",
    "pprint(\"matrix_power(A, 2)\", np.linalg.matrix_power(A, 2)) # 행렬의 거듭제곱 A2\n",
    "pprint(\"matrix_power(A, 3)\", np.linalg.matrix_power(A, 3)) # 행렬의 거듭제곱 A3\n",
    "\n",
    "pprint(\"A*B\", A*B) # 행렬의 성분별 곱셈 A*B\n",
    "pprint(\"A/B\", A/B) # 행렬의 성분별 나눗셈 A/B\n",
    "pprint(\"A**2 == A*A\", A**2) # 행렬의 성분별 거듭제곱 A**2\n",
    "\n",
    "pprint(\"A.T\", A.T) # 행렬의 전치 AT\n",
    "pprint(\"v.T\", v.T) # 벡터의 전치 vT\n",
    "\n",
    "M = np.diag([1, 2, 3]) # 대각행렬 diag(1,2,3) 생성\n",
    "pprint(\"diag(1,2,3) =\", M)\n",
    "\n",
    "D11 = np.array([[1, 2], [3, 4]])\n",
    "D12 = np.array([[5], [6]])\n",
    "D21 = np.array([[7, 7]])\n",
    "D22 = np.array([[8]])\n",
    "D = np.block([[D11, D12], [D21, D22]]) # 블록행렬 D 생성\n",
    "pprint(\"block matrix\", D)"
   ]
  },
  {
   "cell_type": "markdown",
   "metadata": {},
   "source": [
    "## 4장"
   ]
  },
  {
   "cell_type": "markdown",
   "metadata": {},
   "source": [
    "### 4.1 다음 행렬 A의 역행렬을 구한 다음, 행렬 A와 구한 역행렬의 곱이 단위행렬 I인지 확인하라. 그다음 난수로 3x3 행렬 B를 만들고 그 역행렬을 구한 후，B와 B 의 역행렬을 곱하여 결과를 출력하라. 또한 다음 행렬 C와 D에 대한 행렬방정식 Cx= D의 해를 역행렬을 이용하여 구한 다음, 해가 맞는지 확인하라. "
   ]
  },
  {
   "cell_type": "code",
   "execution_count": 12,
   "metadata": {},
   "outputs": [
    {
     "name": "stdout",
     "output_type": "stream",
     "text": [
      "--- A ---\n",
      "1.00\t2.00\t\n",
      "3.00\t4.00\t\n",
      "\n",
      "--- linalg.matrix_power(A, -1) => Ainv1 ---\n",
      "-2.00\t1.00\t\n",
      "1.50\t-0.50\t\n",
      "\n",
      "--- np.linalg.inv(A) => Ainv2 ---\n",
      "-2.00\t1.00\t\n",
      "1.50\t-0.50\t\n",
      "\n",
      "--- A*Ainv1 ---\n",
      "1.00\t0.00\t\n",
      "0.00\t1.00\t\n",
      "\n",
      "--- A*Ainv2 ---\n",
      "1.00\t0.00\t\n",
      "0.00\t1.00\t\n",
      "\n",
      "--- B = ---\n",
      "0.29\t0.40\t0.50\t\n",
      "0.55\t0.49\t0.21\t\n",
      "0.89\t0.29\t0.99\t\n",
      "\n",
      "--- Binv = ---\n",
      "-2.66\t1.57\t1.01\t\n",
      "2.22\t1.00\t-1.32\t\n",
      "1.73\t-1.71\t0.50\t\n",
      "\n",
      "--- B*Binv = ---\n",
      "1.00\t-0.00\t0.00\t\n",
      "0.00\t1.00\t-0.00\t\n",
      "0.00\t-0.00\t1.00\t\n",
      "\n",
      "--- x ---\n",
      "1.31\t\n",
      "-0.38\t\n",
      "-0.31\t\n",
      "-0.77\t\n",
      "\n",
      "--- C*x ---\n",
      "4.00\t\n",
      "2.00\t\n",
      "5.00\t\n",
      "1.00\t\n",
      "\n"
     ]
    }
   ],
   "source": [
    "A = np.array([[1., 2.], [3., 4.]])\n",
    "pprint(\"A\", A)\n",
    "\n",
    "Ainv1 = np.linalg.matrix_power(A, -1) # matrix_power( )를 사용한 역행렬 A-1 계산\n",
    "pprint(\"linalg.matrix_power(A, -1) => Ainv1\", Ainv1)\n",
    "\n",
    "Ainv2 = np.linalg.inv(A) # inv( )를 사용한 역행렬 A-1 계산\n",
    "pprint(\"np.linalg.inv(A) => Ainv2\", Ainv2)\n",
    "\n",
    "pprint(\"A*Ainv1\", np.matmul(A, Ainv1)) # 행렬 A와 역행렬 A-1의 곱\n",
    "pprint(\"A*Ainv2\", np.matmul(A, Ainv2)) # 행렬 A와 역행렬 A-1의 곱\n",
    "\n",
    "B = np.random.rand(3,3) # 난수를 이용한 3x3 행렬 B 생성\n",
    "pprint(\"B =\", B)\n",
    "Binv = np.linalg.inv(B) # 역행렬 B-1 계산\n",
    "pprint(\"Binv =\", Binv)\n",
    "pprint(\"B*Binv =\", np.matmul(B, Binv)) # 행렬 B와 역행렬 B-1의 곱\n",
    "\n",
    "# CX = D의 해 계산\n",
    "C = np.array([[5, 3, 2, 1], [6, 2, 4, 5], [7, 4, 1, 3], [4, 3, 5, 2]])\n",
    "D = np.array([[4], [2], [5], [1]])\n",
    "x = np.matmul(np.linalg.inv(C), D)\n",
    "pprint(\"x\", x) # 해 x 출력\n",
    "pprint(\"C*x\", np.matmul(C, x)) # C*x의 결과가 D와 같은지 확인\n"
   ]
  },
  {
   "cell_type": "markdown",
   "metadata": {},
   "source": [
    "### 4.2 임의의 크기의 정방행렬 A 를 LU 분해하는 함수 LU(A)를 사용하여 Ax = b의 해를 구하는 프로그램을 작성하라. [프로그래밍 실습 문제 4-1]의 연립선형방정식을 행렬방정식 Ax = b로 간주하고, 작성한 함수로 계수행렬 A 를 LU 분해하여 이 연립선형방정식의 해를 구하라."
   ]
  },
  {
   "cell_type": "code",
   "execution_count": 13,
   "metadata": {},
   "outputs": [
    {
     "name": "stdout",
     "output_type": "stream",
     "text": [
      "--- A ---\n",
      "5.00\t3.00\t2.00\t1.00\t\n",
      "6.00\t2.00\t4.00\t5.00\t\n",
      "7.00\t4.00\t1.00\t3.00\t\n",
      "4.00\t3.00\t5.00\t2.00\t\n",
      "\n",
      "--- L ---\n",
      "1.00\t0.00\t0.00\t0.00\t\n",
      "6.00\t1.00\t0.00\t0.00\t\n",
      "7.00\t1.06\t1.00\t0.00\t\n",
      "4.00\t0.56\t-1.15\t1.00\t\n",
      "\n",
      "--- U ---\n",
      "5.00\t3.00\t2.00\t1.00\t\n",
      "0.00\t-16.00\t-8.00\t-1.00\t\n",
      "0.00\t0.00\t-4.50\t-2.94\t\n",
      "0.00\t0.00\t0.00\t-4.81\t\n",
      "\n",
      "--- x ---\n",
      "-0.06\t\n",
      "1.54\t\n",
      "-0.38\t\n",
      "0.46\t\n",
      "\n"
     ]
    }
   ],
   "source": [
    "#LU 분해 함수\n",
    "def LU(A):\n",
    "    (n,m) = A.shape\n",
    "    L = np.zeros((n,n)) # 행렬 L 초기화\n",
    "    U = np.zeros((n,n)) # 행렬 U 초기화\n",
    "    \n",
    "    # 행렬 L과 U 계산\n",
    "    for i in range(0, n):\n",
    "        for j in range(i, n):\n",
    "            U[i, j] = A[i, j]\n",
    "            for k in range(0, i):\n",
    "                U[i, j] = U[i, j] - L[i, k]*U[k, j]\n",
    "        L[i,i] = 1\n",
    "        if i < n-1:\n",
    "            p = i + 1\n",
    "            for j in range(0,p):\n",
    "                L[p, j] = A[p, j]\n",
    "                for k in range(0, j):\n",
    "                    L[p, j] = L[p, j] - L[p, k]*U[k, j]\n",
    "                    L[p,j] = L[p,j]/U[j,j]\n",
    "    return L, U\n",
    "\n",
    "# LU 분해를 이용한 Ax=b의 해 구하기\n",
    "def LU_solver(A, b):\n",
    "    L, U = LU(A)\n",
    "    n = len(L)\n",
    "    # Ly=b 계산\n",
    "    y = np.zeros((n,1))\n",
    "    for i in range(0,n):\n",
    "        y[i] = b[i]\n",
    "        for k in range(0,i):\n",
    "            y[i] -= y[k]*L[i,k]\n",
    "    # Ux=y 계산\n",
    "    x = np.zeros((n,1))\n",
    "    for i in range(n-1, -1, -1):\n",
    "        x[i] = y[i]\n",
    "        if i < n-1:\n",
    "            for k in range(i+1,n):\n",
    "                x[i] -= x[k]*U[i,k]\n",
    "        x[i] = x[i]/float(U[i,i])\n",
    "    return x\n",
    "\n",
    "A = np.array([[5, 3, 2, 1], [6, 2, 4, 5], [7, 4, 1, 3], [4, 3, 5, 2]])\n",
    "b = np.array([[4], [2], [5], [1]])\n",
    "\n",
    "# 행렬 A의 LU 분해\n",
    "L, U = LU(A)\n",
    "pprint(\"A\", A)\n",
    "pprint(\"L\", L)\n",
    "pprint(\"U\", U)\n",
    "\n",
    "# LU 분해를 이용한 Ax=b의 해 구하기\n",
    "x = LU_solver(A,b)\n",
    "pprint(\"x\", x)"
   ]
  },
  {
   "cell_type": "markdown",
   "metadata": {},
   "source": [
    "# 5장"
   ]
  },
  {
   "cell_type": "markdown",
   "metadata": {},
   "source": [
    "## 5.1 임의의 크기의 정방행렬에 대한 행렬식을 계산하는 프로그램을 작성하고, 이를 이용하여 다음 행렬 A의 행렬식을 구하라."
   ]
  },
  {
   "cell_type": "code",
   "execution_count": 1,
   "metadata": {},
   "outputs": [
    {
     "name": "stdout",
     "output_type": "stream",
     "text": [
      "A =  [[-4  0  2 -1  0]\n",
      " [ 1  3 -3 -1  4]\n",
      " [ 2  0  1  3  0]\n",
      " [-2  1 -3 -1  5]\n",
      " [ 1 -5  1  0  5]]\n",
      "det(A) =  -997.0\n"
     ]
    }
   ],
   "source": [
    "import numpy as np\n",
    "\n",
    "def get_minor_matrix(A,i,j): # 행렬 A의 i행과 j열을 제거하고 만든 행렬 생성\n",
    "    n = len(A)\n",
    "    M = np.zeros((n-1, n-1))\n",
    "    for a in range(0,n-1):\n",
    "        k = a if (a < i) else a+1\n",
    "        for b in range(0, n-1):\n",
    "            l = b if (b < j) else b+1\n",
    "            M[a, b] = A[k, l]\n",
    "    return M\n",
    "\n",
    "def determinant(M): # 행렬식 계산\n",
    "    if len(M) == 2: # 2x2 행렬의 행렬식 계산\n",
    "        return M[0,0]*M[1,1]-M[0,1]*M[1,0]\n",
    "\n",
    "    detVal = 0\n",
    "    for c in range(len(M)):\n",
    "        detVal += ((-1)**c)*M[0,c]*determinant(get_minor_matrix(M,0,c))\n",
    "    return detVal\n",
    "\n",
    "A = np.array([[-4, 0, 2, -1, 0], [1, 3, -3, -1, 4], [2, 0, 1, 3, 0],\n",
    "              [-2, 1, -3, -1, 5], [1, -5, 1, 0, 5]])\n",
    "print(\"A = \", A)\n",
    "print(\"det(A) = \", determinant(A))\n"
   ]
  },
  {
   "cell_type": "markdown",
   "metadata": {},
   "source": [
    "## 5.2 수반행렬을 이용한 역행렬 계산 방법을 구현하여, 다음 행렬 A의 역행렬을 계산하라."
   ]
  },
  {
   "cell_type": "code",
   "execution_count": 2,
   "metadata": {},
   "outputs": [
    {
     "name": "stdout",
     "output_type": "stream",
     "text": [
      "A =  [[-4  0  2 -1  0]\n",
      " [ 1  3 -3 -1  4]\n",
      " [ 2  0  1  3  0]\n",
      " [-2  1 -3 -1  5]\n",
      " [ 1 -5  1  0  5]]\n",
      "A inverse =  [[-0.07321966  0.2106319  -0.03610832 -0.24573721  0.0772317 ]\n",
      " [ 0.16950853  0.26579739  0.09729188 -0.14343029 -0.06920762]\n",
      " [ 0.32397192  0.30090271  0.09127382 -0.35105316  0.11033099]\n",
      " [-0.05917753 -0.24072217  0.32698094  0.28084253 -0.08826479]\n",
      " [ 0.11935807  0.16349047  0.08625878 -0.02407222  0.09327984]]\n"
     ]
    }
   ],
   "source": [
    "import numpy as np\n",
    "\n",
    "def cofactor(A, i, j): # 여인수 계산\n",
    "    (n,m) = A.shape\n",
    "    M = np.zeros((n-1, m-1))\n",
    "    for a in range(0, n-1):\n",
    "        k = a if (a < i) else a+1\n",
    "        for b in range(0, m-1):\n",
    "            l = b if (b < j) else b+1\n",
    "            M[a,b] = A[k, l]\n",
    "\n",
    "    return (-1)**(i+j)*np.linalg.det(M)\n",
    "\n",
    "def inverse_by_adjoint_matrix(A): # 수반행렬을 이용한 A의 역행렬 계산\n",
    "    detA = np.linalg.det(A) # A의 행렬식 계산\n",
    "    (n,m) = A.shape\n",
    "    adjA = np.zeros((n, m))\n",
    "\n",
    "    for i in range(0,n): # 수반행렬 생성\n",
    "        for j in range(0, m):\n",
    "            adjA[j,i] = cofactor(A, i, j)\n",
    "    if detA != 0.0:\n",
    "        return (1./detA) * adjA\n",
    "    else:\n",
    "        return 0\n",
    "    \n",
    "A = np.array([[-4, 0, 2, -1, 0], [1, 3, -3, -1, 4], [2, 0, 1, 3, 0],\n",
    "              [-2, 1, -3, -1, 5], [1, -5, 1, 0, 5]])\n",
    "print(\"A = \", A)\n",
    "\n",
    "Ainv = inverse_by_adjoint_matrix(A)\n",
    "print(\"A inverse = \", Ainv)"
   ]
  },
  {
   "cell_type": "markdown",
   "metadata": {},
   "source": [
    "## 5.3 크래머 공식을 이용하여 연립선형방정식의 해를 구하는 방법을 구현하여, 다음 연립선형방정식의 해를 구하라."
   ]
  },
  {
   "cell_type": "code",
   "execution_count": 6,
   "metadata": {},
   "outputs": [
    {
     "name": "stdout",
     "output_type": "stream",
     "text": [
      "A =  [[ 2 -1  5  1]\n",
      " [ 3  2  2 -6]\n",
      " [ 1  3  3 -1]\n",
      " [ 5 -2 -3  3]]\n",
      "B =  [[ -3]\n",
      " [-32]\n",
      " [-47]\n",
      " [ 49]]\n",
      "X =  [  2. -12.  -4.   1.]\n"
     ]
    }
   ],
   "source": [
    "import numpy as np\n",
    "\n",
    "def solve_by_cramer(A, B): # 크래머 공식을 이용한 연립선형방정식 AX=B의 풀이\n",
    "    X = np.zeros(len(B))\n",
    "    C = np.copy(A)\n",
    "    for i in range(0, len(B)):\n",
    "        for j in range(0, len(B)):\n",
    "            C[j,i] = B[j].item()\n",
    "            if i>0:\n",
    "                C[j,i-1] = A[j,i-1]\n",
    "        X[i] = np.linalg.det(C)/np.linalg.det(A)\n",
    "    return X\n",
    "\n",
    "# AX = B의 해\n",
    "A = np.array([[2,-1,5,1], [3,2,2,-6], [1,3,3,-1], [5,-2,-3,3]])\n",
    "B = np.array([[-3], [-32], [-47], [49]])\n",
    "X = solve_by_cramer(A, B)\n",
    "print(\"A = \", A)\n",
    "print(\"B = \", B)\n",
    "print(\"X = \", X)\n"
   ]
  },
  {
   "cell_type": "markdown",
   "metadata": {},
   "source": [
    "# 6장"
   ]
  },
  {
   "cell_type": "markdown",
   "metadata": {},
   "source": [
    "## 6.1 다음과 같이 방향과 크기가 주어진 $R^2$ 공간의 두 힘을 결합한 힘의 방향과 크기를 구하라."
   ]
  },
  {
   "cell_type": "code",
   "execution_count": 7,
   "metadata": {},
   "outputs": [
    {
     "name": "stdout",
     "output_type": "stream",
     "text": [
      "결합한 힘의 크기 :  212.56671821060448\n",
      "결합한 힘의 방향 :  46.395392948206855\n"
     ]
    }
   ],
   "source": [
    "import numpy as np\n",
    "\n",
    "def get_vector(mag, deg): # 주어진 크기와 방향에 대응하는 벡터 생성\n",
    "    vec = np.zeros(2)\n",
    "    vec[0] = mag*np.cos(deg*2*np.pi/360)\n",
    "    vec[1] = mag*np.sin(deg*2*np.pi/360)\n",
    "    return vec\n",
    "\n",
    "def get_mag_deg(vec): # 벡터의 크기와 방향 계산\n",
    "    mag = np.sqrt(vec[0]*vec[0]+vec[1]*vec[1])\n",
    "    deg = np.arctan(vec[1]/vec[0]) * 360/(2*np.pi)\n",
    "    return mag, deg\n",
    "\n",
    "F1 = get_vector(100, 30) # 크기 100N, 방향 30˚인 힘\n",
    "F2 = get_vector(120, 60) # 크기 120N, 방향 60˚인 힘\n",
    "Fsum = F1 + F2\n",
    "magn, angle = get_mag_deg(Fsum)\n",
    "print(\"결합한 힘의 크기 : \", magn)\n",
    "print(\"결합한 힘의 방향 : \", angle)"
   ]
  },
  {
   "cell_type": "markdown",
   "metadata": {},
   "source": [
    "## 6.2 다음 벡터 A, B 의 사잇각과, A 의 B 위로의 정사영을 구하라."
   ]
  },
  {
   "cell_type": "code",
   "execution_count": 8,
   "metadata": {},
   "outputs": [
    {
     "name": "stdout",
     "output_type": "stream",
     "text": [
      "A와 B의 사잇각 :  [[7.52871961]]\n",
      "A의 B 위로의 정사영 : \n",
      " [[ 0.09090909]\n",
      " [-0.09090909]\n",
      " [ 0.27272727]]\n"
     ]
    }
   ],
   "source": [
    "import numpy as np\n",
    "\n",
    "def angle_to_vectors(v, w): # 두 벡터의 사잇각 계산\n",
    "    vnorm = np.linalg.norm(v)\n",
    "    wnorm = np.linalg.norm(w)\n",
    "    vwdot = np.dot(v.T, w)\n",
    "    angle = np.arctan(vwdot/(vnorm*wnorm))*360/np.pi\n",
    "    return angle\n",
    "\n",
    "def orth_proj(u, x): # 정사영 계산\n",
    "    xu_dot = np.dot(x.T, u)\n",
    "    uu_dot = np.dot(u.T, u)\n",
    "    projux = (xu_dot/uu_dot)*u\n",
    "    return projux\n",
    "\n",
    "A = np.array([[2], [4], [1]])\n",
    "B = np.array([[1], [-1], [3]])\n",
    "angle = angle_to_vectors(A, B)\n",
    "projAB = orth_proj(B, A)\n",
    "print(\"A와 B의 사잇각 : \", angle)\n",
    "print(\"A의 B 위로의 정사영 : \\n\", projAB)\n"
   ]
  },
  {
   "cell_type": "markdown",
   "metadata": {},
   "source": [
    "## 6.3 다음의 네 점 A, B, C, D 에 대해, 선분 $\\overline{AB}$, $\\overline{AC}$, $\\overline{AD}$ 로 만들어지는 평행육면체의 부피를 구하라."
   ]
  },
  {
   "cell_type": "code",
   "execution_count": 9,
   "metadata": {},
   "outputs": [
    {
     "name": "stdout",
     "output_type": "stream",
     "text": [
      "부피 :  9.000000000000002\n"
     ]
    }
   ],
   "source": [
    "import numpy as np\n",
    "\n",
    "def triple_product(u, v, w): # 스칼라 삼중적 u ․ (v × w) 계산\n",
    "    M = np.zeros((3,3))\n",
    "    M[0:] = u\n",
    "    M[1:] = v\n",
    "    M[2:] = w\n",
    "    val = np.linalg.det(M) # 행벡터가 u, v, w인 행렬의 행렬식 계산\n",
    "    return val\n",
    "\n",
    "A = np.array([1, 2, 3])\n",
    "B = np.array([0, 5, 2])\n",
    "C = np.array([2, 2, 4])\n",
    "D = np.array([2, 4, 1])\n",
    "u = B-A\n",
    "v = C-A\n",
    "w = D-A\n",
    "val = triple_product(u, v, w)\n",
    "print(\"부피 : \", np.absolute(val))\n"
   ]
  },
  {
   "cell_type": "markdown",
   "metadata": {},
   "source": [
    "## 6.4 다음과 같은 점 A 를 포함하고 법선벡터가 W 인 평면과 점 P 사이의 거리를 계산하라(A=(2,3,4), W=(1,2,3), P=(0,1,2))"
   ]
  },
  {
   "cell_type": "code",
   "execution_count": 10,
   "metadata": {},
   "outputs": [
    {
     "name": "stdout",
     "output_type": "stream",
     "text": [
      "거리 :  3.2071349029490928\n"
     ]
    }
   ],
   "source": [
    "import numpy as np\n",
    "\n",
    "def dist_pt_to_pl(A, W, P): # 거리 계산\n",
    "    num = np.dot((P-A).T, W)\n",
    "    deno = np.linalg.norm(W)\n",
    "    val = np.absolute(num)/deno\n",
    "    return val\n",
    "\n",
    "A = np.array([2, 3, 4])\n",
    "W = np.array([1, 2, 3])\n",
    "P = np.array([0, 1, 2])\n",
    "print(\"거리 : \", dist_pt_to_pl(A, W, P))\n"
   ]
  }
 ],
 "metadata": {
  "kernelspec": {
   "display_name": ".venv",
   "language": "python",
   "name": "python3"
  },
  "language_info": {
   "codemirror_mode": {
    "name": "ipython",
    "version": 3
   },
   "file_extension": ".py",
   "mimetype": "text/x-python",
   "name": "python",
   "nbconvert_exporter": "python",
   "pygments_lexer": "ipython3",
   "version": "3.12.1"
  }
 },
 "nbformat": 4,
 "nbformat_minor": 2
}
