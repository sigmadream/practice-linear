{
 "cells": [
  {
   "cell_type": "markdown",
   "metadata": {},
   "source": [
    "# 프로그래밍 실습"
   ]
  },
  {
   "cell_type": "markdown",
   "metadata": {},
   "source": [
    "## 1장"
   ]
  },
  {
   "cell_type": "markdown",
   "metadata": {},
   "source": [
    "### 1.1 정수를 입력받아서 합을 계산하는 함수 `calc`를 작성하라."
   ]
  },
  {
   "cell_type": "code",
   "execution_count": 2,
   "metadata": {},
   "outputs": [],
   "source": [
    "def calc(n):\n",
    "    sum = 0\n",
    "    for i in range(0, n+1):\n",
    "        sum += i\n",
    "    return sum"
   ]
  },
  {
   "cell_type": "code",
   "execution_count": 3,
   "metadata": {},
   "outputs": [
    {
     "data": {
      "text/plain": [
       "55"
      ]
     },
     "execution_count": 3,
     "metadata": {},
     "output_type": "execute_result"
    }
   ],
   "source": [
    "calc(10)"
   ]
  },
  {
   "cell_type": "markdown",
   "metadata": {},
   "source": [
    "### 1.2 다음과 같은 행렬 `A` 와 벡터 `v`를 파이썬으로 정의하고, 이를 출력하는 프로그램을 작성하라."
   ]
  },
  {
   "cell_type": "code",
   "execution_count": 4,
   "metadata": {},
   "outputs": [
    {
     "name": "stdout",
     "output_type": "stream",
     "text": [
      "A = [[1 2 3]\n",
      " [4 5 6]\n",
      " [7 8 9]]\n",
      "v = [[1]\n",
      " [2]\n",
      " [3]]\n"
     ]
    }
   ],
   "source": [
    "import numpy as np\n",
    "\n",
    "A = np.array([[1,2,3], [4,5,6], [7,8,9]])\n",
    "v = np.array([[1], [2], [3]])\n",
    "\n",
    "print(f\"A = {A}\")\n",
    "print(f\"v = {v}\")"
   ]
  },
  {
   "cell_type": "markdown",
   "metadata": {},
   "source": [
    "### 1.3 다음과 같은 행렬과 벡터들의 크기를 출력하는 프로그램을 작성하라.\n",
    "\n",
    "$$\n",
    "A = \n",
    "\\begin{matrix}\n",
    "\\left[\\begin{array}{ccc} 1 & 2 & 3 \\\\ 4 & 5 & 6 \\\\ 7 & 8 & 9 \\end{array}\\right]\n",
    "\\end{matrix}\n",
    ",\n",
    "v = \n",
    "\\begin{matrix}\n",
    "\\left[\\begin{array}{c} 1 \\\\ 2 \\\\ 3 \\end{array}\\right]\n",
    "\\end{matrix}\n",
    ",\n",
    "w = \\begin{matrix}\n",
    "\\left[\\begin{array}{c} 1 & 2 & 3 \\end{array}\\right]\n",
    "\\end{matrix}\n",
    ",\n",
    "B = \n",
    "\\begin{matrix}\n",
    "\\left[\\begin{array}{cc} 1 & 2 & 3\\\\ 4 & 5 & 6 \\end{array}\\right]\n",
    "\\end{matrix}\n",
    "$$"
   ]
  },
  {
   "cell_type": "code",
   "execution_count": 5,
   "metadata": {},
   "outputs": [
    {
     "name": "stdout",
     "output_type": "stream",
     "text": [
      "A = [[1 2 3]\n",
      " [4 5 6]\n",
      " [7 8 9]]\n",
      "A.shape = (3, 3)\n",
      "v = [[1]\n",
      " [2]\n",
      " [3]]\n",
      "v.shape = (3, 1)\n",
      "w = [1 2 3]\n",
      "w.shape = (3,)\n",
      "B = [[1 2 3]\n",
      " [4 5 6]]\n",
      "B.shape = (2, 3)\n"
     ]
    }
   ],
   "source": [
    "A = np.array([[1,2,3], [4,5,6], [7,8,9]])\n",
    "print(f\"A = {A}\")\n",
    "print(f\"A.shape = {A.shape}\")\n",
    "\n",
    "v = np.array([[1], [2], [3]])\n",
    "print(f\"v = {v}\")\n",
    "print(f\"v.shape = {v.shape}\")\n",
    "\n",
    "w = np.array([1, 2, 3])\n",
    "print(f\"w = {w}\")\n",
    "print(f\"w.shape = {w.shape}\")\n",
    "\n",
    "B = np.array([[1,2,3], [4,5,6]])\n",
    "print(f\"B = {B}\")\n",
    "print(f\"B.shape = {B.shape}\")"
   ]
  },
  {
   "cell_type": "markdown",
   "metadata": {},
   "source": [
    "## 2장"
   ]
  },
  {
   "cell_type": "markdown",
   "metadata": {},
   "source": [
    "### 2.1 $2 \\times 3$ 영행렬, 모든 성분이 1인 $2 \\times 2$ 행렬, 모든 성분이 3인 $3 \\times 2$ 행렬, $2 \\times 2$ 단위행렬을 만들어 출력하는 프로그램을 작성하라."
   ]
  },
  {
   "cell_type": "code",
   "execution_count": 6,
   "metadata": {},
   "outputs": [
    {
     "name": "stdout",
     "output_type": "stream",
     "text": [
      "a = [[0. 0. 0.]\n",
      " [0. 0. 0.]]\n",
      "b = [[1. 1.]\n",
      " [1. 1.]]\n",
      "c = [[3 3]\n",
      " [3 3]\n",
      " [3 3]]\n",
      "d = [[1. 0.]\n",
      " [0. 1.]]\n"
     ]
    }
   ],
   "source": [
    "a = np.zeros((2,3))\n",
    "print(f\"a = {a}\")\n",
    "\n",
    "b = np.ones((2,2))\n",
    "print(f\"b = {b}\")\n",
    "\n",
    "c = np.full((3,2),3)\n",
    "print(f\"c = {c}\")\n",
    "\n",
    "d = np.eye(2)\n",
    "print(f\"d = {d}\")"
   ]
  },
  {
   "cell_type": "markdown",
   "metadata": {},
   "source": [
    "### 2.2 가우스-조단 소거법을 수행하는 gauss( )라는 함수를 정의하고, 이 함수를 이용하여 다음 연립선형방정식의 해를 구하라. gauss(A)의 입력으로 주어지는 A는 주어진 연립선형방정 식에 대한 첨가행렬이다.\n",
    "\n",
    "$$\n",
    "\\begin{matrix}\n",
    "2x_1 + 2x_2 + 4x_3 & = & 18 \\\\\n",
    "x_1 + 3x_2 + 2x_3 & = & 13 \\\\\n",
    "3x_1 + x_2 + 3x_3 & = & 14 \\\\\n",
    "\\end{matrix}\n",
    "$$"
   ]
  },
  {
   "cell_type": "code",
   "execution_count": 7,
   "metadata": {},
   "outputs": [
    {
     "name": "stdout",
     "output_type": "stream",
     "text": [
      "--- 주어진 문제 ---\n",
      "2.00\t2.00\t4.00\t| 18.00\t\n",
      "1.00\t3.00\t2.00\t| 13.00\t\n",
      "3.00\t1.00\t3.00\t| 14.00\t\n",
      "\n",
      "--- 1번째 반복 ---\n",
      "1.00\t0.33\t1.00\t| 4.67\t\n",
      "0.00\t2.67\t1.00\t| 8.33\t\n",
      "0.00\t1.33\t2.00\t| 8.67\t\n",
      "\n",
      "--- 2번째 반복 ---\n",
      "1.00\t0.00\t0.88\t| 3.63\t\n",
      "0.00\t1.00\t0.38\t| 3.12\t\n",
      "0.00\t0.00\t1.50\t| 4.50\t\n",
      "\n",
      "--- 3번째 반복 ---\n",
      "1.00\t0.00\t0.00\t| 1.00\t\n",
      "0.00\t1.00\t0.00\t| 2.00\t\n",
      "0.00\t0.00\t1.00\t| 3.00\t\n",
      "\n",
      "해:\t1.00\t2.00\t3.00\t\n"
     ]
    }
   ],
   "source": [
    "def pprint(msg, A):\n",
    "    print(\"---\", msg, \"---\")\n",
    "    (n,m) = A.shape\n",
    "    for i in range(0, n):\n",
    "        line = \"\"\n",
    "        for j in range(0, m):\n",
    "            line += \"{0:.2f}\".format(A[i,j]) + \"\\t\"\n",
    "            if j == n-1:\n",
    "                line += \"| \"\n",
    "        print(line)\n",
    "    print(\"\")\n",
    "    \n",
    "def gauss(A):\n",
    "    (n,m) = A.shape\n",
    "\n",
    "    for i in range(0, min(n,m)):\n",
    "        # i번째 열에서 절댓값이 최대인 성분의 행 선택\n",
    "        maxEl = abs(A[i,i])\n",
    "        maxRow = i\n",
    "        for k in range(i+1, n):\n",
    "            if abs(A[k,i]) > maxEl:\n",
    "                maxEl = abs(A[k,i])\n",
    "                maxRow = k\n",
    "\n",
    "        # 현재 i번째 행과 최댓값을 갖는 행 maxRow의 교환\n",
    "        for k in range(i, m):\n",
    "            tmp = A[maxRow,k]\n",
    "            A[maxRow,k] = A[i,k]\n",
    "            A[i,k] = tmp\n",
    "\n",
    "        # 추축성분을 1로 만들기\n",
    "        piv = A[i,i]\n",
    "        for k in range(i, m):\n",
    "            A[i,k] = A[i,k]/piv\n",
    "\n",
    "        # 현재 i번째 열의 i번째 행을 제외한 모두 성분을 0으로 만들기\n",
    "        for k in range(0, n):\n",
    "            if k != i:\n",
    "                c = A[k,i]/A[i,i]\n",
    "                for j in range(i, m):\n",
    "                    if i == j:\n",
    "                        A[k,j] = 0\n",
    "                    else:\n",
    "                        A[k,j] = A[k,j] - c * A[i,j]\n",
    "\n",
    "        pprint(str(i+1)+\"번째 반복\", A) # 중간 과정 출력\n",
    "\n",
    "    # Ax=b의 해 반환\n",
    "    x = np.zeros(m-1)\n",
    "    for i in range(0,m-1):\n",
    "        x[i] = A[i,m-1]\n",
    "    return x\n",
    "\n",
    "# 주어진 연립선형방정식에 대한 첨가행렬\n",
    "A = np.array([[2., 2., 4., 18.], [1., 3., 2., 13.], [3., 1., 3., 14.]])\n",
    "\n",
    "pprint(\"주어진 문제\", A) # 첨가행렬 출력\n",
    "x = gauss(A) # 가우스-조단 소거법 적용\n",
    "\n",
    "# 출력 생성\n",
    "(n,m) = A.shape\n",
    "line = \"해:\\t\"\n",
    "for i in range(0, m-1):\n",
    "    line += \"{0:.2f}\".format(x[i]) + \"\\t\"\n",
    "print(line)"
   ]
  },
  {
   "cell_type": "markdown",
   "metadata": {},
   "source": [
    "## 3장"
   ]
  },
  {
   "cell_type": "markdown",
   "metadata": {},
   "source": []
  },
  {
   "cell_type": "markdown",
   "metadata": {},
   "source": [
    "### 3.1 다음 벡터 $v_1$ , $v_2$, $v_3$를 행으로 하는 행렬 A와 열로 하는 행렬 B 를 이들 벡터를 사용하여 만들고, 행렬 $C$ 에 $v_3$를 열로 추가하여 행렬 $D$를 만들어라. 또한 행렬 $E$의 1행 4열의 성분, 2 행 3열의 성분, 1~2 행의 3열에 해당하는 부분행렬, 1~2행의 3~4열에 해당하는 부분행렬, 3행에 해당하는 부분행렬을 출력하라. 마지막으로 행렬 $E$의 1행 1열의 성분을 -1로 변경하고 행렬 $E$를 출력하라."
   ]
  },
  {
   "cell_type": "code",
   "execution_count": 8,
   "metadata": {},
   "outputs": [
    {
     "name": "stdout",
     "output_type": "stream",
     "text": [
      "벡터의 결합에 의한 행렬 생성\n",
      "A = [[1 2 3]\n",
      " [4 5 6]\n",
      " [7 8 9]]\n",
      "B = [[1 4 7]\n",
      " [2 5 8]\n",
      " [3 6 9]]\n",
      "C = [[1 2]\n",
      " [3 4]\n",
      " [5 6]]\n",
      "D = [[1 2 7]\n",
      " [3 4 8]\n",
      " [5 6 9]]\n",
      "행렬의 성분 접근\n",
      "E[0,3] = 4\n",
      "E[1,2] = 7\n",
      "E[0:2, 2] = [3 7]\n",
      "E[0:2, 2:4] = [[3 4]\n",
      " [7 8]]\n",
      "E[2, :] = [ 9 10 11 12]\n",
      "성분의 변경\n",
      "E = [[ 1  2  3  4]\n",
      " [ 5  6  7  8]\n",
      " [ 9 10 11 12]]\n",
      "E[0,0] =  1\n",
      "[[-1  2  3  4]\n",
      " [ 5  6  7  8]\n",
      " [ 9 10 11 12]]\n",
      "E[0,0] =  -1\n"
     ]
    }
   ],
   "source": [
    "print(\"벡터의 결합에 의한 행렬 생성\")\n",
    "v1 = np.array([1, 2, 3])\n",
    "v2 = np.array([4, 5, 6])\n",
    "v3 = np.array([7, 8, 9])\n",
    "\n",
    "A = np.vstack([v1, v2, v3]) # v1, v2, v3를 각각 행으로 하는 행렬 A 생성\n",
    "print(\"A =\", A)\n",
    "\n",
    "B = np.column_stack([v1, v2, v3]) # v1, v2, v3를 각각 열로 하는 행렬 B 생성\n",
    "print(\"B =\", B)\n",
    "\n",
    "C = np.array([[1, 2], [3, 4], [5, 6]])\n",
    "print(\"C =\", C)\n",
    "\n",
    "D = np.column_stack([C, v3]) # 행렬 C에 v3를 열로 추가하여 행렬 D 생성\n",
    "print(\"D =\", D)\n",
    "\n",
    "print(\"행렬의 성분 접근\")\n",
    "E = np.array([[1, 2, 3, 4], [5, 6, 7, 8], [9, 10, 11, 12]])\n",
    "\n",
    "print(\"E[0,3] =\", E[0,3]) # 1행 4열의 성분\n",
    "print(\"E[1,2] =\", E[1,2]) # 2행 3열의 성분\n",
    "\n",
    "print(\"E[0:2, 2] =\", E[0:2, 2]) # E의 1~2행의 3열에 해당하는 부분행렬\n",
    "print(\"E[0:2, 2:4] =\", E[0:2, 2:4]) # E의 1~2행의 3~4열에 해당하는 부분행렬\n",
    "print(\"E[2, :] =\", E[2, :]) # E의 3행에 해당하는 부분행렬\n",
    "\n",
    "print(\"성분의 변경\")\n",
    "print(\"E =\", E)\n",
    "\n",
    "print(\"E[0,0] = \", E[0, 0])\n",
    "E[0, 0] = -1 # E의 1행 1열 성분을 -1로 변경\n",
    "print(E)\n",
    "print(\"E[0,0] = \", E[0, 0])\n"
   ]
  },
  {
   "cell_type": "markdown",
   "metadata": {},
   "source": [
    "### 3.2 다음과 같은 행렬과 벡터를 이용하여 $A + B$, $A - B$, $3A$, $2v$, $AB$, $AC$, $Av$, $A^2$, $A^3$, A 와 B 의 대응 성분별 곱셈 $A*B$, A와 B의 대응 성분별 나눗셈 $A/B$, 성분별 거듭제곱 $A**2$, $A^T$ , $v^T$ , 대각행렬 $diag(1, 2, 3)$의 생성, $D_{11}$, $D_{12}$, $D_{21}$, $D_{22}$를 사용한 블록행렬 $D$의 생성 연산을 수행하고 결과를 출력하는 프로그램을 작성하라."
   ]
  },
  {
   "cell_type": "code",
   "execution_count": 10,
   "metadata": {},
   "outputs": [
    {
     "name": "stdout",
     "output_type": "stream",
     "text": [
      "--- A+B ---\n",
      "3.00\t4.00\t\n",
      "4.00\t7.00\t\n",
      "\n",
      "--- A-B ---\n",
      "-1.00\t0.00\t\n",
      "2.00\t1.00\t\n",
      "\n",
      "--- 3*A  ---\n",
      "3.00\t6.00\t\n",
      "9.00\t12.00\t\n",
      "\n",
      "--- 2*v  ---\n",
      "20.00\t\n",
      "40.00\t\n",
      "\n",
      "--- matmul(A,B) ---\n",
      "4.00\t8.00\t\n",
      "10.00\t18.00\t\n",
      "\n",
      "--- matmul(A,C) ---\n",
      "18.00\t21.00\t24.00\t\n",
      "40.00\t47.00\t54.00\t\n",
      "\n",
      "--- A*v ---\n",
      "10.00\t20.00\t\n",
      "60.00\t80.00\t\n",
      "\n",
      "--- matrix_power(A, 2) ---\n",
      "7.00\t10.00\t\n",
      "15.00\t22.00\t\n",
      "\n",
      "--- matrix_power(A, 3) ---\n",
      "37.00\t54.00\t\n",
      "81.00\t118.00\t\n",
      "\n",
      "--- A*B ---\n",
      "2.00\t4.00\t\n",
      "3.00\t12.00\t\n",
      "\n",
      "--- A/B ---\n",
      "0.50\t1.00\t\n",
      "3.00\t1.33\t\n",
      "\n",
      "--- A**2 == A*A ---\n",
      "1.00\t4.00\t\n",
      "9.00\t16.00\t\n",
      "\n",
      "--- A.T ---\n",
      "1.00\t3.00\t\n",
      "2.00\t4.00\t\n",
      "\n",
      "--- v.T ---\n",
      "10.00\t20.00\t\n",
      "\n",
      "--- diag(1,2,3) = ---\n",
      "1.00\t0.00\t0.00\t\n",
      "0.00\t2.00\t0.00\t\n",
      "0.00\t0.00\t3.00\t\n",
      "\n",
      "--- block matrix ---\n",
      "1.00\t2.00\t5.00\t\n",
      "3.00\t4.00\t6.00\t\n",
      "7.00\t7.00\t8.00\t\n",
      "\n"
     ]
    }
   ],
   "source": [
    "# 행렬 A를 출력하는 함수\n",
    "def pprint(msg, A):\n",
    "    print(\"---\", msg, \"---\")\n",
    "    (n,m) = A.shape\n",
    "    for i in range(0, n):\n",
    "        line = \"\"\n",
    "        for j in range(0, m):\n",
    "            line += \"{0:.2f}\".format(A[i,j]) + \"\\t\"\n",
    "        print(line)\n",
    "    print(\"\")\n",
    "    \n",
    "A = np.array([[1., 2.], [3., 4.]])\n",
    "B = np.array([[2., 2.], [1., 3.]])\n",
    "C = np.array([[4., 5., 6.], [7., 8., 9.]])\n",
    "v = np.array([[10.], [20.]])\n",
    "\n",
    "pprint(\"A+B\", A+B) # 행렬의 합 A+B\n",
    "pprint(\"A-B\", A-B) # 행렬의 차 A-B\n",
    "\n",
    "pprint(\"3*A \", 3*A) # 행렬의 스칼라배 3A\n",
    "pprint(\"2*v \", 2*v) # 벡터의 스칼라배 2v\n",
    "\n",
    "pprint(\"matmul(A,B)\", np.matmul(A,B)) # 행렬의 곱 AB\n",
    "pprint(\"matmul(A,C)\", np.matmul(A,C)) # 행렬의 곱 AC\n",
    "pprint(\"A*v\", A*v) # 행렬과 벡터의 곱 Av\n",
    "\n",
    "pprint(\"matrix_power(A, 2)\", np.linalg.matrix_power(A, 2)) # 행렬의 거듭제곱 A2\n",
    "pprint(\"matrix_power(A, 3)\", np.linalg.matrix_power(A, 3)) # 행렬의 거듭제곱 A3\n",
    "\n",
    "pprint(\"A*B\", A*B) # 행렬의 성분별 곱셈 A*B\n",
    "pprint(\"A/B\", A/B) # 행렬의 성분별 나눗셈 A/B\n",
    "pprint(\"A**2 == A*A\", A**2) # 행렬의 성분별 거듭제곱 A**2\n",
    "\n",
    "pprint(\"A.T\", A.T) # 행렬의 전치 AT\n",
    "pprint(\"v.T\", v.T) # 벡터의 전치 vT\n",
    "\n",
    "M = np.diag([1, 2, 3]) # 대각행렬 diag(1,2,3) 생성\n",
    "pprint(\"diag(1,2,3) =\", M)\n",
    "\n",
    "D11 = np.array([[1, 2], [3, 4]])\n",
    "D12 = np.array([[5], [6]])\n",
    "D21 = np.array([[7, 7]])\n",
    "D22 = np.array([[8]])\n",
    "D = np.block([[D11, D12], [D21, D22]]) # 블록행렬 D 생성\n",
    "pprint(\"block matrix\", D)"
   ]
  }
 ],
 "metadata": {
  "kernelspec": {
   "display_name": ".venv",
   "language": "python",
   "name": "python3"
  },
  "language_info": {
   "codemirror_mode": {
    "name": "ipython",
    "version": 3
   },
   "file_extension": ".py",
   "mimetype": "text/x-python",
   "name": "python",
   "nbconvert_exporter": "python",
   "pygments_lexer": "ipython3",
   "version": "3.12.1"
  }
 },
 "nbformat": 4,
 "nbformat_minor": 2
}
