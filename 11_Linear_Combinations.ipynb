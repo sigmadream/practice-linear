{
 "cells": [
  {
   "cell_type": "markdown",
   "metadata": {},
   "source": [
    "# 선형 결합"
   ]
  },
  {
   "cell_type": "markdown",
   "metadata": {},
   "source": [
    "선형대수학의 많은 아이디어의 핵심은 벡터의 **선형 조합(linear combination)** 이라는 개념입니다. 벡터 집합 $\\{V_1, V_2, V_3, ... V_n\\}$ 벡터 집합에서 선형 조합을 만들려면 덧셈과 스칼라 곱셈이라는 두 가지 대수 연산을 사용합니다. 스칼라를 나타내기 위해 $a_1, a_2, ..., a_n$ 기호를 사용하면 선형 조합은 다음과 같이 보입니다.\n",
    "\n",
    "$$\n",
    "\\begin{matrix}\n",
    "a_1V_1 + a_2V_2 + a_3V_3 + .... + a_nV_n\n",
    "\\end{matrix}\n",
    "$$\n",
    "\n",
    "스칼라 $a_1, a_2, ..., a_n$을 **가중치(weights)** 라고 부르기도 합니다.\n",
    "\n",
    "구체적인 예를 들기 위해 벡터를 정의해 보겠습니다.\n",
    "\n",
    "$$\n",
    "\\begin{matrix}\n",
    "V_1 = \\left[ \\begin{array}{r} 2 \\\\ -2 \\\\ 1 \\end{array}\\right] \\hspace{1cm} \n",
    "V_2 = \\left[ \\begin{array}{r} 1 \\\\  0 \\\\ -1  \\end{array}\\right] \\hspace{1cm}\n",
    "V_3 = \\left[ \\begin{array}{r} 0 \\\\ -1 \\\\  6 \\end{array}\\right]\n",
    "\\end{matrix}\n",
    "$$\n",
    "\n",
    "이제 $3V_1 + 2V_2 +4V_3$, $V_1-V_2+V_3$, $3V_2 -V_3$는 모두 벡터 집합 $\\{V_1, V_2, V_3\\}$의 선형 조합의 예이며, 필요한 경우 명시적으로 계산할 수 있습니다.\n",
    "\n",
    "$$\n",
    "\\begin{matrix}\n",
    "3V_1+ 2V_2+ 4V_3 = 3\\left[ \\begin{array}{r} 2 \\\\ -2 \\\\ 1 \\end{array}\\right] \n",
    "+2 \\left[ \\begin{array}{r} 1 \\\\  0 \\\\ -1  \\end{array}\\right]\n",
    "+4 \\left[ \\begin{array}{r} 0 \\\\ -1 \\\\  6 \\end{array}\\right] = \n",
    "\\left[ \\begin{array}{r} 8 \\\\ -10 \\\\  25 \\end{array}\\right]\n",
    "\\end{matrix}\n",
    "$$\n"
   ]
  },
  {
   "cell_type": "markdown",
   "metadata": {},
   "source": [
    "벡터의 선형 조합 개념은 선형 방정식 시스템을 푸는 문제를 재해석하는 데 사용할 수 있습니다.  다음 시스템을 고려해 보겠습니다.\n",
    "\n",
    "$$\n",
    "\\begin{matrix}\n",
    "x_1 + 2x_2  & = & 0\\\\\n",
    "3x_1 - x_2  & = & 14 \\\\\n",
    "\\end{matrix}\n",
    "$$\n",
    "\n",
    "행렬 곱셈을 사용하여 이 시스템을 작성하는 방법에 대해서는 이미 설명했습니다.\n",
    "\n",
    "$$\n",
    "\\begin{matrix}\n",
    "\\left[ \\begin{array}{cc} 1 & 2 \\\\ 3 & -1 \\end{array}\\right]\n",
    "\\left[ \\begin{array}{c} x_1 \\\\ x_2 \\end{array}\\right]=\n",
    "\\left[ \\begin{array}{c} 0 \\\\ 14 \\end{array}\\right]\n",
    "\\end{matrix}\n",
    "$$\n",
    "\n",
    "또한 이 행렬 방정식을 벡터 방정식으로 표현하는 방법도 살펴봤습니다.\n",
    "\n",
    "$$\n",
    "\\begin{matrix}\n",
    "x_1\\left[ \\begin{array}{r} 1 \\\\ 3 \\end{array}\\right] +\n",
    "x_2\\left[ \\begin{array}{r} 2 \\\\ -1  \\end{array}\\right] =\n",
    "\\left[ \\begin{array}{r} 0 \\\\ 14  \\end{array}\\right]\n",
    "\\end{matrix}\n",
    "$$\n",
    "\n",
    "이제 계수 행렬의 열을 벡터로 간주하면 선형 조합에 대한 연결이 명확해집니다.  선형 방정식 시스템의 해를 구하는 것은 방정식의 오른쪽에 있는 벡터와 일치하는 이러한 열 벡터의 *선형 조합*을 찾는 것과 같습니다.  "
   ]
  },
  {
   "cell_type": "markdown",
   "metadata": {},
   "source": [
    "## Spans\n",
    "\n",
    "선형 결합의 집합을 설명하는 용어를 소개하는 것입니다. \n",
    "\n",
    "벡터 집합 $\\{V_1, V_2, V_3, ...\\}$의 **span**. $\\{V_n\\}$은 이 집합에서 가능한 모든 벡터의 선형 결합의 집합입니다. 모든 계수 $a_1, a_2, ..., a_n$에 대해 벡터 $a_1V_1 + a_2V_2 + a_3V_3 + ..... + a_nV_n$ 는 $\\{V_1, V_2, V_3, ... V_n\\}$.\n",
    "\n",
    "우리는 주어진 선형 시스템이 해를 갖는지 결정하려고 할 때, 선형 시스템과 벡터의 선형 결합 사이의 직접적인 연관성을 감안하자면 주어진 벡터, 예를 들어 $B$가 어떤 벡터 집합 $\\{V_1, V_2, V_3, ... V_n\\}$입니다. $B$가 $\\{V_1, V_2, V_3, ... V_n\\}$의 범위에 있는지 확인하려고 한다고 말할 수 있습니다. \n",
    "\n",
    "$\\{V_n\\}$의 범위에 있는지 확인하려고 합니다."
   ]
  },
  {
   "cell_type": "markdown",
   "metadata": {},
   "source": [
    "## 예제 1:  Span in $\\mathbb{R}^4$\n",
    "\n",
    "이제 선형 시스템의 경험을 사용해서 선형 결합의 범위를 찾는 데 적용할 수 있습니다.  \n",
    "\n",
    "다음 정의가 주어졌을 때 $B$가 $\\{V_1, V_2, V_3\\}$의 범위에 있는지 확인하려고 한다고 가정해 보겠습니다.\n",
    "\n",
    "$$\n",
    "\\begin{matrix}\n",
    "V_1 = \\left[ \\begin{array}{r} 2 \\\\ -1 \\\\ 0 \\\\ 3 \\end{array}\\right] \\hspace{1cm}\n",
    "V_2 = \\left[ \\begin{array}{r} 2 \\\\ 2 \\\\ 6 \\\\ -4  \\end{array}\\right] \\hspace{1cm} \n",
    "V_3 = \\left[ \\begin{array}{r} -1 \\\\ -1 \\\\ -1 \\\\ 0 \\end{array}\\right] \\hspace{1cm}\n",
    "B = \\left[ \\begin{array}{r}  4 \\\\ -2 \\\\ 4 \\\\ 2 \\end{array}\\right]\n",
    "\\end{matrix}\n",
    "$$\n",
    "\n",
    "다음 벡터 방정식이 참인 숫자 $a_1$, $a_2$, $a_3$이 있는지 확인해야 합니다.\n",
    "\n",
    "$$\n",
    "\\begin{matrix}\n",
    "a_1\\left[ \\begin{array}{r} 2 \\\\ -1 \\\\ 0 \\\\ 3 \\end{array}\\right]+\n",
    "a_2\\left[ \\begin{array}{r} 2 \\\\ 2 \\\\ 6 \\\\ -4  \\end{array}\\right] +\n",
    "a_3\\left[ \\begin{array}{r} -1 \\\\ -1 \\\\ -1 \\\\ 0 \\end{array}\\right] =\n",
    "\\left[ \\begin{array}{r}  4 \\\\ -2 \\\\ 4 \\\\ 2 \\end{array}\\right]\n",
    "\\end{matrix}\n",
    "$$\n",
    "\n",
    "이 벡터 방정식은 다음 선형 시스템이 일관성이 있는지 확인하는 것과 같습니다.\n",
    "\n",
    "$$\n",
    "\\begin{matrix}\n",
    "2a_1 + 2a_2 - a_3 & = & 4\\\\\n",
    "-a_1 + 2a_2 - a_3 & = & -2\\\\\n",
    "\\quad\\quad 6a_2 - a_3 & = & 4 \\\\\n",
    "3a_1 -4a_2 \\quad\\quad & = & 2\n",
    "\\end{matrix}\n",
    "$$"
   ]
  },
  {
   "cell_type": "code",
   "execution_count": 3,
   "metadata": {},
   "outputs": [
    {
     "name": "stdout",
     "output_type": "stream",
     "text": [
      "Pivot could not be found in column 3 .\n",
      "[[ 1.   1.  -0.5  2. ]\n",
      " [ 0.   1.  -0.5  0. ]\n",
      " [ 0.   0.   1.   2. ]\n",
      " [ 0.   0.   0.   0. ]]\n"
     ]
    }
   ],
   "source": [
    "import numpy as np\n",
    "import linear_solver as ls\n",
    "\n",
    "A_augmented = np.array([[2,2,-1,4],[-1,2,-1,-2],[0,6,-1,4],[3,-4,0,2]])\n",
    "A_augmented_reduced = ls.row_reduction(A_augmented)\n",
    "print(A_augmented_reduced)"
   ]
  },
  {
   "cell_type": "markdown",
   "metadata": {},
   "source": [
    "RREF를 확인하면, 해당 선형 시스템은 일관성을 유지합니다. \n",
    "\n",
    "행 연산은 한 행을 그 행의 합과 다른 행의 배수로 대체한다는 점을 기억하세요. 즉, 행은 행의 특정 *선형 조합*으로 대체될 수 있습니다. RREF 첫번째 행은 원래 시스템의 네 가지 방정식 중 하나가 실제로는 다른 방정식의 선형 조합이었음을 나타냅니다(*제거 과정에서 행이 섞였을 수 있으므로 어떤 방정식이 중복되었는지는 확실하지 않습니다*). \n",
    "\n",
    "나머지 방정식 집합은 이전과 마찬가지로 역치환을 통해 해를 구할 수 있습니다($a_1 = 2$, $a_2 = 1$, $a_3=2$).\n",
    "\n",
    "$$\n",
    "\\begin{matrix}\n",
    "a_1 + a_2 - 0.5a_3 & = & 2\\\\\n",
    "a_2 - 0.5a_3 & = & 0\\\\\n",
    "a_3 & = & 2\n",
    "\\end{matrix}\n",
    "$$\n",
    "\n"
   ]
  },
  {
   "cell_type": "markdown",
   "metadata": {},
   "source": [
    "## 예제 2:  Span in $\\mathbb{R}^4$\n",
    "\n",
    "다른 예로, $C$로 주어진 벡터가 $\\{V_1, V_2, V_3\\}$의 범위에 있는지 확인해 보겠습니다.\n",
    "\n",
    "$$\n",
    "\\begin{matrix}\n",
    "C = \\left[ \\begin{array}{r}  4 \\\\ -2 \\\\ 4 \\\\ 0 \\end{array}\\right]\n",
    "\\end{matrix}\n",
    "$$\n",
    "\n",
    "다시 말하지만, 선형 시스템이 일관성이 있는지 확인해야 합니다.\n",
    "\n",
    "$$\n",
    "\\begin{matrix}\n",
    "2a_1 + 2a_2 - a_3 & = & 4\\\\\n",
    "-a_1 + 2a_2 - a_3 & = & -2\\\\\n",
    "\\quad\\quad 6a_2 - a_3 & = & 4 \\\\\n",
    "3a_1 -4a_2 \\quad\\quad & = & 0\n",
    "\\end{matrix}\n",
    "$$\n"
   ]
  },
  {
   "cell_type": "code",
   "execution_count": 6,
   "metadata": {},
   "outputs": [
    {
     "name": "stdout",
     "output_type": "stream",
     "text": [
      "[[ 1.   1.  -0.5  2. ]\n",
      " [ 0.   1.  -0.5  0. ]\n",
      " [ 0.   0.   1.   2. ]\n",
      " [-0.  -0.  -0.   1. ]]\n"
     ]
    }
   ],
   "source": [
    "B_augmented = np.array([[2,2,-1,4],[-1,2,-1,-2],[0,6,-1,4],[3,-4,0,0]])\n",
    "B_reduced = ls.row_reduction(B_augmented)\n",
    "print(B_reduced)"
   ]
  },
  {
   "cell_type": "markdown",
   "metadata": {},
   "source": [
    "RREF에서 확인할 수 있듯이 이 선형 시스템은 해가 없음을 나타냅니다. 실제로 표현된 시스템을 살펴보면 마지막 방정식을 만족하는 $a_1$, $a_2$, $a_3$의 값이 없다는 것을 바로 알 수 있습니다.\n",
    "\n",
    "$$\n",
    "\\begin{matrix}\n",
    "a_1 + a_2 - 0.5a_3 & = & 2\\\\\n",
    "a_2 - 0.5a_3 & = & 0\\\\\n",
    "\\quad\\quad a_3 & = & 2 \\\\\n",
    "0 & = & 1\n",
    "\\end{matrix}\n",
    "$$"
   ]
  },
  {
   "cell_type": "markdown",
   "metadata": {},
   "source": [
    "### 스팬과 일관성 없음(inconsistent)\n",
    "\n",
    "스팬의 개념은 일반적인 선형 시스템 $AX = B$와 직접적으로 연결되어 있는데, 여기서 $A$는 $m \\times n$ 행렬이고, $X$는 $\\mathbb{R}^n$, $B$는 $\\mathbb{R}^m$에 속합니다.\n",
    "\n",
    "$AX$는 $A$ 열의 선형 조합이므로, $AX=B$ 시스템은 $B$가 $A$ 열의 범위에 있는 경우에만 해를 구할 수 있습니다. 이는 행렬-벡터 곱셈과 스팬의 정의에 따른 직접적인 결과입니다.\n",
    "\n",
    "이 동등성만으로는 시스템을 푸는 데 직접적인 도움이 되지는 않지만, 좀 더 일반적인 질문을 던질 수 있습니다. 주어진 $m \\times n$ 행렬 $A$에 대해 선형 시스템 $AX=B$는 $\\mathbb{R}^m$의 모든 벡터 $B$에 대한 해를 가질 수 있을까요?\n",
    "\n",
    "일관성 없는 시스템 $AX=B$를 나타내는 RREF의 구조를 생각해 보겠습니다($A$는 $4 \\times 4$ 행렬). 한 가지 가능성은 다음과 같습니다.\n",
    "\n",
    "$$\n",
    "\\begin{matrix}\n",
    "\\left[ \\begin{array}{ccccc} \n",
    "1 & * & * & * & * \\\\ 0 & 1 & * & * & *  \\\\ 0 & 0 & 0 & 1 & * \\\\ 0 & 0 & 0 & 0 & 1  \n",
    "\\end{array}\\right]\n",
    "\\end{matrix}\n",
    "$$\n",
    "\n",
    "일관성 없는 시스템의 대표적인 특징은 RREF에 가장 오른쪽 열에 피벗($1$)이 있는 행이 있다는 것입니다. 이러한 행은 $0=1$ 방정식을 나타냅니다. 이제 계수 행렬 $A$의 RREF에 모든 항목이 0인 행이 하나 이상 포함되어 있으면 $AX=B$ 시스템이 *불일치*할 수 있다는 것을 알 수 있습니다. \n",
    "\n",
    "이 아이디어를 통해 해의 존재에 대한 일반적인 진술을 할 수 있습니다. **A$가 모든 행에 피벗을 갖는다면 선형 시스템 $AX=B$는 모든 벡터 $B$에 대한 해를 갖습니다**."
   ]
  },
  {
   "cell_type": "markdown",
   "metadata": {},
   "source": [
    "### 예제 3:  Sets of vectors that span a space\n",
    "\n",
    "두 가지 계수 행렬과 해당 계수 행렬의 RREF를 제공하여 가능성을 보여드리겠습니다. 아래 논의는 계수 행렬를 사용해서 논의하고 진행하고 있다는 점을 기억해야 합니다.\n",
    "\n",
    "$$\n",
    "\\begin{matrix}\n",
    "P = \\left[ \\begin{array}{rrrr} \n",
    "1 & -2 & 4 & -2 \\\\ 4 & 3 & 5 & -4  \\\\ -3 & -2 & 4 & 2 \\\\  -4 & 1 & 1 & 1  \n",
    "\\end{array}\\right] \\hspace{0.75cm} \\to \\hspace{0.75cm}\n",
    "\\left[ \\begin{array}{rrrr} \n",
    "1 & 0 & 0 & 0 \\\\ 0 & 1 & 0 & 0  \\\\ 0 & 0 & 1 & 0 \\\\  0 & 0 & 0 & 1  \n",
    "\\end{array}\\right]\n",
    "\\end{matrix}\n",
    "$$\n",
    "\n",
    "$$\n",
    "\\begin{matrix}\n",
    "R = \\left[ \\begin{array}{rrrr} \n",
    "1 & 1 & 0 & -1 \\\\ 1 & 1 & 0 & 1  \\\\ -1 & -1 & 1 & -1 \\\\ 1 & 1 & -2 & 0   \n",
    "\\end{array}\\right] \\hspace{0.75cm} \\to \\hspace{0.75cm}\n",
    "\\left[ \\begin{array}{rrrr} \n",
    "1 & 1 & 0 & 0 \\\\ 0 & 0 & 1 & 0  \\\\ 0 & 0 & 0 & 1 \\\\  0 & 0 & 0 & 0  \n",
    "\\end{array}\\right]\n",
    "\\end{matrix}\n",
    "$$"
   ]
  },
  {
   "cell_type": "code",
   "execution_count": 7,
   "metadata": {},
   "outputs": [
    {
     "name": "stdout",
     "output_type": "stream",
     "text": [
      "[[1. 0. 0. 0.]\n",
      " [0. 1. 0. 0.]\n",
      " [0. 0. 1. 0.]\n",
      " [0. 0. 0. 1.]] \n",
      "\n",
      "[[1. 1. 0. 0.]\n",
      " [0. 0. 1. 0.]\n",
      " [0. 0. 0. 1.]\n",
      " [0. 0. 0. 0.]]\n"
     ]
    }
   ],
   "source": [
    "P = np.array([[1,-2,4,-2],[4,3,5,-4],[-3,-2,4,2],[-4,1,1,1]])\n",
    "print(ls.full_row_reduction(P), '\\n')\n",
    "\n",
    "R = np.array([[1,1,0,-1],[1,1,0,1],[-1,-1,1,-1],[1,1,-2,0]])\n",
    "print(ls.full_row_reduction(R))"
   ]
  },
  {
   "cell_type": "markdown",
   "metadata": {},
   "source": [
    "$PX=B$ 시스템은 모든 행에 피벗이 있기 때문에 $\\mathbb{R}^4$의 모든 $B$에 대한 해를 갖습니다. 어떤 $B$가 주어지더라도 $PX=B$ 시스템은 항상 일관성이 있습니다. 이와 대조적으로, $RX=B$ 시스템은 일부 $B$에 대한 해를 갖지만, 모든 $B$에 대한 해는 $\\mathbb{R}^4$에 없습니다. $P$의 열의 범위는 $\\mathbb{R}^4$ 공간의 모든 벡터를 포함합니다. 이 경우 $P$의 열은 **공간 $\\mathbb{R}^4$** 에 걸쳐있다고 말합니다."
   ]
  },
  {
   "cell_type": "markdown",
   "metadata": {},
   "source": [
    "## Subspaces\n",
    "\n",
    "벡터공간의 부분공간을 고려하는 것은 종종 유용합니다.간단하게 부분공간이라고 부릅니다. **부분 공간** 은 벡터공간의 일부분으로, 부분공간에 있는 벡터의 선형 조합은 다른 벡터도 부분공간에 있다는 특성을 가집니다.\n",
    "\n",
    "공식적으로 표현하자면, $V_1$과 $V_2$가 주어진 부분공간에 속하는 벡터이고 $c_1$과 $c_2$가 스칼라라면, 벡터 $c_1V_1 + c_2V_2$도 부분공간에 속합니다.\n",
    "\n",
    "### Subspace 예제\n",
    "\n",
    "중간 성분이 $0$인 $\\mathbb{R}^3$의 벡터 집합은 $\\mathbb{R}^3$의 부분공간입니다. 그 이유를 이해하기 위해서는 부분공간에 있는 두 임의의 벡터의 임의의 선형 조합을 살펴보고, 그 선형 조합이 부분공간에도 있는지 확인해야 합니다. \n",
    "\n",
    "$X$와 $Y$를 임의의 첫 번째와 세 번째 성분을 가진 벡터로 두고 선형 조합을 계산하면 선형 조합도 중간 성분이 $0$이므로 같은 공간에 있음을 알 수 있습니다.\n",
    "\n",
    "$$\n",
    "\\begin{matrix}\n",
    "c_1X + c_2Y = \n",
    "c_1\\left[ \\begin{array}{c} x_1 \\\\ 0 \\\\ x_3 \\end{array}\\right]+\n",
    "c_2\\left[ \\begin{array}{c} y_1 \\\\ 0 \\\\ y_3  \\end{array}\\right] =\n",
    "\\left[ \\begin{array}{c} x_1+y_1 \\\\ 0 \\\\ x_3+y_3 \\end{array}\\right]\n",
    "\\end{matrix}\n",
    "$$\n",
    "\n",
    "### Subspace 반례\n",
    "\n",
    "다음 선형 시스템의 모든 해의 집합은 $\\mathbb{R}^3$의 부분공간이 **아닌** 집합입니다.\n",
    "\n",
    "$$\n",
    "\\begin{matrix}\n",
    "\\left[ \\begin{array}{r} 2 & 1 & 2  \\\\ 3 & 0 & -1 \\end{array}\\right]\n",
    "\\left[ \\begin{array}{r} x_1 \\\\ x_2 \\\\ x_3 \\end{array}\\right]=\n",
    "\\left[ \\begin{array}{r} 0 \\\\ 2 \\end{array}\\right]\n",
    "\\end{matrix}\n",
    "$$"
   ]
  },
  {
   "cell_type": "code",
   "execution_count": 8,
   "metadata": {},
   "outputs": [
    {
     "name": "stdout",
     "output_type": "stream",
     "text": [
      "[[ 1.          0.         -0.33333333  0.66666667]\n",
      " [ 0.          1.          2.66666667 -1.33333333]]\n"
     ]
    }
   ],
   "source": [
    "A_augmented = np.array([[2,1,2,0],[3,0,-1,2]])\n",
    "A_augmented_reduced = ls.full_row_reduction(A_augmented)\n",
    "print(A_augmented_reduced)"
   ]
  },
  {
   "cell_type": "markdown",
   "metadata": {},
   "source": [
    "이 시스템에서 $x_3$은 자유 변수입니다. $x_3$의 두 값을 선택하면 두 개의 서로 다른 해 벡터를 얻을 수 있으며, 이를 $X_p$와 $X_q$라고 부릅니다.\n",
    "\n",
    "$$\n",
    "\\begin{matrix}\n",
    "X_p = \\left[ \\begin{array}{r} 1 \\\\ -4 \\\\ 1 \\end{array}\\right] \\hspace{1cm}\n",
    "X_q\\left[ \\begin{array}{r} 2 \\\\ -12 \\\\ 4   \\end{array}\\right] \\hspace{1cm} \n",
    "\\end{matrix}\n",
    "$$\n",
    "\n",
    "이 두 벡터의 합이 시스템에 대한 해가 아니라는 것은 쉽게 확인할 수 있습니다.\n",
    "\n",
    "$$\n",
    "\\begin{matrix}\n",
    "X_p + X_q = \\left[ \\begin{array}{r} 3 \\\\ -16 \\\\ 5   \\end{array}\\right] \n",
    "\\hspace{2cm} \n",
    "\\left[ \\begin{array}{r} 2 & 1 & 2  \\\\ 3 & 0 & -1 \\end{array}\\right]\n",
    "\\left[ \\begin{array}{r} 3 \\\\ -16 \\\\ 5 \\end{array}\\right]=\n",
    "\\left[ \\begin{array}{r} 0 \\\\ 4 \\end{array}\\right]\n",
    "\\end{matrix}\n",
    "$$\n",
    "\n",
    "사실, 일반적으로 $A$가 $m \\times n$ 행렬인 경우, $AX=B$ 시스템에 대한 해는 $R^m$의 부분공간을 형성하지 않는다는 것은 사실입니다. 만약 $X_p$와 $X_q$가 시스템에 대한 두 개의 특정 해($AX_p=B$와 $AX_q=B$)라면, $A(X_p + X_q) = AX_p + AX_q = B + B = 2B$이므로 이들의 합은 해가 아닙니다(*$B=0$일 때 $2B=B$이므로, $AX=0$에 대한 해의 집합은 부분공간을 형성한다는 것에 유의하세요. 이 중요한 예외는 다음에서 설명합니다.*)"
   ]
  },
  {
   "cell_type": "markdown",
   "metadata": {},
   "source": [
    "### Spans and subspaces\n",
    "\n",
    "모든 벡터 집합의 스팬은 반드시 부분 공간이어야 하므로 부분 공간의 개념은 스팬의 개념과 관련이 있습니다. 벡터 $X$와 $Y$가 $\\{V_1, V_2, V_3, ... V_n\\}$의 범위에 있는 벡터라고 가정합니다. 즉, $X = a_1V_1 + a_2V_2 + a_3V_3 + .... + a_nV_n$ 및 $Y = b_1V_1 + b_2V_2 + b_3V_3 + .... $ 가중치 $a_1, a_2, ... a_n$ 및 $b_1, b_2, ... b_n$의 일부 집합에 대해 $b_1V_1 + b_nV_n$입니다. 임의의 선형 조합 $c_1X + c_2Y$ 역시 $\\{V_1, V_2, V_3, ... V_n\\}$의 범위에 있으므로 이 벡터들의 다른 선형 조합입니다.\n",
    "\n",
    "$$\n",
    "\\begin{matrix}\n",
    "c_1X + c_2Y & = & c_1(a_1V_1 + a_2V_2 + a_3V_3 + .... + a_nV_n) + c_2(b_1V_1 + b_2V_2 + b_3V_3 + .... + b_nV_n)\\\\\n",
    "& = & (c_1a_1 + c_2b_1)V_1 + (c_1a_2 + c_2b_2)V_2 + (c_1a_3 + c_2b_3)V_3 + .... + (c_1a_n + c_2b_n)V_n\n",
    "\\end{matrix}\n",
    "$$\n",
    "\n",
    "또한 모든 부분 공간은 어떤 벡터 집합의 범위로 설명할 수 있다는 것도 사실입니다. 이 개념을 살펴보겠습니다."
   ]
  },
  {
   "cell_type": "markdown",
   "metadata": {},
   "source": [
    "## Column space\n",
    "\n",
    "모든 $m \\times n$ 행렬 $A$에는 선형 시스템 $AX=B$의 가능한 해를 이해하는 데 중요한 네 가지 기본 하위 공간이 연관되어 있습니다. 여기서는 열 공간이라고 하는 이러한 하위 공간 중 첫 번째 공간을 살펴보겠습니다.\n",
    "\n",
    "- 행렬 $A$의 **열 공간**은 행렬 $A$의 열들의 스팬으로 정의됩니다. 우리는 $A$의 열을 $\\mathbb{R}^m$의 벡터로 생각하므로, $A$의 열 공간은 $\\mathbb{R}^m$의 부분공간을 형성합니다. 열 공간을 나타낼 때 $\\mathcal{C}(A)$라는 표기법을 사용합니다.  \n",
    "\n",
    "- $X$가 $\\mathbb{R}^n$의 벡터라면, 행렬-벡터 곱 $AX$는 $\\mathbb{R}^m$의 벡터입니다. 이 곱이 $A$의 열을 선형적으로 조합하여 형성된다는 것을 상기하면, 벡터 $AX$는 정의상 $\\mathcal{C}(A)$여야 한다는 것을 알 수 있습니다. 여기서 중요한 연관성은 선형 시스템 $AX=B$는 벡터 $B$가 $\\mathcal{C}(A)$에 있는 경우에만 일관성이 있다는 것입니다.\n",
    "\n",
    "컬럼 공간의 개념이 실제로 특정 시스템을 푸는 데 도움이 되지는 않지만, 보다 추상적인 수준에서 문제를 논의할 수 있는 능력을 향상시켜 줍니다. 예를 들어, 이제 스팬의 정의와 앞서 논의한 내용을 통합하여 모든 시스템에 적용되는 광범위한 진술을 할 수 있습니다. A$가 $m \\times n$ 행렬이라면, $\\mathcal{C}(A) = \\mathbb{R}^m$인 경우에만 $AX=B$ 시스템은 $\\mathbb{R}^m$의 모든 $B$에 대해 일관성이 있습니다. 이러한 결론은 실용적인 의미를 갖는 추가 아이디어를 개발하는 데 매우 중요합니다."
   ]
  }
 ],
 "metadata": {
  "kernelspec": {
   "display_name": "Python 3",
   "language": "python",
   "name": "python3"
  },
  "language_info": {
   "codemirror_mode": {
    "name": "ipython",
    "version": 3
   },
   "file_extension": ".py",
   "mimetype": "text/x-python",
   "name": "python",
   "nbconvert_exporter": "python",
   "pygments_lexer": "ipython3",
   "version": "3.12.1"
  }
 },
 "nbformat": 4,
 "nbformat_minor": 4
}
