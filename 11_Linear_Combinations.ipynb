{
 "cells": [
  {
   "cell_type": "markdown",
   "metadata": {},
   "source": [
    "# 선형 결합"
   ]
  },
  {
   "cell_type": "markdown",
   "metadata": {},
   "source": [
    "선형대수학의 많은 아이디어의 핵심은 벡터의 **선형 조합(linear combination)** 이라는 개념입니다. 벡터 집합 $\\{V_1, V_2, V_3, ... V_n\\}$ 벡터 집합에서 선형 조합을 만들려면 덧셈과 스칼라 곱셈이라는 두 가지 대수 연산을 사용합니다. 스칼라를 나타내기 위해 $a_1, a_2, ..., a_n$ 기호를 사용하면 선형 조합은 다음과 같이 보입니다.\n",
    "\n",
    "$$\n",
    "\\begin{matrix}\n",
    "a_1V_1 + a_2V_2 + a_3V_3 + .... + a_nV_n\n",
    "\\end{matrix}\n",
    "$$\n",
    "\n",
    "스칼라 $a_1, a_2, ..., a_n$을 **가중치(weights)** 라고 부르기도 합니다.\n",
    "\n",
    "구체적인 예를 들기 위해 벡터를 정의해 보겠습니다.\n",
    "\n",
    "$$\n",
    "\\begin{matrix}\n",
    "V_1 = \\left[ \\begin{array}{r} 2 \\\\ -2 \\\\ 1 \\end{array}\\right] \\hspace{1cm} \n",
    "V_2 = \\left[ \\begin{array}{r} 1 \\\\  0 \\\\ -1  \\end{array}\\right] \\hspace{1cm}\n",
    "V_3 = \\left[ \\begin{array}{r} 0 \\\\ -1 \\\\  6 \\end{array}\\right]\n",
    "\\end{matrix}\n",
    "$$\n",
    "\n",
    "이제 $3V_1 + 2V_2 +4V_3$, $V_1-V_2+V_3$, $3V_2 -V_3$는 모두 벡터 집합 $\\{V_1, V_2, V_3\\}$의 선형 조합의 예이며, 필요한 경우 명시적으로 계산할 수 있습니다.\n",
    "\n",
    "$$\n",
    "\\begin{matrix}\n",
    "3V_1+ 2V_2+ 4V_3 = 3\\left[ \\begin{array}{r} 2 \\\\ -2 \\\\ 1 \\end{array}\\right] \n",
    "+2 \\left[ \\begin{array}{r} 1 \\\\  0 \\\\ -1  \\end{array}\\right]\n",
    "+4 \\left[ \\begin{array}{r} 0 \\\\ -1 \\\\  6 \\end{array}\\right] = \n",
    "\\left[ \\begin{array}{r} 8 \\\\ -10 \\\\  25 \\end{array}\\right]\n",
    "\\end{matrix}\n",
    "$$\n"
   ]
  },
  {
   "cell_type": "markdown",
   "metadata": {},
   "source": [
    "벡터의 선형 조합 개념은 선형 방정식 시스템을 푸는 문제를 재해석하는 데 사용할 수 있습니다.  다음 시스템을 고려해 보겠습니다.\n",
    "\n",
    "$$\n",
    "\\begin{matrix}\n",
    "x_1 + 2x_2  & = & 0\\\\\n",
    "3x_1 - x_2  & = & 14 \\\\\n",
    "\\end{matrix}\n",
    "$$\n",
    "\n",
    "행렬 곱셈을 사용하여 이 시스템을 작성하는 방법에 대해서는 이미 설명했습니다.\n",
    "\n",
    "$$\n",
    "\\begin{matrix}\n",
    "\\left[ \\begin{array}{cc} 1 & 2 \\\\ 3 & -1 \\end{array}\\right]\n",
    "\\left[ \\begin{array}{c} x_1 \\\\ x_2 \\end{array}\\right]=\n",
    "\\left[ \\begin{array}{c} 0 \\\\ 14 \\end{array}\\right]\n",
    "\\end{matrix}\n",
    "$$\n",
    "\n",
    "또한 이 행렬 방정식을 벡터 방정식으로 재패키징하는 방법도 살펴봤습니다.\n",
    "\n",
    "$$\n",
    "\\begin{equation}\n",
    "x_1\\left[ \\begin{array}{r} 1 \\\\ 3 \\end{array}\\right] +\n",
    "x_2\\left[ \\begin{array}{r} 2 \\\\ -1  \\end{array}\\right] =\n",
    "\\left[ \\begin{array}{r} 0 \\\\ 14  \\end{array}\\right]\n",
    "\\end{equation}\n",
    "$$\n",
    "\n",
    "이제 계수 행렬의 열을 벡터로 간주하면 선형 조합에 대한 연결이 명확해집니다.  선형 방정식 시스템의 해를 구하는 것은 방정식의 오른쪽에 있는 벡터와 일치하는 이러한 열 벡터의 *선형 조합*을 찾는 것과 같습니다.  "
   ]
  },
  {
   "cell_type": "markdown",
   "metadata": {},
   "source": [
    "## Spans\n",
    "\n",
    "다음 단계는 선형 조합의 집합을 설명하는 용어를 소개하는 것입니다. 벡터 집합 $\\{V_1, V_2, V_3, ...\\}$의 **span**. $\\{V_n\\}$은 이 집합에서 가능한 모든 벡터의 선형 조합의 집합입니다. 모든 계수 $a_1, a_2, ..., a_n$에 대해 벡터 $a_1V_1 + a_2V_2 + a_3V_3 + ..... + a_nV_n$ 는 $\\{V_1, V_2, V_3, ... V_n\\}$.  \n",
    "\n",
    "선형 시스템과 벡터의 선형 조합 사이의 직접적인 연관성을 감안할 때, 우리는 주어진 선형 시스템이 해를 갖는지 결정하려고 할 때, 실제로는 주어진 벡터, 예를 들어 $B$가 어떤 벡터 집합 $\\{V_1, V_2, V_3, ... V_n\\}$입니다.  새로운 용어를 사용하여 $B$가 $\\{V_1, V_2, V_3, ... V_n\\}$의 범위에 있는지 확인하려고 한다고 말할 수 있습니다. $\\{V_n\\}$의 범위에 있는지 확인하려고 합니다."
   ]
  },
  {
   "cell_type": "markdown",
   "metadata": {},
   "source": [
    "## 예제 1:  Span in $\\mathbb{R}^4$\n",
    "\n",
    "이제 시스템 풀이 경험을 선형 조합을 찾는 데 적용할 수 있습니다.  다음 정의가 주어졌을 때 $B$가 $\\{V_1, V_2, V_3\\}$의 범위에 있는지 확인하려고 한다고 가정해 보겠습니다.\n",
    "\n",
    "$$\n",
    "\\begin{matrix}\n",
    "V_1 = \\left[ \\begin{array}{r} 2 \\\\ -1 \\\\ 0 \\\\ 3 \\end{array}\\right] \\hspace{1cm}\n",
    "V_2 = \\left[ \\begin{array}{r} 2 \\\\ 2 \\\\ 6 \\\\ -4  \\end{array}\\right] \\hspace{1cm} \n",
    "V_3 = \\left[ \\begin{array}{r} -1 \\\\ -1 \\\\ -1 \\\\ 0 \\end{array}\\right] \\hspace{1cm}\n",
    "B = \\left[ \\begin{array}{r}  4 \\\\ -2 \\\\ 4 \\\\ 2 \\end{array}\\right]\n",
    "\\end{matrix}\n",
    "$$\n",
    "\n",
    "다음 벡터 방정식이 참인 숫자 $a_1$, $a_2$, $a_3$이 있는지 확인해야 합니다.\n",
    "\n",
    "$$\n",
    "\\begin{matrix}\n",
    "a_1\\left[ \\begin{array}{r} 2 \\\\ -1 \\\\ 0 \\\\ 3 \\end{array}\\right]+\n",
    "a_2\\left[ \\begin{array}{r} 2 \\\\ 2 \\\\ 6 \\\\ -4  \\end{array}\\right] +\n",
    "a_3\\left[ \\begin{array}{r} -1 \\\\ -1 \\\\ -1 \\\\ 0 \\end{array}\\right] =\n",
    "\\left[ \\begin{array}{r}  4 \\\\ -2 \\\\ 4 \\\\ 2 \\end{array}\\right]\n",
    "\\end{matrix}\n",
    "$$\n",
    "\n",
    "이 벡터 방정식은 다음 선형 시스템이 일관성이 있는지 확인하는 것과 같습니다.\n",
    "\n",
    "$$\n",
    "\\begin{matrix}\n",
    "2a_1 + 2a_2 - a_3 & = & 4\\\\\n",
    "-a_1 + 2a_2 - a_3 & = & -2\\\\\n",
    "\\quad\\quad 6a_2 - a_3 & = & 4 \\\\\n",
    "3a_1 -4a_2 \\quad\\quad & = & 2\n",
    "\\end{matrix}\n",
    "$$"
   ]
  },
  {
   "cell_type": "code",
   "execution_count": 1,
   "metadata": {},
   "outputs": [
    {
     "name": "stdout",
     "output_type": "stream",
     "text": [
      "Pivot could not be found in column 3 .\n",
      "[[ 1.   1.  -0.5  2. ]\n",
      " [ 0.   1.  -0.5  0. ]\n",
      " [ 0.   0.   1.   2. ]\n",
      " [ 0.   0.   0.   0. ]]\n"
     ]
    }
   ],
   "source": [
    "import numpy as np\n",
    "import linear_solver as ls\n",
    "\n",
    "A_augmented = np.array([[2,2,-1,4],[-1,2,-1,-2],[0,6,-1,4],[3,-4,0,2]])\n",
    "A_augmented_reduced = ls.row_reduction(A_augmented)\n",
    "print(A_augmented_reduced)"
   ]
  },
  {
   "cell_type": "markdown",
   "metadata": {},
   "source": [
    "마지막 열에는 피벗이 없으므로 시스템이 일관성을 유지합니다. 행 연산은 한 행을 그 행의 합과 다른 행의 배수로 대체한다는 점을 기억하세요. 즉, 행은 행의 특정 *선형 조합*으로 대체될 수 있습니다. 축소 행렬의 $0$ 행은 원래 시스템의 네 가지 방정식 중 하나가 실제로는 다른 방정식의 선형 조합이었음을 나타냅니다. (*제거 과정에서 행이 섞였을 수 있으므로 어떤 방정식이 중복되었는지는 확실하지 않습니다*). 나머지 방정식 집합은 이전과 마찬가지로 역치환을 통해 해를 구할 수 있습니다($a_1 = 2$, $a_2 = 1$, $a_3=2$).\n",
    "\n",
    "$$\n",
    "\\begin{matrix}\n",
    "a_1 + a_2 - 0.5a_3 & = & 2\\\\\n",
    "a_2 - 0.5a_3 & = & 0\\\\\n",
    "a_3 & = & 2\n",
    "\\end{matrix}\n",
    "$$\n",
    "\n"
   ]
  },
  {
   "cell_type": "markdown",
   "metadata": {},
   "source": [
    "### Example 2:  Span in $\\mathbb{R}^4$\n",
    "\n",
    "As another example, let's determine if the vector given as $C$ is in the span of $\\{V_1, V_2, V_3\\}$.\n",
    "\n",
    "$$\n",
    "\\begin{equation}\n",
    "C = \\left[ \\begin{array}{r}  4 \\\\ -2 \\\\ 4 \\\\ 0 \\end{array}\\right]\n",
    "\\end{equation}\n",
    "$$\n",
    "\n",
    "Again, we need to determine if the associated linear system is consistent.\n",
    "\n",
    "$$\n",
    "\\begin{eqnarray*}\n",
    "2a_1 + 2a_2 - a_3 & = & 4\\\\\n",
    "-a_1 + 2a_2 - a_3 & = & -2\\\\\n",
    "\\quad\\quad 6a_2 - a_3 & = & 4 \\\\\n",
    "3a_1 -4a_2 \\quad\\quad & = & 0\n",
    "\\end{eqnarray*}\n",
    "$$\n"
   ]
  },
  {
   "cell_type": "code",
   "execution_count": 3,
   "metadata": {},
   "outputs": [
    {
     "name": "stdout",
     "output_type": "stream",
     "text": [
      "[[ 1.   1.  -0.5  2. ]\n",
      " [ 0.   1.  -0.5  0. ]\n",
      " [ 0.   0.   1.   2. ]\n",
      " [-0.  -0.  -0.   1. ]]\n"
     ]
    }
   ],
   "source": [
    "B_augmented = np.array([[2,2,-1,4],[-1,2,-1,-2],[0,6,-1,4],[3,-4,0,0]])\n",
    "\n",
    "B_reduced = lag.RowReduction(B_augmented)\n",
    "print(B_reduced)\n"
   ]
  },
  {
   "cell_type": "markdown",
   "metadata": {},
   "source": [
    "The pivot in the last column indicates that the system has no solution.  Indeed, when we examine the system represented by the reduced matrix, we can see immediately that there are no values of $a_1$, $a_2$, $a_3$ that satisfy the last equation.\n",
    "\n",
    "\n",
    "$$\n",
    "\\begin{eqnarray*}\n",
    "a_1 + a_2 - 0.5a_3 & = & 2\\\\\n",
    "a_2 - 0.5a_3 & = & 0\\\\\n",
    "\\quad\\quad a_3 & = & 2 \\\\\n",
    "0 & = & 1\n",
    "\\end{eqnarray*}\n",
    "$$"
   ]
  },
  {
   "cell_type": "markdown",
   "metadata": {},
   "source": [
    "### Spans and inconsistent systems\n",
    "\n",
    "The idea of spans has a direct connection to the general linear system $AX = B$, where $A$ is an $m\\times n$ matrix, $X$ is in $\\mathbb{R}^n$, and $B$ is in $\\mathbb{R}^m$.  Since $AX$ is a linear combination of the columns of $A$, the system $AX=B$ will have a solution if and only if $B$ is in the span of the columns of $A$.  This is a direct result of the definitions of matrix-vector multiplication and spans.  This equivalence alone doesn't directly help us solve the system, but it does allow us to pose a more general question.  For a given $m\\times n$ matrix $A$, will the linear system $AX=B$ have a solution for any vector $B$ in $\\mathbb{R}^m$?\n",
    "\n",
    "Consider the structure of the RREF of the augmented matrix $[A|B]$ that represents an inconsistent system $AX=B$, with $A$ a $4\\times 4$ matrix.  One possibility is the following.\n",
    "\n",
    "$$\n",
    "\\begin{equation}\n",
    "\\left[ \\begin{array}{ccccc} \n",
    "1 & * & * & * & * \\\\ 0 & 1 & * & * & *  \\\\ 0 & 0 & 0 & 1 & * \\\\ 0 & 0 & 0 & 0 & 1  \n",
    "\\end{array}\\right]\n",
    "\\end{equation}\n",
    "$$\n",
    "\n",
    "The defining characteristic of an inconsistent system is that the RREF of the augmented matrix has a row with a pivot in the rightmost column.  Such a row represents the equation $0=1$.  We can now realize that the system $AX=B$ *could be inconsistent* if the RREF of the coefficient matrix $A$ contains at least one row with all zero entries.  This idea allows us to make a general statement about the existence of solutions.  **A linear system $AX=B$ has a solution for every vector $B$ if $A$ has a pivot in every row**  "
   ]
  },
  {
   "cell_type": "markdown",
   "metadata": {},
   "source": [
    "### Example 3:  Sets of vectors that span a space\n",
    "\n",
    "We provide two coefficient matrices and their RREFs to demonstrate the possibilities.  It should be emphasized that we are now discussing coefficient matrices, rather than the augmented matrices.\n",
    "\n",
    "$$\n",
    "\\begin{equation}\n",
    "P = \\left[ \\begin{array}{rrrr} \n",
    "1 & -2 & 4 & -2 \\\\ 4 & 3 & 5 & -4  \\\\ -3 & -2 & 4 & 2 \\\\  -4 & 1 & 1 & 1  \n",
    "\\end{array}\\right] \\hspace{0.75cm} \\to \\hspace{0.75cm}\n",
    "\\left[ \\begin{array}{rrrr} \n",
    "1 & 0 & 0 & 0 \\\\ 0 & 1 & 0 & 0  \\\\ 0 & 0 & 1 & 0 \\\\  0 & 0 & 0 & 1  \n",
    "\\end{array}\\right]\n",
    "\\end{equation}\n",
    "$$\n",
    "\n",
    "$$\n",
    "\\begin{equation}\n",
    "R = \\left[ \\begin{array}{rrrr} \n",
    "1 & 1 & 0 & -1 \\\\ 1 & 1 & 0 & 1  \\\\ -1 & -1 & 1 & -1 \\\\ 1 & 1 & -2 & 0   \n",
    "\\end{array}\\right] \\hspace{0.75cm} \\to \\hspace{0.75cm}\n",
    "\\left[ \\begin{array}{rrrr} \n",
    "1 & 1 & 0 & 0 \\\\ 0 & 0 & 1 & 0  \\\\ 0 & 0 & 0 & 1 \\\\  0 & 0 & 0 & 0  \n",
    "\\end{array}\\right]\n",
    "\\end{equation}\n",
    "$$"
   ]
  },
  {
   "cell_type": "code",
   "execution_count": 2,
   "metadata": {},
   "outputs": [
    {
     "name": "stdout",
     "output_type": "stream",
     "text": [
      "[[1. 0. 0. 0.]\n",
      " [0. 1. 0. 0.]\n",
      " [0. 0. 1. 0.]\n",
      " [0. 0. 0. 1.]] \n",
      "\n",
      "[[1. 1. 0. 0.]\n",
      " [0. 0. 1. 0.]\n",
      " [0. 0. 0. 1.]\n",
      " [0. 0. 0. 0.]]\n"
     ]
    }
   ],
   "source": [
    "P = np.array([[1,-2,4,-2],[4,3,5,-4],[-3,-2,4,2],[-4,1,1,1]])\n",
    "print(lag.FullRowReduction(P),'\\n')\n",
    "\n",
    "R = np.array([[1,1,0,-1],[1,1,0,1],[-1,-1,1,-1],[1,1,-2,0]])\n",
    "print(lag.FullRowReduction(R))"
   ]
  },
  {
   "cell_type": "markdown",
   "metadata": {},
   "source": [
    "The system $PX=B$ has a solution for every $B$ in $\\mathbb{R}^4$ because it has a pivot in every row.  No matter which $B$ is given, the system $PX=B$ is always consistent.  By contrast, the system $RX=B$ will have solutions for some $B$, but not every $B$ in $\\mathbb{R}^4$.  The span of the columns of $P$ includes every vector in the space $\\mathbb{R}^4$.  We say in this case that the columns of $P$ **span the space** $\\mathbb{R}^4$.  "
   ]
  },
  {
   "cell_type": "markdown",
   "metadata": {},
   "source": [
    "### Subspaces\n",
    "\n",
    "It is frequently useful to consider vector subspaces, which we will simply refer to as subspaces.   A **subspace** is a portion of a vector space with the property that any linear combination of vectors in the subspace is another vector that is also in the subspace.  To put it formally, if $V_1$ and $V_2$ are vectors that belong to a given subspace, and $c_1$ and $c_2$ are any scalars, then the vector $c_1V_1 + c_2V_2$ also belongs to the subspace.\n",
    "\n",
    "#### Subspace example\n",
    "\n",
    "The set of vectors in $\\mathbb{R}^3$ that have middle component equal to zero is a subspace of $\\mathbb{R}^3$.  To understand why, we need to look at an arbitrary linear combination of two arbitrary vectors in the subspace, and verify that the linear combination is also in the subspace.  If we let $X$ and $Y$ be the vectors with arbitrary first and third components and calculate the linear combination, we see that the linear combination also has zero as its middle component and is thus in the subspace.\n",
    "\n",
    "$$\n",
    "\\begin{equation}\n",
    "c_1X + c_2Y = \n",
    "c_1\\left[ \\begin{array}{c} x_1 \\\\ 0 \\\\ x_3 \\end{array}\\right]+\n",
    "c_2\\left[ \\begin{array}{c} y_1 \\\\ 0 \\\\ y_3  \\end{array}\\right] =\n",
    "\\left[ \\begin{array}{c} x_1+y_1 \\\\ 0 \\\\ x_3+y_3 \\end{array}\\right]\n",
    "\\end{equation}\n",
    "$$\n",
    "\n",
    "#### Subspace non-example\n",
    "\n",
    "The set of all solutions to the following linear system is **not a subspace** of $\\mathbb{R}^3$.\n",
    "\n",
    "$$\n",
    "\\begin{equation}\n",
    "\\left[ \\begin{array}{r} 2 & 1 & 2  \\\\ 3 & 0 & -1 \\end{array}\\right]\n",
    "\\left[ \\begin{array}{r} x_1 \\\\ x_2 \\\\ x_3 \\end{array}\\right]=\n",
    "\\left[ \\begin{array}{r} 0 \\\\ 2 \\end{array}\\right]\n",
    "\\end{equation}\n",
    "$$\n"
   ]
  },
  {
   "cell_type": "code",
   "execution_count": 5,
   "metadata": {},
   "outputs": [
    {
     "name": "stdout",
     "output_type": "stream",
     "text": [
      "[[ 1.          0.         -0.33333333  0.66666667]\n",
      " [ 0.          1.          2.66666667 -1.33333333]]\n"
     ]
    }
   ],
   "source": [
    "A_augmented = np.array([[2,1,2,0],[3,0,-1,2]])\n",
    "A_augmented_reduced = lag.FullRowReduction(A_augmented)\n",
    "print(A_augmented_reduced)"
   ]
  },
  {
   "cell_type": "markdown",
   "metadata": {},
   "source": [
    "In this system, $x_3$ is a free variable.  Choosing two values of $x_3$ gives us two different solution vectors, which we label $X_p$ and $X_q$.\n",
    "\n",
    "\n",
    "$$\n",
    "\\begin{equation}\n",
    "X_p = \\left[ \\begin{array}{r} 1 \\\\ -4 \\\\ 1 \\end{array}\\right] \\hspace{1cm}\n",
    "X_q\\left[ \\begin{array}{r} 2 \\\\ -12 \\\\ 4   \\end{array}\\right] \\hspace{1cm} \n",
    "\\end{equation}\n",
    "$$\n",
    "\n",
    "It is easy to check that the sum of these two vectors is **not** a solution to the system.\n",
    "\n",
    "$$\n",
    "\\begin{equation}\n",
    "X_p + X_q = \\left[ \\begin{array}{r} 3 \\\\ -16 \\\\ 5   \\end{array}\\right] \n",
    "\\hspace{2cm} \n",
    "\\left[ \\begin{array}{r} 2 & 1 & 2  \\\\ 3 & 0 & -1 \\end{array}\\right]\n",
    "\\left[ \\begin{array}{r} 3 \\\\ -16 \\\\ 5 \\end{array}\\right]=\n",
    "\\left[ \\begin{array}{r} 0 \\\\ 4 \\end{array}\\right]\n",
    "\\end{equation}\n",
    "$$\n",
    "\n",
    "In fact, it is true in general that if $A$ is an $m\\times n$ matrix, the solutions to a system $AX=B$ do not form a subspace of $R^m$.  If $X_p$ and $X_q$ are two particular solutions to the system ($AX_p=B$ and $AX_q=B$), their sum is not a solution since $A(X_p + X_q) = AX_p + AX_q = B + B = 2B$.  \n",
    "(*Note that since $2B=B$ when $B=0$, the set of solutions to $AX=0$ does form a subspace.   This important exception is discussed in the next section.*)\n"
   ]
  },
  {
   "cell_type": "markdown",
   "metadata": {},
   "source": [
    "#### Spans and subspaces\n",
    "\n",
    "The idea of subspaces is related to that of spans since **the span of any set of vectors must be a subspace**.  Suppose that vectors $X$ and $Y$ are arbitrary vectors in the span of $\\{V_1, V_2, V_3, ... V_n\\}$.  That is $X = a_1V_1 + a_2V_2 + a_3V_3 + .... + a_nV_n$ and $Y = b_1V_1 + b_2V_2 + b_3V_3 + .... + b_nV_n$ for some sets of weights $a_1, a_2, ... a_n$ and $b_1, b_2, ... b_n$.  The arbitrary linear combination $c_1X + c_2Y$ is also in the span of $\\{V_1, V_2, V_3, ... V_n\\}$ since it is some other linear combination of these vectors.\n",
    "\n",
    "$$\n",
    "\\begin{eqnarray*}\n",
    "c_1X + c_2Y & = & c_1(a_1V_1 + a_2V_2 + a_3V_3 + .... + a_nV_n) + c_2(b_1V_1 + b_2V_2 + b_3V_3 + .... + b_nV_n)\\\\\n",
    "& = & (c_1a_1 + c_2b_1)V_1 + (c_1a_2 + c_2b_2)V_2 + (c_1a_3 + c_2b_3)V_3 + .... + (c_1a_n + c_2b_n)V_n\n",
    "\\end{eqnarray*}\n",
    "$$\n",
    "\n",
    "It is also true that any subspace can be described as the span of some set of vectors.  We will explore this idea in an upcoming section."
   ]
  },
  {
   "cell_type": "markdown",
   "metadata": {},
   "source": [
    "### Column space\n",
    "\n",
    "Every $m\\times n$ matrix $A$ has associated with it four fundamental subspaces that are important in understanding the possible solutions to the linear system $AX=B$.  Here we take a look at first of these subspaces, called the column space.  In future sections we will define the other three.  The **column space** of an $m\\times n$ matrix $A$ is defined as the span of the columns of $A$.  We think of the columns of $A$ as vectors in $\\mathbb{R}^m$, so the column space of $A$ forms a subspace of $\\mathbb{R}^m$.  We will use the notation $\\mathcal{C}(A)$ to refer to the column space.  \n",
    "\n",
    "If $X$ is a vector in $\\mathbb{R}^n$, then the matrix-vector product $AX$ is a vector in $\\mathbb{R}^m$.  If we recall that this product is formed by taking a linear combination of the columns of $A$, we realize that the vector $AX$ must be $\\mathcal{C}(A)$ by definition.  An important connection here is that the linear system $AX=B$ is consistent *if and only if* the vector $B$ is in $\\mathcal{C}(A)$.  \n",
    "\n",
    "\n",
    "Although the concept of the column space does not actually help us solve specific systems, it does advance our ability to discuss the problem on a more abstract level.  For instance, we can now fold in the definition of span, and the earlier discussion, to make a broad statement that applies to all systems.  If $A$ is an $m\\times n$ matrix, then the system $AX=B$ is consistent for every $B$ in $\\mathbb{R}^m$ if and only if $\\mathcal{C}(A) = \\mathbb{R}^m$.  Such conclusions are very important in developing further ideas which do have practical implications. "
   ]
  }
 ],
 "metadata": {
  "kernelspec": {
   "display_name": "Python 3",
   "language": "python",
   "name": "python3"
  },
  "language_info": {
   "codemirror_mode": {
    "name": "ipython",
    "version": 3
   },
   "file_extension": ".py",
   "mimetype": "text/x-python",
   "name": "python",
   "nbconvert_exporter": "python",
   "pygments_lexer": "ipython3",
   "version": "3.12.1"
  }
 },
 "nbformat": 4,
 "nbformat_minor": 4
}
