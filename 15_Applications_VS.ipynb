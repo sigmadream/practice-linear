{
 "cells": [
  {
   "cell_type": "markdown",
   "metadata": {},
   "source": [
    "# 벡터공간의 응용"
   ]
  },
  {
   "cell_type": "markdown",
   "metadata": {},
   "source": [
    "객체가 여러 개의 구성 요소로 이루어진 경우, 객체를 구성 요소당 하나의 항목이 있는 벡터로 표현하는 것이 유용할 때가 많습니다. 이 섹션에서 설명하는 예는 원자로 구성된 분자와 단어로 구성된 텍스트 문서를 포함합니다. 어떤 경우에는 객체와 관련된 방정식이 벡터 방정식을 생성하기도 합니다. 다른 경우에는 행렬 대수를 사용하여 벡터에 대한 연산을 수행해야 할 이유가 있습니다."
   ]
  },
  {
   "cell_type": "markdown",
   "metadata": {},
   "source": [
    "## 화학 방정식\n",
    "\n",
    "화학 방정식의 균형을 맞출 때, 방정식의 양쪽에서 각 유형의 원자 수를 동일하게 유지하면서 생성물 분자의 수를 형성하는 반응물 분자의 수를 결정하려고 합니다. 다음은 에탄올 연소에 대한 예시입니다.\n",
    "\n",
    "$$\n",
    "\\begin{matrix}\n",
    "C_2H_5OH + O_2 \\to CO_2 + H_2O\n",
    "\\end{matrix}\n",
    "$$\n",
    "\n",
    "이 방정식은 양쪽에 같은 수의 탄소 원자($C$)나 같은 수의 수소 원자($H$)가 포함되어 있지 않으므로 올바르지 않습니다. 각 분자를 곱하는 미지의 계수를 사용하여 방정식을 다시 작성해 보겠습니다.\n",
    "\n",
    "$$\n",
    "\\begin{matrix}\n",
    "x_1C_2H_5OH + x_2O_2 \\to x_3CO_2 + x_4H_2O\n",
    "\\end{matrix}\n",
    "$$"
   ]
  },
  {
   "cell_type": "markdown",
   "metadata": {},
   "source": [
    "이제 문제는 방정식의 양 변에 각각 탄소, 산소, 수소의 원자 수가 같도록 $x_1$, $x_2$, $x_3$, $x_4$의 값을 구하는 것입니다. 또한 분자는 불연속적인 단위이므로 미지 계수는 *양수 정수*여야 합니다.\n",
    "\n",
    "이 시나리오에서는 각 분자를 방정식의 각 원자 유형에 대해 하나씩 세 개의 항목이 있는 벡터로 생각하는 것이 유용합니다. 첫 번째 항목은 탄소 원자의 수, 두 번째 항목은 산소 원자의 수, 세 번째 항목은 수소 원자의 수라고 가정해 보겠습니다. 따라서 다음 벡터는 $C_2H_5OH$를 나타냅니다.\n",
    "\n",
    "$$\n",
    "\\begin{matrix}\n",
    "\\left[\\begin{array}{c} 2 \\\\ 6 \\\\ 1 \\end{array}\\right]\n",
    "\\end{matrix}\n",
    "$$\n",
    "\n",
    "화학 방정식은 매우 자연스럽게 벡터 방정식으로 표현됩니다.\n",
    "\n",
    "$$\n",
    "\\begin{matrix}\n",
    "x_1\\left[\\begin{array}{c} 2 \\\\ 6 \\\\ 1 \\end{array}\\right]\n",
    "+ x_2\\left[\\begin{array}{c} 0 \\\\ 0 \\\\ 2 \\end{array}\\right]\n",
    "= x_3\\left[\\begin{array}{c} 1 \\\\ 0 \\\\ 2 \\end{array}\\right]\n",
    "+ x_4\\left[\\begin{array}{c} 0 \\\\ 2 \\\\ 1 \\end{array}\\right]\n",
    "\\end{matrix}\n",
    "$$\n",
    "\n",
    "미지수가 있는 모든 항이 왼쪽에 오도록 재배열하면 이 벡터 방정식이 균질 시스템을 나타낸다는 것을 알 수 있습니다.\n",
    "\n",
    "$$\n",
    "\\begin{matrix}\n",
    "\\left[\\begin{array}{rrr} 2 & 0 & -1 & 0 \\\\ 6 & 0 & 0 & -2 \\\\ 1 & 2 & -2 & -1 \\end{array}\\right]\n",
    "\\left[\\begin{array}{r} x_1 \\\\ x_2 \\\\ x_3 \\\\ x_4 \\end{array}\\right]\n",
    "= \\left[\\begin{array}{r} 0 \\\\ 0 \\\\ 0  \\end{array}\\right]\n",
    "\\end{matrix}\n",
    "$$"
   ]
  },
  {
   "cell_type": "markdown",
   "metadata": {},
   "source": [
    "해를 찾기 전에 이 장의 결과 중 일부를 적용해 봅시다. 우리는 사소한 해($x_1=x_2=x_3=x_4=0$)가 항상 가능한 해이기 때문에 동질계는 항상 일관성이 있다는 것을 알고 있습니다. 또한 계수 행렬의 모양($4 \\times 3$)을 살펴봄으로써 추가적인 결론을 내릴 수 있습니다. 행당 피벗은 하나만 있을 수 있으므로 피벗은 최대 3개까지만 존재한다는 것을 알 수 있습니다. 이는 4개의 열 각각에 피벗이 있을 수 없다는 것을 의미하며, 이는 시스템에 적어도 하나의 자유 변수가 있고 사소한 해가 유일한 해가 아니라는 것을 의미합니다.\n",
    "\n",
    "이제 RREF를 사용해 해를 찾아보겠습니다. 이 시스템은 동형 시스템이기 때문에 오른쪽을 나타내는 증강 행렬의 마지막 열은 모두 0이라는 것을 기억하세요. 수행된 행 연산에 관계없이 모든 항목이 0으로 유지되므로 계산에서 이 마지막 열을 생략하겠습니다."
   ]
  },
  {
   "cell_type": "code",
   "execution_count": 1,
   "metadata": {},
   "outputs": [],
   "source": [
    "import numpy as np\n",
    "\n",
    "def row_swap(A,k,l):\n",
    "    m = A.shape[0]  # m is number of rows in A\n",
    "    n = A.shape[1]  # n is number of columns in A\n",
    "    \n",
    "    B = np.copy(A).astype('float64')\n",
    "\n",
    "    for j in range(n):\n",
    "        temp = B[k][j]\n",
    "        B[k][j] = B[l][j]\n",
    "        B[l][j] = temp\n",
    "        \n",
    "    return B\n",
    "\n",
    "def row_scale(A,k,scale):\n",
    "    m = A.shape[0]  # m is number of rows in A\n",
    "    n = A.shape[1]  # n is number of columns in A\n",
    "    \n",
    "    B = np.copy(A).astype('float64')\n",
    "\n",
    "    for j in range(n):\n",
    "        B[k][j] *= scale\n",
    "        \n",
    "    return B\n",
    "\n",
    "def row_add(A,k,l,scale):\n",
    "    m = A.shape[0]  # m is number of rows in A\n",
    "    n = A.shape[1]  # n is number of columns in A\n",
    "    \n",
    "    B = np.copy(A).astype('float64')\n",
    "        \n",
    "    for j in range(n):\n",
    "        B[l][j] += B[k][j]*scale\n",
    "        \n",
    "    return B\n",
    "\n",
    "def full_row_reduction(A, tol = 1e-14):\n",
    "    m = A.shape[0]  # m is number of rows in A\n",
    "    n = A.shape[1]  # n is number of columns in A\n",
    "\n",
    "    B = np.copy(A).astype('float64')\n",
    "\n",
    "    # Set initial pivot search position\n",
    "    pivot_row = 0\n",
    "    pivot_col = 0\n",
    "    \n",
    "    # Continue steps of elimination while possible pivot positions are \n",
    "    # within bounds of the array.\n",
    "    \n",
    "    while(pivot_row < m and pivot_col < n):\n",
    "\n",
    "        # Set pivot value to current pivot position\n",
    "        pivot = B[pivot_row,pivot_col]\n",
    "        \n",
    "        # If pivot is zero, search down current column, and then subsequent\n",
    "        # columns (at or beyond pivot_row) for the next nonzero entry in the \n",
    "        # array is found, or the last entry is reached.\n",
    "\n",
    "        row_search = pivot_row\n",
    "        col_search = pivot_col\n",
    "        search_end = False\n",
    "\n",
    "        while(pivot == 0 and not search_end):\n",
    "            if(row_search < m-1):\n",
    "                row_search += 1\n",
    "                pivot = B[row_search,col_search]\n",
    "            else:\n",
    "                if(col_search < n-1):\n",
    "                    row_search = pivot_row\n",
    "                    col_search += 1\n",
    "                    pivot = B[row_search,col_search]\n",
    "                else:  \n",
    "                    # col_search = n-1 and row_search = m-1\n",
    "                    search_end = True\n",
    "                        \n",
    "        # Swap row if needed to bring pivot to position for rref\n",
    "        if (pivot != 0 and pivot_row != row_search):\n",
    "            B = row_swap(B,pivot_row,row_search)\n",
    "            pivot_row, row_search = row_search, pivot_row\n",
    "            \n",
    "        # Set pivot position to search position\n",
    "        pivot_row = row_search\n",
    "        pivot_col = col_search\n",
    "            \n",
    "        # If pivot is nonzero, carry on with elimination in pivot column \n",
    "        if (pivot != 0):\n",
    "            \n",
    "            # Set pivot entry to one\n",
    "            B = row_scale(B,pivot_row,1./B[pivot_row,pivot_col])\n",
    "\n",
    "            # Create zeros above pivot\n",
    "            for i in range(pivot_row):    \n",
    "                B = row_add(B,pivot_row,i,-B[i][pivot_col])\n",
    "                # Force known zeros\n",
    "                B[i,pivot_col] = 0\n",
    "\n",
    "            # Create zeros below pivot\n",
    "            for i in range(pivot_row+1,m):    \n",
    "                B = row_add(B,pivot_row,i,-B[i][pivot_col])\n",
    "                # Force known zeros\n",
    "                B[i,pivot_col] = 0\n",
    "\n",
    "            # Force small numbers to zero to account for roundoff error\n",
    "            for i in range(m):\n",
    "                for j in range(n):\n",
    "                    if abs(B[i,j])< tol :\n",
    "                        B[i,j] = 0\n",
    "\n",
    "        # Advance to next possible pivot position\n",
    "        pivot_row += 1\n",
    "        pivot_col += 1\n",
    "        \n",
    "    return B\n",
    "\n",
    "def row_reduction(A):\n",
    "    \n",
    "    m = A.shape[0]  # A has m rows \n",
    "    n = A.shape[1]  # It is assumed that A has m+1 columns\n",
    "    \n",
    "    B = np.copy(A).astype('float64')\n",
    "\n",
    "    # For each step of elimination, we find a suitable pivot, move it into\n",
    "    # position and create zeros for all entries below.\n",
    "    \n",
    "    for k in range(m):\n",
    "        # Set pivot as (k,k) entry\n",
    "        pivot = B[k][k]\n",
    "        pivot_row = k\n",
    "        \n",
    "        # Find a suitable pivot if the (k,k) entry is zero\n",
    "        while(pivot == 0 and pivot_row < m-1):\n",
    "            pivot_row += 1\n",
    "            pivot = B[pivot_row][k]\n",
    "            \n",
    "        # Swap row if needed\n",
    "        if (pivot_row != k):\n",
    "            B = row_swap(B,k,pivot_row)\n",
    "            \n",
    "        # If pivot is nonzero, carry on with elimination in column k\n",
    "        if (pivot != 0):\n",
    "            B = row_scale(B,k,1./B[k][k])\n",
    "            for i in range(k+1,m):    \n",
    "                B = row_add(B,k,i,-B[i][k])\n",
    "        else:\n",
    "            print(\"Pivot could not be found in column\",k,\".\")\n",
    "            \n",
    "    return B\n",
    "\n"
   ]
  },
  {
   "cell_type": "code",
   "execution_count": 2,
   "metadata": {},
   "outputs": [
    {
     "name": "stdout",
     "output_type": "stream",
     "text": [
      "[[ 1.          0.          0.         -0.33333333]\n",
      " [ 0.          1.          0.         -1.        ]\n",
      " [ 0.          0.          1.         -0.66666667]]\n"
     ]
    }
   ],
   "source": [
    "A = np.array([[2, 0, -1, 0],[6, 0, 0, -2],[1, 2, -2, -1]])\n",
    "A_reduced = full_row_reduction(A)\n",
    "print(A_reduced)"
   ]
  },
  {
   "cell_type": "markdown",
   "metadata": {},
   "source": [
    "열에 $x_4$에 해당하는 피벗이 없으므로 $x_4$를 자유 변수로 취급합니다. 이 응용에서는 특별히 정수인 솔루션을 찾고 있으므로 $x_4=3$을 사용합니다. 이렇게 하면 $x_3=2$, $x_2=3$, $x_1=1$이 됩니다. 화학 반응에 대한 올바른 방정식은 다음과 같습니다.\n",
    "\n",
    "$$\n",
    "\\begin{matrix}\n",
    "C_2H_5OH + 3O_2 \\to 2CO_2 + 3H_2O\n",
    "\\end{matrix}\n",
    "$$\n"
   ]
  },
  {
   "cell_type": "markdown",
   "metadata": {},
   "source": [
    "## 정보 검색\n",
    "\n",
    "정보 검색에서 잘 알려진 아이디어는 데이터베이스의 문서를 $\\mathbb{R}^n$의 벡터로 표현하는 **벡터 공간 모델**의 개념입니다. 키워드 검색과 가장 연관성이 높은 문서를 데이터베이스에서 검색하는 알고리즘은 이 벡터 표현을 활용할 수 있습니다.  이러한 알고리즘이 어떻게 작동하는지에 대한 몇 가지 간단한 예를 제공합니다.\n",
    "\n",
    "벡터로 문서를 모델링하는 것부터 시작해 보겠습니다. 우리에게 정말로 필요한 것은 데이터베이스에서 검색할 수 있는 $n$개의 단어 목록입니다. 이 목록은 전체 문서 컬렉션에 있는 각각의 고유한 단어 목록일 수도 있지만, 영어에는 모든 문서에 많이 나타나기 때문에 키워드로 사용할 수 없는 일반적인 단어(the, as, in, it 등)가 많이 있습니다. 이제 데이터베이스의 각 문서는 해당 키워드가 문서에 나타나면 $n$번째 항목이 1로, 그렇지 않으면 0으로 설정된 $\\mathbb{R}^n$의 벡터로 나타낼 수 있습니다.\n",
    "\n",
    "예를 들어, 데이터베이스가 단순히 정보 검색과 관련된 콘텐츠가 포함된 웹페이지 목록이라고 가정해 보겠습니다.  키워드 집합은 다음과 같을 수 있습니다.\n",
    "\n",
    "**\\{algorithm, engine, information, google, computations, matrix, optimization, retrieval, search, theory \\}**  \n",
    "\n",
    "데이터베이스의 각 웹 페이지는 이러한 단어에 해당하는 항목이 있는 $\\mathbb{R}^{10}$의 벡터입니다. 이러한 벡터는 열 벡터의 $10 \\times 1$보다는 행 벡터의 $1 \\times 10$로 작성하는 것이 가장 편리합니다. 예를 들어, *검색 엔진 알고리즘*은 $[1, 1, 0, 0, 0, 0, 0, 0, 1, 0]$로 표현할 수 있습니다. 그러면 데이터베이스는 각 제목에 대한 행이 있는 $n \\times 10$ 행렬로 표현됩니다. 이 예제에서는 다음과 같은 6개의 제목이 있다고 가정해 보겠습니다.\n",
    "\n",
    "- Search Engine Algorithms\n",
    "- How Google Search Optimization Works\n",
    "- Information Retrieval Theory\n",
    "- Matrix Models of Information Retrieval\n",
    "- Theory Behind Search Engines\n",
    "- Computations in Information Retrieval\n",
    "\n",
    "각 타이틀에 대한 벡터를 만든 다음 이를 행렬 $D$로 조합합니다."
   ]
  },
  {
   "cell_type": "code",
   "execution_count": 3,
   "metadata": {},
   "outputs": [
    {
     "name": "stdout",
     "output_type": "stream",
     "text": [
      "[[1 1 0 0 0 0 0 0 1 0]\n",
      " [0 0 0 1 0 0 1 0 1 0]\n",
      " [0 0 1 0 0 0 0 1 0 1]\n",
      " [0 0 1 0 0 1 0 1 0 0]\n",
      " [0 1 0 0 0 0 0 0 1 1]\n",
      " [0 0 1 0 0 0 0 1 0 0]]\n"
     ]
    }
   ],
   "source": [
    "T1 = np.array([[1, 1, 0, 0, 0, 0, 0, 0, 1, 0]])\n",
    "T2 = np.array([[0, 0, 0, 1, 0, 0, 1, 0, 1, 0]])\n",
    "T3 = np.array([[0, 0, 1, 0, 0, 0, 0, 1, 0, 1]])\n",
    "T4 = np.array([[0, 0, 1, 0, 0, 1, 0, 1, 0, 0]])\n",
    "T5 = np.array([[0, 1, 0, 0, 0, 0, 0, 0, 1, 1]])\n",
    "T6 = np.array([[0, 0, 1, 0, 0, 0, 0, 1, 0, 0]])\n",
    "\n",
    "D = np.vstack((T1,T2,T3,T4,T5,T6))\n",
    "print(D)"
   ]
  },
  {
   "cell_type": "markdown",
   "metadata": {},
   "source": [
    "다음으로 키워드 검색을 수행하는 방법을 고려해 보겠습니다. \"정보\", \"검색\", \"이론\"이라는 단어와 일치하는 항목을 검색하고 싶다고 가정해 보겠습니다. 이 키워드에 해당하는 1의 항목이 있는 $10 \\times 1$ 쿼리 벡터 $X$를 만들 수 있습니다. 이 경우 쿼리 벡터는 $[0, 0, 1, 0, 0, 0, 0, 0, 1, 0, 1]^T$입니다. 이제 행렬-벡터 곱 $DX$에는 데이터베이스의 각 제목과 일치하는 검색 단어 수를 나타내는 항목이 포함됩니다.  "
   ]
  },
  {
   "cell_type": "code",
   "execution_count": 4,
   "metadata": {},
   "outputs": [
    {
     "name": "stdout",
     "output_type": "stream",
     "text": [
      "[[0]\n",
      " [0]\n",
      " [3]\n",
      " [2]\n",
      " [1]\n",
      " [2]]\n"
     ]
    }
   ],
   "source": [
    "X = np.array([[0, 0, 1, 0, 0, 0, 0, 1, 0, 1]])\n",
    "results = D@X.transpose()\n",
    "print(results)"
   ]
  },
  {
   "cell_type": "markdown",
   "metadata": {},
   "source": [
    "세 번째 항목인 $DX$가 가장 크므로 데이터베이스의 세 번째 웹페이지가 검색 키워드 목록과 가장 잘 일치합니다. 마지막 세 개의 제목은 부분 검색 일치로 보고될 수도 있습니다. 데이터베이스 검색은 단일 행렬 곱셈과 벡터 $DX$를 검색하여 가장 큰 항목을 찾는 것에 불과하다는 점에 유의하세요.\n",
    "\n",
    "데이터베이스의 문서가 표현될 수 있는 다른 방법도 있습니다. 한 가지 방법은 각 문서 벡터의 $n$번째 항목이 해당 문서에서 해당 단어의 빈도와 같도록 하는 것입니다. 예를 들어, 7번째 키워드가 문서에 53번 등장하는 경우, 해당 문서를 나타내는 벡터의 7번째 항목은 53번이 됩니다. 그 결과 일치하는 키워드의 인스턴스가 많이 포함된 문서가 해당 단어의 인스턴스가 적은 문서보다 검색에서 더 높은 순위를 차지하게 됩니다. \n",
    "\n",
    "또 다른 아이디어는 $n$번째 항목을 해당 문서에서 연관된 키워드의 상대적 빈도와 동일하게 설정하는 것입니다. **상대적 빈도**는 빈도를 문서에 있는 모든 키워드의 총 수로 나눈 값입니다.  아래는 검색 가능한 단어가 10개만 있는 경우 키워드 수가 어떻게 표시되는지 보여주는 예입니다.\n",
    "\n",
    "|Keyword|Document 1|\n",
    "|----|------|\n",
    "|algorithm|19|\n",
    "|engine|23|\n",
    "|information|0|\n",
    "|google|2|\n",
    "|compuations|0|\n",
    "|matrix|11|\n",
    "|optimization|0| \n",
    "|retrieval|10| \n",
    "|search|31|\n",
    "|theory|4|\n",
    "\n",
    "키워드 일치 항목이 총 100개이므로 각 항목을 100으로 나누면 문서 1에 해당하는 행 벡터는 $[0.19, 0.23, 0, 0.02, 0, 0.11, 0, 0.1, 0.31, 0.04]$가 됩니다. 실제로 검색 가능한 단어의 수와 각 문서의 단어 수는 각각 수만 개에 달할 수 있습니다. 쿼리 벡터는 다시 검색 단어에 해당하는 엔트리가 1이고 다른 모든 엔트리가 0으로 설정된 열 벡터입니다. 검색은 단일 행렬 곱셈으로 실행된 다음 가장 큰 항목에 대한 결과 벡터를 검색하는 방식으로 수행됩니다. 이 표현의 효과는 빈도를 사용하는 것과 비슷하지만, 이제 30000단어에 50개의 일치 항목이 있는 문서가 100000단어에 50개의 일치 항목이 있는 문서보다 더 높은 평가를 받게 됩니다."
   ]
  },
  {
   "cell_type": "markdown",
   "metadata": {},
   "source": [
    "### References\n",
    "\n",
    "- Berry, Michael W. and Murray Browne. *Understanding Serach Engines: Mathematical Modeling and Text Retrieval*. 2nd ed., SIAM, 2005 \n",
    "\n",
    "- Lay, David, et al. *Linear Algebra and its Applications*. 5th ed., Pearson., 2016\n",
    "\n",
    "- Leon, Steven J. *Linear Algebra with Applications*. 9th ed., Pearson., 2015\n"
   ]
  }
 ],
 "metadata": {
  "kernelspec": {
   "display_name": "Python 3",
   "language": "python",
   "name": "python3"
  },
  "language_info": {
   "codemirror_mode": {
    "name": "ipython",
    "version": 3
   },
   "file_extension": ".py",
   "mimetype": "text/x-python",
   "name": "python",
   "nbconvert_exporter": "python",
   "pygments_lexer": "ipython3",
   "version": "3.11.7"
  }
 },
 "nbformat": 4,
 "nbformat_minor": 4
}
