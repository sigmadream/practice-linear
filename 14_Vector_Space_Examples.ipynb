{
 "cells": [
  {
   "cell_type": "markdown",
   "metadata": {},
   "source": [
    "# 벡터 공간의 예\n"
   ]
  },
  {
   "cell_type": "markdown",
   "metadata": {},
   "source": [
    "벡터 공간에 대한 기본 개념이 정리되었으므로 이제 벡터 공간을 특정 속성을 만족하는 객체와 대수 연산의 집합으로 이해하는 추상화로 돌아가 보겠습니다."
   ]
  },
  {
   "cell_type": "markdown",
   "metadata": {},
   "source": [
    "## 예제 1: Polynomials\n",
    "\n",
    "차수가 3 이하인 모든 다항식의 집합은 일반적인 대수 연산과 함께 벡터 공간을 구성합니다.  이 벡터 공간은 일반적으로 $\\mathbb{P}_3$라는 기호로 표기합니다. 예를 들어 $\\mathbb{P}_3$에서 두 원소, $p = 2x^3 - x^2 + 6x -8$과 $q = x^3 - 3x^2 -4x -3$을 취하면 선형 조합 $p+2q = 4x^3 - 7x^2 -2x -14$가 잘 정의되어 있으며 $\\mathbb{P}_3$의 또 다른 원소입니다. 실제로 $\\mathbb{P}_3$의 다항식의 선형 조합은 대수의 일반적인 규칙에 따라 $\\mathbb{P}_3$의 다른 다항식이 될 것입니다.\n",
    "\n",
    "$$\n",
    "\\begin{matrix}\n",
    "s(a_3x^3 + a_2x^2 + a_1 + a_0) + t(b_3x^3 + b_2x^2 + b_1x + b_0) = (sa_3+tb_3)x^3 + (sa_2+tb_2)x^2 + (sa_1+tb_1)x\n",
    "+ (sa_0 + ta_0)\n",
    "\\end{matrix}\n",
    "$$\n",
    "\n",
    "대수 연산에 필요한 속성은 모두 충족되지만 여기서는 확인하지 않습니다.\n",
    "\n",
    "$mathbb{P}_3$에서 다항식을 지정하려면 4개의 계수가 필요하므로 $\\mathbb{P}_3$의 차원이 4라는 것을 이해하는 것은 어느 정도 자연스러운 일입니다.  이러한 $\\mathbb{P}_3$의 기저 중 하나는 집합 $\\{x^3, x^2, x, 1\\}$입니다. 이 기저에 대한 모든 다항식의 좌표는 $x^3$, $x^2$, $x$ 항과 상수 항의 계수일 뿐입니다. 이 표준 기저를 사용하면 스팬과 선형 독립성에 대한 개념을 논의할 수 있습니다.\n",
    "\n",
    "다음 다항식(벡터) 컬렉션은 $\\mathbb{P}_3$에서 선형 종속적입니다.\n",
    "\n",
    "$$\n",
    "\\begin{matrix}\n",
    "p_1 & = & 3x^3 + 2x^2 + x  - 1 \\\\\n",
    "p_2 & = & x^2 - 5x + 4 \\\\\n",
    "p_3 & = & 6x^3 + 3x^2 + 7x + -6 \\\\\n",
    "p_4 & = & -2x^3 + 2x^2 + 8x\n",
    "\\end{matrix}\n",
    "$$\n",
    "\n",
    "집합이 선형 의존적이라는 것을 보여주기 위해서는 $c_1p_1 + c_2p_2 + c_3p_3 + c_4p_4 = 0$ 방정식에 대한 부등식을 찾아야 합니다. 왼쪽의 다항식은 모든 항의 계수가 0과 같을 때만 0이 될 수 있습니다. 대수적 연산을 진행하면, 네 항 각각에 대해 하나의 방정식을 얻을 수 있습니다.\n",
    "\n",
    "$$\n",
    "\\begin{matrix}\n",
    "3c_1 \\quad\\quad + 6c_3 -2c_4 & = & 0 \\\\\n",
    "2c_1 +c_2 + 3c_3 + 2c_4 & = & 0 \\\\\n",
    "c_1 -5c_2 + 7c_3 + 8c_4 & = & 0 \\\\\n",
    "-c_1 +4c_2 - 6c_3 \\quad\\quad & = & 0 \\\\\n",
    "\\end{matrix}\n",
    "$$\n",
    "\n",
    "이 시스템의 계수 행렬의 RREF를 살펴보면 4개의 열 각각에 피벗이 없다는 것을 알 수 있는데, 이는 시스템이 비차분 해를 가지고 있으며 다항식 집합이 선형적으로 독립적이지 않다는 것을 의미합니다."
   ]
  },
  {
   "cell_type": "code",
   "execution_count": 1,
   "metadata": {},
   "outputs": [
    {
     "name": "stdout",
     "output_type": "stream",
     "text": [
      "[[ 1.  0.  2.  0.]\n",
      " [ 0.  1. -1.  0.]\n",
      " [ 0.  0.  0.  1.]\n",
      " [ 0.  0.  0.  0.]]\n"
     ]
    }
   ],
   "source": [
    "import numpy as np\n",
    "import linear_solver as ls\n",
    "\n",
    "A = np.array([[3,0,6,-2],[2,1,3,2],[1,-5,7,8],[-1,4,-6,0]])\n",
    "print(ls.full_row_reduction(A))"
   ]
  },
  {
   "cell_type": "markdown",
   "metadata": {},
   "source": [
    "다항식을 구성하는 다항식에는 특별한 것이 없습니다. 일반적으로 차수 $n$ 이하의 다항식의 집합을 $\\mathbb{P}_n$이라고 하며, $n$의 임의의 선택에 대한 벡터 공간이기도 합니다."
   ]
  },
  {
   "cell_type": "markdown",
   "metadata": {},
   "source": [
    "### Example 2: Matrices\n",
    "\n",
    "[행렬 대수](03_Matrix_Algebra.ipynb)에서는 열이 하나뿐인 행렬을 일반적으로 벡터라고 하며, 열이 하나인 행렬을 계산하기 위해 행렬의 대수를 특별히 정의할 필요가 없다는 점을 소개하였습니다. 일반적으로 행렬의 선형 조합을 계산하는 데 필요한 대수적 방법은 열이 하나인 행렬의 선형 조합을 계산하는 데 필요한 대수적 방법은 다르지 않습니다. 그렇다면 여러 열을 가진 행렬도 단일 열을 가진 행렬과 마찬가지로 벡터라고 생각하는 것이 자연스럽습니다. 어떤 의미에서 우리가 벡터라고 부르는 단일 열 행렬은 특수한 유형의 행렬일 뿐입니다. 그러나 벡터 공간의 공식적인 정의에 따르면, 행렬 덧셈과 스칼라 곱셈 연산이 모든 대수적 요구 사항을 충족하기 때문에 주어진 모양의 모든 행렬의 집합이 벡터 공간을 구성합니다. 이러한 의미에서 행렬은 벡터 공간을 구성하는 객체이므로 *벡터*입니다. 이 용어가 혼란스러운 것은 당연합니다.  \n",
    "\n",
    "구체적인 예로, $\\mathbb{M}_{2 \\times 3}$ 기호를 할당하는 모든 $2 \\times 3$ 행렬을 고려해 보겠습니다. 두 개의 행렬을 선택하고 임의의 선형 조합을 형성하면 또 다른 $2 \\times 3$ 행렬을 얻을 수 있습니다.\n",
    "\n",
    "$$\n",
    "\\begin{matrix}\n",
    "c_1A + c_2B = \n",
    "c_1\\left[ \\begin{array}{ccc} a_{11} & a_{12} & a_{13} \\\\ a_{21} & a_{22} & a_{23}  \\end{array}\\right] +\n",
    "c_2\\left[ \\begin{array}{ccc} b_{11} & b_{12} & b_{13} \\\\ b_{21} & b_{22} & b_{23}  \\end{array}\\right] =\n",
    "\\left[ \\begin{array}{ccc} c_1a_{11}+c_2b_{11} & c_1a_{12}+c_2b_{12} & c_1a_{13}+c_2b_{13} \\\\ \n",
    "c_1a_{21}+c_2b_{21} & c_1a_{22}+c_2b_{22} & c_1a_{23}+c_2b_{23}  \\end{array}\\right]\n",
    "\\end{matrix}\n",
    "$$\n",
    "\n",
    "이러한 대수 연산은 유효한 벡터 공간에 필요한 모든 요건을 충족하므로 검증에 대한 자세한 설명은 생략하겠습니다.\n",
    "\n",
    "표준 기준 역할을 하는 다음과 같은 행렬 모음을 작성할 수 있으며, 이를 $\\alpha$라고 부릅니다.\n",
    "\n",
    "$$\n",
    "\\begin{matrix}\n",
    "E_1 = \\left[ \\begin{array}{ccc} 1 & 0 & 0 \\\\ 0 & 0 & 0  \\end{array}\\right] \\hspace{1cm}\n",
    "E_3 = \\left[ \\begin{array}{ccc} 0 & 1 & 0 \\\\ 0 & 0 & 0  \\end{array}\\right] \\hspace{1cm}\n",
    "E_5 = \\left[ \\begin{array}{ccc} 0 & 0 & 1 \\\\ 0 & 0 & 0  \\end{array}\\right] \\hspace{1cm}\n",
    "\\end{matrix}\n",
    "$$\n",
    "\n",
    "$$\n",
    "\\begin{matrix}\n",
    "E_2 = \\left[ \\begin{array}{ccc} 0 & 0 & 0 \\\\ 1 & 0 & 0  \\end{array}\\right] \\hspace{1cm}\n",
    "E_4 = \\left[ \\begin{array}{ccc} 0 & 0 & 0 \\\\ 0 & 1 & 0  \\end{array}\\right] \\hspace{1cm}\n",
    "E_6 = \\left[ \\begin{array}{ccc} 0 & 0 & 0 \\\\ 0 & 0 & 1  \\end{array}\\right] \\hspace{1cm}\n",
    "\\end{matrix}\n",
    "$$\n",
    "\n",
    "이제 행렬 $B$와 기저 $\\alpha$에 대한 $B$의 *좌표 벡터*를 구분해 보겠습니다.\n",
    "\n",
    "$$\n",
    "\\begin{matrix}\n",
    "B = \\left[ \\begin{array}{ccc} 2 & 0 & 5 \\\\ 1 & -1 & 2  \\end{array}\\right] \\hspace{1cm} \n",
    "\\left [B\\right]_{\\alpha} = \\left[ \\begin{array}{r} 2\\\\1\\\\0\\\\-1\\\\5\\\\2  \\end{array}\\right] \\hspace{1cm}\n",
    "\\end{matrix}\n",
    "$$\n",
    "\n",
    "좌표 벡터 $\\left[B\\right]_{\\alpha}$ 는 $\\mathbb{R}^6$ 의 벡터로, 행렬 $B$ 를 기저 $\\alpha$ 의 원소들의 선형 조합으로 조립하는 방법에 대한 설명을 제공합니다."
   ]
  },
  {
   "cell_type": "markdown",
   "metadata": {},
   "source": [
    "## 예제 3: Functions\n",
    "\n",
    "세 번째 예로, $C\\left[0,1\\right]$ 기호로 주어지는 $[0,1]$ 간격의 모든 연속 함수의 집합을 살펴봅니다. $f$와 $g$가 이러한 두 함수이고 $c$가 스칼라라면, 함수 대수를 사용하여 $cf$와 $f+g$를 정의할 수 있습니다.\n",
    "\n",
    "$$\n",
    "\\begin{matrix}\n",
    "(cf)(x) & = & c(f(x)) \\\\\n",
    "(f + g)(x) & = & f(x) + g(x)\n",
    "\\end{matrix}\n",
    "$$\n",
    "\n",
    "이러한 함수들의 대수적 조합은 $C\\left[0,1\\right]$를 벡터 공간으로 만들기 위한 모든 요건을 충족합니다. 이 공간은 유한 차원을 갖지 않는다는 점에서 다른 예와 상당히 다릅니다. $C\\left[0,1\\right]$의 모든 기저에는 무한한 수의 함수가 포함되어야 합니다. 이러한 이유로 함수 집합이 선형적으로 독립적인지 확인하기 위해 이전 예제에서와 같은 계산을 쉽게 수행할 수 없습니다. 하지만 이 예제는 나중에 응용 프로그램에서 사용할 것입니다."
   ]
  }
 ],
 "metadata": {
  "kernelspec": {
   "display_name": "Python 3",
   "language": "python",
   "name": "python3"
  },
  "language_info": {
   "codemirror_mode": {
    "name": "ipython",
    "version": 3
   },
   "file_extension": ".py",
   "mimetype": "text/x-python",
   "name": "python",
   "nbconvert_exporter": "python",
   "pygments_lexer": "ipython3",
   "version": "3.12.1"
  }
 },
 "nbformat": 4,
 "nbformat_minor": 4
}
