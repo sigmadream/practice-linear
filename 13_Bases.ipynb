{
 "cells": [
  {
   "cell_type": "markdown",
   "metadata": {},
   "source": [
    "# 기저"
   ]
  },
  {
   "cell_type": "markdown",
   "metadata": {},
   "source": [
    "벡터 공간 또는 부분 공간으로 작업할 때, 임의의 벡터를 **기저** 라고 알려진 주어진 벡터 집합의 선형 조합으로 표현하는 것이 유용할 때가 많습니다. **벡터 공간(또는 부분 공간)의 기저**는 공간에 걸쳐 있는 선형적으로 독립적인 벡터의 집합입니다. 이 정의는 선형 독립성과 스패닝 집합의 개념을 결합하여 벡터 공간의 구성 요소로 이해할 수 있는 벡터 집합을 설명합니다.  \n",
    "\n",
    "벡터 집합 $\\{V_1, V_2, V_3, ... V_n\\}$ 의 벡터 집합과 $\\mathbb{R}^n$ 의 벡터 $Y$ 가 주어지면, 벡터 방정식 $c_1V_1 + c_2V_2 + ... c_nV_n = Y$ 를 생각해 봅시다. 이 벡터 방정식은 선형 시스템을 나타내며, 행렬 방정식 $AX=Y$로도 표현할 수 있는데, 여기서 $A$는 벡터 $V_i$를 열로 갖는 $n\\ times n$ 행렬입니다. 이전 섹션에서 우리는 이 시스템과 관련하여 두 가지 중요한 결론을 내렸습니다.\n",
    "\n",
    "- $V_1, V_2, V_3, ... $에 걸쳐 $\\{V_1, V_2, ...\\}$가 존재하면 $AX=Y$는 적어도 하나의 해를 갖습니다. $\\{ V_n \\}$ 은 $\\mathbb{R}^n$에 걸쳐 있습니다.\n",
    "- $\\{ V_1, V_2, V_3, ... V_n \\}$가 선형 독립적인 경우 $AX=Y$는 적어도 하나의 해를 갖습니다.\n",
    "\n",
    "$AX=Y$는 $A$의 열이 선형적으로 독립적이고, 공간 $\\mathbb{R}^n$에 걸쳐 있는 경우에만 $\\mathbb{R}^n$의 각 $Y$에 대해 정확히 하나의 해를 갖는다는 것을 알 수 있습니다. 다시 말해, 벡터 방정식 $c_1V_1 + c_2V_2 + ... c_nV_n = Y$는 벡터 집합 $\\{V_1, V_2, V_3, ... V_n \\}$의 경우에만 $\\mathbb{R}^n$의 모든 $Y$에 대해 고유한 해를 갖습니다. $\\{V_n\\}$ 은 $\\mathbb{R}^n$ 의 기저입니다."
   ]
  },
  {
   "cell_type": "markdown",
   "metadata": {},
   "source": [
    "### 예제 1:  Basis for $\\mathbb{R}^5$\n",
    "\n",
    "다음 벡터 집합은 $\\mathbb{R}^5$의 기저를 형성합니다.\n",
    "\n",
    "$$\n",
    "\\begin{matrix}\n",
    "V_1 = \\left[ \\begin{array}{r} -3 \\\\ 3 \\\\ 2 \\\\ -3 \\\\ -2 \\end{array}\\right] \\hspace{0.7cm} \n",
    "V_2 = \\left[ \\begin{array}{r} 3 \\\\ 3 \\\\ 2 \\\\ -1 \\\\ 3  \\end{array}\\right] \\hspace{0.7cm}\n",
    "V_3 = \\left[ \\begin{array}{r} 2 \\\\ 0 \\\\ -2 \\\\ 2 \\\\ 2 \\end{array}\\right] \\hspace{0.7cm}\n",
    "V_4 = \\left[ \\begin{array}{r} -3 \\\\ -1 \\\\ 2 \\\\ -1 \\\\ 3 \\end{array}\\right] \\hspace{0.7cm}\n",
    "V_5 = \\left[ \\begin{array}{r} -2 \\\\ 0 \\\\ -3 \\\\ 3 \\\\ -2 \\end{array}\\right] \n",
    "\\end{matrix}\n",
    "$$\n",
    "\n",
    "이러한 벡터가 기저를 형성하는지 확인하려면 벡터가 선형적으로 독립적인지, 그리고 $\\mathbb{R}^5$에 걸쳐 있는지 확인해야 합니다.  \n",
    "\n",
    "앞선 논의에 따라 $AX=Y$ 시스템에서 $A$는 $V_i$를 열로 하는 $5 \\times 5$ 행렬이고 $Y$는 $\\mathbb{R}^5$의 임의의 벡터인 해집합의 구조를 결정함으로써 이러한 특성을 확인할 수 있습니다. A$가 각 행에 피벗을 가지고 있다면 $AX=Y$는 임의의 $Y$에 대해 일관성이 있다는 것을 알 수 있습니다. 자유 변수가 없는 경우 $AX=Y$는 임의의 $Y$에 대해 최대 하나의 해를 갖는다는 것을 알고 있습니다. 이는 $A$가 각 열에 피벗이 있다는 것을 의미합니다."
   ]
  },
  {
   "cell_type": "code",
   "execution_count": 1,
   "metadata": {},
   "outputs": [
    {
     "name": "stdout",
     "output_type": "stream",
     "text": [
      "[[1. 0. 0. 0. 0.]\n",
      " [0. 1. 0. 0. 0.]\n",
      " [0. 0. 1. 0. 0.]\n",
      " [0. 0. 0. 1. 0.]\n",
      " [0. 0. 0. 0. 1.]]\n"
     ]
    }
   ],
   "source": [
    "import numpy as np\n",
    "import linear_solver as ls\n",
    "A = np.array([[-3,3,2,-3,-2],[3,3,0,-1,0],[2,2,-2,2,-3],[-3,-1,2,-1,3],[-2,3,2,3,-2]])\n",
    "print(ls.full_row_reduction(A))"
   ]
  },
  {
   "cell_type": "markdown",
   "metadata": {},
   "source": [
    "우리는 $A$의 RREF가 $5 \\times 5$의 행렬임을 알 수 있으며, 이는 $A$가 각 행과 각 열에 피벗이 있음을 나타냅니다. 이는 $A$의 열이 $\\mathbb{R}^5$의 기저를 형성한다는 것을 확인하고, 선형 시스템 $AX=Y$가 모든 벡터 $Y$에 대해 고유한 해를 가지고 있음을 보장합니다."
   ]
  },
  {
   "cell_type": "markdown",
   "metadata": {},
   "source": [
    "### 예제 2: Standard bases\n",
    "\n",
    "$mathbb{R}^n$의 **표준 기저**는 $n \\times n$ 행렬 $I$의 열에 대응하는 벡터 $\\{E_1, E_2, ..., E_n\\}$의 집합입니다. 즉, $E_i$는 $i$번째 행렬이 1이고 다른 모든 행렬이 0인 벡터입니다. 여기서는 $\\mathbb{R}^4$의 표준 기저를 예로 들어보겠습니다.\n",
    "\n",
    "$$\n",
    "\\begin{matrix}\n",
    "E_1 = \\left[ \\begin{array}{r} 1 \\\\ 0 \\\\ 0 \\\\ 0 \\end{array}\\right] \\hspace{0.7cm} \n",
    "E_2 = \\left[ \\begin{array}{r} 0 \\\\ 1 \\\\ 0 \\\\ 0 \\end{array}\\right] \\hspace{0.7cm}\n",
    "E_3 = \\left[ \\begin{array}{r} 0 \\\\ 0 \\\\ 1 \\\\ 0 \\end{array}\\right] \\hspace{0.7cm}\n",
    "E_4 = \\left[ \\begin{array}{r} 0 \\\\ 0 \\\\ 0 \\\\ 1 \\end{array}\\right]\n",
    "\\end{matrix}\n",
    "$$\n",
    "\n",
    "분명히 $\\mathbb{R}^4$의 모든 $Y$에 대해 $IX=Y$ 시스템에 대한 고유한 해가 있습니다."
   ]
  },
  {
   "cell_type": "markdown",
   "metadata": {},
   "source": [
    "### 예제 3: Basis for a Subspace of $\\mathbb{R}^3$\n",
    "\n",
    "다음 벡터 집합은 중간 항목이 $0$인 벡터로 구성된 $\\mathbb{R}^3$의 부분 공간의 기초를 형성합니다.\n",
    "\n",
    "$$\n",
    "\\begin{matrix}\n",
    "U_1 = \\left[ \\begin{array}{r} 1 \\\\ 0 \\\\ 2 \\end{array}\\right] \\hspace{1cm} \n",
    "U_2 = \\left[ \\begin{array}{r} 0 \\\\ 0 \\\\ 1 \\end{array}\\right] \n",
    "\\end{matrix}\n",
    "$$\n",
    "\n",
    "중간 값이 0인 $\\mathbb{R}^3$의 모든 벡터는 $U_1$과 $U_2$의 선형 조합으로 표현될 수 있으며, $\\{U_1, U_2 \\}$가 선형적으로 독립적인 집합인지 확인해야 합니다. 우리는 $A$를 $U_1$과 $U_2$를 열로 하는 행렬로 정의합니다.\n",
    "\n",
    "$$\n",
    "\\begin{matrix}\n",
    "A = \\left[ \\begin{array}{rr} 1 & 0 \\\\ 0 & 0 \\\\ 2 & 1 \\end{array}\\right] \n",
    "\\end{matrix}\n",
    "$$\n",
    "\n",
    "$\\{U_1, U_2\\}$가 선형 독립적인지 확인하려면, 동종 시스템 $AX=0$ 에 비삼차 해가 있는지 알아내야 합니다. 만약 $A$의 두 열에 모두 피벗이 포함되어 있다면, 비삼차 해는 없으며 벡터는 선형 독립적입니다. 열이 두 개뿐이므로 한 열이 다른 열의 스칼라 배수가 아닌지 확인하는 것으로 충분하지만, 완전성을 위해 $A$의 RREF를 계산해 보겠습니다."
   ]
  },
  {
   "cell_type": "code",
   "execution_count": 2,
   "metadata": {},
   "outputs": [
    {
     "name": "stdout",
     "output_type": "stream",
     "text": [
      "[[1. 0.]\n",
      " [0. 1.]\n",
      " [0. 0.]]\n"
     ]
    }
   ],
   "source": [
    "A = np.array([[1,0],[0,0],[2,1]])\n",
    "print(ls.full_row_reduction(A))"
   ]
  },
  {
   "cell_type": "markdown",
   "metadata": {},
   "source": [
    "$U_1$과 $U_2$가 부분 공간에 걸쳐 있는지 확인하려면, 중간 값이 $0$인 임의의 벡터 $Y$가 두 벡터의 선형 조합으로 표현될 수 있는지 확인해야 합니다. 즉, $y_1$과 $y_3$의 값이 주어졌을 때 벡터 방정식을 풀기 위해 항상 $c_1$과 $c_2$를 구할 수 있을까요?  \n",
    "\n",
    "$$\n",
    "\\begin{matrix}\n",
    "c_1\\left[ \\begin{array}{r} 1 \\\\ 0 \\\\ 2 \\end{array}\\right] +\n",
    "c_2\\left[ \\begin{array}{r} 0 \\\\ 0 \\\\  1 \\end{array}\\right] =\n",
    "\\left[ \\begin{array}{c} y_1 \\\\ 0 \\\\ y_3 \\end{array}\\right] \n",
    "\\end{matrix}\n",
    "$$\n",
    "\n",
    "이 예제에서는 치환을 사용하여 $c_1 = y_1$과 $c_2 = y_3 - 2y_1$을 취할 수 있음이 분명합니다."
   ]
  },
  {
   "cell_type": "markdown",
   "metadata": {},
   "source": [
    "### 예제 4: Solution set of a homogeneous system\n",
    "\n",
    "여기서 $X$는 $\\mathbb{R}^4$의 벡터이고 $A$는 다음과 같은 $2 \\times 4$ 행렬인 동종 시스템 $AX=0$을 생각해 보겠습니다.\n",
    "\n",
    "$$\n",
    "\\begin{equation}\n",
    "A = \\left[ \\begin{array}{rrrr} 1 & 0 & 3 & -2 \\\\ -2 & 1 & 3 & 0 \\end{array}\\right] \n",
    "\\end{equation}\n",
    "$$"
   ]
  },
  {
   "cell_type": "code",
   "execution_count": 3,
   "metadata": {},
   "outputs": [
    {
     "name": "stdout",
     "output_type": "stream",
     "text": [
      "[[ 1.  0.  3. -2.]\n",
      " [ 0.  1.  9. -4.]]\n"
     ]
    }
   ],
   "source": [
    "A = np.array([[1,0,3,-2],[-2,1,3,0]])\n",
    "print(ls.full_row_reduction(A))"
   ]
  },
  {
   "cell_type": "markdown",
   "metadata": {},
   "source": [
    "이 시스템에서 $x_3$과 $x_4$는 자유 변수입니다. 만약 $x_3 = t$, $x_4 = s$로 설정하면, $x_1 = 2s -3t$, $x_2 = 4s -9t$가 됩니다. 이러한 파라미터를 기준으로 일반 해법 벡터 $X$의 구성 요소를 작성할 수 있습니다.\n",
    "\n",
    "$$\n",
    "\\begin{matrix}\n",
    "X = \\left[ \\begin{array}{r} x_1 \\\\ x_ 2 \\\\ x_ 3 \\\\ x_4 \\end{array}\\right] =  \n",
    "t\\left[ \\begin{array}{r} -3 \\\\ -9 \\\\  1 \\\\ 0 \\end{array}\\right] +\n",
    "s\\left[ \\begin{array}{r} 2 \\\\ 4 \\\\ 0 \\\\ 1  \\end{array}\\right] \n",
    "\\end{matrix}\n",
    "$$\n",
    "\n",
    "이 형식에서 $AX=B$의 모든 해는 다음과 같이 정의된 벡터 $W_1$과 $W_2$의 선형 조합이어야 한다는 것을 알 수 있습니다:\n",
    "\n",
    "$$\n",
    "\\begin{matrix}\n",
    "W_1 = \\left[ \\begin{array}{r} -3 \\\\ -9 \\\\  1 \\\\ 0 \\end{array}\\right] \\hspace{1cm}\n",
    "W_2 = \\left[ \\begin{array}{r} 2 \\\\ 4 \\\\ 0 \\\\ 1  \\end{array}\\right] \n",
    "\\end{matrix}\n",
    "$$\n",
    "\n",
    "집합 $\\{W_1, W_2\\}$ 는 선형적으로 독립적이며 $AX=0$ 에 대한 해집합의 기초를 형성합니다."
   ]
  },
  {
   "cell_type": "markdown",
   "metadata": {},
   "source": [
    "## Dimension\n",
    "\n",
    "이제 기저를 형성하지 않는 벡터 집합을 살펴보겠습니다. 이러한 예시를 살펴보면서 기저와 직접적으로 관련된 개념을 발견할 수 있습니다.\n",
    "\n",
    "다음 벡터 집합은 $\\mathbb{R}^5$ 의 기저가 **아닌** 집합입니다.\n",
    "\n",
    "$$\n",
    "\\begin{matrix}\n",
    "V_1 = \\left[ \\begin{array}{r} -3 \\\\ 3 \\\\ 2 \\\\ -3 \\\\ -2 \\end{array}\\right] \\hspace{0.7cm} \n",
    "V_2 = \\left[ \\begin{array}{r} 3 \\\\ 3 \\\\ 2 \\\\ -1 \\\\ 3  \\end{array}\\right] \\hspace{0.7cm}\n",
    "V_3 = \\left[ \\begin{array}{r} 2 \\\\ 0 \\\\ -2 \\\\ 2 \\\\ 2 \\end{array}\\right] \\hspace{0.7cm}\n",
    "V_4 = \\left[ \\begin{array}{r} -3 \\\\ -1 \\\\ 2 \\\\ -1 \\\\ 3 \\end{array}\\right] \\hspace{0.7cm}\n",
    "V_5 = \\left[ \\begin{array}{r} -2 \\\\ 0 \\\\ -3 \\\\ 3 \\\\ -2 \\end{array}\\right] \\hspace{0.7cm}\n",
    "V_6 = \\left[ \\begin{array}{r} -1 \\\\ 0 \\\\ 2 \\\\ 2 \\\\ 1 \\end{array}\\right] \n",
    "\\end{matrix}\n",
    "$$\n",
    "\n",
    "이러한 벡터를 열로 하는 $5 \\times 6$ 행렬을 조립하고 이전과 같이 RREF를 계산할 수 있지만, 행렬의 모양 때문에 각 열에 피벗이 없다는 것을 예상해야 합니다. 각 행은 최대 하나의 피벗만 가질 수 있으므로 행렬에는 최대 5개의 피벗이 있다는 것을 기억하세요. 열이 6개이므로 열 중 하나에는 피벗이 없습니다. 이것은 벡터 집합이 선형 의존적이며 따라서 기준이 아님을 보여줍니다."
   ]
  },
  {
   "cell_type": "code",
   "execution_count": 4,
   "metadata": {},
   "outputs": [
    {
     "name": "stdout",
     "output_type": "stream",
     "text": [
      "[[ 1.   0.   0.   0.   0.  -1.6]\n",
      " [ 0.   1.   0.   0.   0.   1.8]\n",
      " [ 0.   0.   1.   0.   0.  -2.9]\n",
      " [ 0.   0.   0.   1.   0.   0.6]\n",
      " [ 0.   0.   0.   0.   1.   1.8]]\n"
     ]
    }
   ],
   "source": [
    "B = np.array([[-3,3,2,-3,-2,-1],[3,3,0,-1,0,0],[2,2,-2,2,-3,2],[-3,-1,2,-1,3,2],[-2,3,2,3,-2,1]])\n",
    "print(ls.full_row_reduction(B))"
   ]
  },
  {
   "cell_type": "markdown",
   "metadata": {},
   "source": [
    "다음 벡터 집합은 $\\mathbb{R}^5$ 의 기저가 **아닌** 집합입니다.\n",
    "\n",
    "$$\n",
    "\\begin{matrix}\n",
    "V_1 = \\left[ \\begin{array}{r} -3 \\\\ 3 \\\\ 2 \\\\ -3 \\\\ -2 \\end{array}\\right] \\hspace{0.7cm} \n",
    "V_2 = \\left[ \\begin{array}{r} 3 \\\\ 3 \\\\ 2 \\\\ -1 \\\\ 3  \\end{array}\\right] \\hspace{0.7cm}\n",
    "V_3 = \\left[ \\begin{array}{r} 2 \\\\ 0 \\\\ -2 \\\\ 2 \\\\ 2 \\end{array}\\right] \\hspace{0.7cm}\n",
    "V_4 = \\left[ \\begin{array}{r} -3 \\\\ -1 \\\\ 2 \\\\ -1 \\\\ 3 \\end{array}\\right] \\hspace{0.7cm}\n",
    "\\end{matrix}\n",
    "$$\n",
    "\n",
    "이러한 열 벡터로 구성된 행렬은 5개의 행과 4개의 열로 구성됩니다. 각 열에는 피벗이 1개만 포함될 수 있으므로 피벗은 최대 4개까지만 있습니다. 이는 RREF에 적어도 하나의 0 행이 있다는 것을 의미하며, $\\mathbb{R}^5$의 모든 $B$에 대해 $AX = B$ 시스템이 일관적이지 않다는 것을 의미합니다."
   ]
  },
  {
   "cell_type": "code",
   "execution_count": 5,
   "metadata": {},
   "outputs": [
    {
     "name": "stdout",
     "output_type": "stream",
     "text": [
      "[[1. 0. 0. 0.]\n",
      " [0. 1. 0. 0.]\n",
      " [0. 0. 1. 0.]\n",
      " [0. 0. 0. 1.]\n",
      " [0. 0. 0. 0.]]\n"
     ]
    }
   ],
   "source": [
    "B = np.array([[-3,3,2,-3],[3,3,0,-1],[2,2,-2,2],[-3,-1,2,-1],[-2,3,2,3]])\n",
    "print(ls.full_row_reduction(B))"
   ]
  },
  {
   "cell_type": "markdown",
   "metadata": {},
   "source": [
    "이 두 예는 정확히 5개의 벡터를 포함하지 않는 벡터 집합이 $\\mathbb{R}^5$의 기준이 될 수 없는 이유를 설명합니다. 우리는 공간이 5차원이기 때문에 정확히 5개의 벡터가 필요하다고 생각할 수 있으며, 이는 거의 맞습니다. 공간의 기저에 벡터가 5개 있어야 하기 때문에 $\\mathbb{R}^5$는 5차원이라고 말하는 것이 더 정확합니다. 벡터 공간(또는 부분 공간)의 **차원**은 공간의 모든 기저에 있는 벡터의 수로 정의됩니다."
   ]
  },
  {
   "cell_type": "markdown",
   "metadata": {},
   "source": [
    "## Coordinates\n",
    "\n",
    "이제 기저 $\\{V_1, V_2, V_3, ... V_n\\}$ 의 기저 $\\mathbb{R}^n$ 과 $\\mathbb{R}^n$ 의 벡터 $X$ 가 주어지면, 기저 벡터의 고유한 선형 조합이 $X$ 와 같다는 것을 알 수 있습니다. 이 기저에 대한 $X$의 **좌표**는 벡터 방정식 $X=c_1V_1 + c_2V_2 + ... c_nV_n$을 만족하는 고유한 가중치 $c_1$, $c_2$, ... $c_n$의 집합입니다. 이 시점에서 논의 중인 기저에 레이블을 지정하는 것이 유용해집니다. 예를 들어, $\\beta = \\{V_1, V_2, V_3, ... V_n\\}$라고 하고, $\\beta$에 대한 $X$의 좌표를 참조할 수 있습니다. 이러한 가중치를 $n \\times 1$ 배열로 모으는 것은 당연한 일이며, 여기에 $[X]_{\\beta}$라는 표기법을 할당할 것입니다. 혼동할 수 있지만, 이 배열을 \"좌표 벡터\"라고 부릅니다.\n",
    "\n",
    "이를 설명하기 위해 **예제 1**에 주어진 $\\mathbb{R}^5$의 기저를 사용하고 $\\beta$라는 레이블을 지정한다고 가정해 보겠습니다.  이제 $\\beta$에 대한 벡터 $X$의 좌표를 구하는 데 필요한 계산을 생각해 봅시다.\n",
    "\n",
    "$$\n",
    "\\begin{matrix}\n",
    "X = \\left[ \\begin{array}{r} 3 \\\\ 5 \\\\ -3 \\\\ -2 \\\\ -7 \\end{array}\\right]= \n",
    "c_1\\left[ \\begin{array}{r} -3 \\\\ 3 \\\\ 2 \\\\ -3 \\\\ -2 \\end{array}\\right] \n",
    "+c_2\\left[ \\begin{array}{r} 3 \\\\ 3 \\\\ 2 \\\\ -1 \\\\ 3  \\end{array}\\right]\n",
    "+c_3\\left[ \\begin{array}{r} 2 \\\\ 0 \\\\ -2 \\\\ 2 \\\\ 2 \\end{array}\\right] \n",
    "+c_4\\left[ \\begin{array}{r} -3 \\\\ -1 \\\\ 2 \\\\ -1 \\\\ 3 \\end{array}\\right] \n",
    "+c_5\\left[ \\begin{array}{r} -2 \\\\ 0 \\\\ -3 \\\\ 3 \\\\ -2 \\end{array}\\right] \n",
    "\\end{matrix}\n",
    "$$\n",
    "\n",
    "좌표를 구하려면 선형 시스템 $A[X]_{\\beta} = X$를 풀어야 하는데, 여기서 $A$는 기저 벡터를 열로 하는 행렬이고, $[X]_{\\beta}$는 미지수의 벡터입니다."
   ]
  },
  {
   "cell_type": "code",
   "execution_count": 6,
   "metadata": {},
   "outputs": [
    {
     "name": "stdout",
     "output_type": "stream",
     "text": [
      "[[ 2.]\n",
      " [-1.]\n",
      " [ 2.]\n",
      " [-2.]\n",
      " [-1.]]\n"
     ]
    }
   ],
   "source": [
    "A = np.array([[-3,3,2,-3,-2],[3,3,0,-1,0],[2,2,-2,2,-3],[-3,-1,2,-1,3],[-2,3,2,3,-2]])\n",
    "X = np.array([[3],[5],[-3],[-2],[-7]])\n",
    "X_beta = ls.solve_system(A,X)\n",
    "print(X_beta)"
   ]
  },
  {
   "cell_type": "markdown",
   "metadata": {},
   "source": [
    "좌표를 계산할 때는 항상 선형 시스템을 풀어야 하므로, 선형 시스템 $AX=B$를 풀 때마다 실제로는 $A$의 열에 대한 $B$의 좌표를 구하는 것임을 기억하면 도움이 될 수 있습니다."
   ]
  }
 ],
 "metadata": {
  "kernelspec": {
   "display_name": "Python 3",
   "language": "python",
   "name": "python3"
  },
  "language_info": {
   "codemirror_mode": {
    "name": "ipython",
    "version": 3
   },
   "file_extension": ".py",
   "mimetype": "text/x-python",
   "name": "python",
   "nbconvert_exporter": "python",
   "pygments_lexer": "ipython3",
   "version": "3.12.1"
  }
 },
 "nbformat": 4,
 "nbformat_minor": 4
}
