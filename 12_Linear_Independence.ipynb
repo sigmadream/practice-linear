{
 "cells": [
  {
   "cell_type": "markdown",
   "metadata": {},
   "source": [
    "# 선형 독립"
   ]
  },
  {
   "cell_type": "markdown",
   "metadata": {},
   "source": [
    "벡터집합 $V$가 $\\{V_1, V_2, V_3, ... V_n\\}$ 일 때, $C_1 = C_2 = C_3 = .... = C_N = 0$으로 유일한 해를 가지면 벡터 집합 $V$는 선형독립이라고 합니다.\n",
    "\n",
    "$$\n",
    "\\begin{matrix}\n",
    "c_1V_1 + c_2V_2 + c_3V_3 + .... + c_nV_n = 0\n",
    "\\end{matrix}\n",
    "$$\n",
    "\n",
    "이것을 아주 간단하게 주장하자면, 선형독립은 벡터집합 $V$의 어떠한 원소도 나머지 원소들의 선형결합으로 나타낼 수 없습니다. 즉, 각각의 벡터는 서로 독립적으로 존재한다고 할 수 있습니다. 반면, 선형종속의 의미​는 벡터집합 S의 원소 중 적어도 하나는 나머지 원소들의 선형결합으로 나타낼 수 있습니다. 즉, 어떠한 특정 벡터가 나머지 벡터에 의존하여 영향을 받는다고 할 수 있습니다."
   ]
  },
  {
   "cell_type": "markdown",
   "metadata": {},
   "source": [
    "## 예제 1:  Vectors in $\\mathbb{R}^2$\n",
    "\n",
    "$$\n",
    "\\begin{matrix}\n",
    "V_1 = \\left[ \\begin{array}{r} 2 \\\\ 1 \\end{array}\\right] \\hspace{1cm} \n",
    "V_2 = \\left[ \\begin{array}{r} 1 \\\\ -6  \\end{array}\\right] \\hspace{1cm}\n",
    "\\end{matrix}\n",
    "$$\n",
    "\n",
    "이 벡터 집합이 선형적으로 독립적인지 확인하려면 다음 벡터 방정식을 살펴봐야 합니다.\n",
    "\n",
    "$$\n",
    "\\begin{matrix}\n",
    "c_1\\left[ \\begin{array}{r} 2 \\\\ 1 \\end{array}\\right] +\n",
    "c_2\\left[ \\begin{array}{r} 1 \\\\ -6  \\end{array}\\right] =\n",
    "\\left[ \\begin{array}{r} 0 \\\\ 0 \\end{array}\\right]\n",
    "\\end{matrix}\n",
    "$$\n",
    "\n"
   ]
  },
  {
   "cell_type": "code",
   "execution_count": 1,
   "metadata": {},
   "outputs": [],
   "source": [
    "import numpy as np\n",
    "\n",
    "def row_swap(A,k,l):\n",
    "    m = A.shape[0]  # m is number of rows in A\n",
    "    n = A.shape[1]  # n is number of columns in A\n",
    "    \n",
    "    B = np.copy(A).astype('float64')\n",
    "\n",
    "    for j in range(n):\n",
    "        temp = B[k][j]\n",
    "        B[k][j] = B[l][j]\n",
    "        B[l][j] = temp\n",
    "        \n",
    "    return B\n",
    "\n",
    "def row_scale(A,k,scale):\n",
    "    m = A.shape[0]  # m is number of rows in A\n",
    "    n = A.shape[1]  # n is number of columns in A\n",
    "    \n",
    "    B = np.copy(A).astype('float64')\n",
    "\n",
    "    for j in range(n):\n",
    "        B[k][j] *= scale\n",
    "        \n",
    "    return B\n",
    "\n",
    "def row_add(A,k,l,scale):\n",
    "    m = A.shape[0]  # m is number of rows in A\n",
    "    n = A.shape[1]  # n is number of columns in A\n",
    "    \n",
    "    B = np.copy(A).astype('float64')\n",
    "        \n",
    "    for j in range(n):\n",
    "        B[l][j] += B[k][j]*scale\n",
    "        \n",
    "    return B\n",
    "\n",
    "def full_row_reduction(A, tol = 1e-14):\n",
    "    m = A.shape[0]  # m is number of rows in A\n",
    "    n = A.shape[1]  # n is number of columns in A\n",
    "\n",
    "    B = np.copy(A).astype('float64')\n",
    "\n",
    "    # Set initial pivot search position\n",
    "    pivot_row = 0\n",
    "    pivot_col = 0\n",
    "    \n",
    "    # Continue steps of elimination while possible pivot positions are \n",
    "    # within bounds of the array.\n",
    "    \n",
    "    while(pivot_row < m and pivot_col < n):\n",
    "\n",
    "        # Set pivot value to current pivot position\n",
    "        pivot = B[pivot_row,pivot_col]\n",
    "        \n",
    "        # If pivot is zero, search down current column, and then subsequent\n",
    "        # columns (at or beyond pivot_row) for the next nonzero entry in the \n",
    "        # array is found, or the last entry is reached.\n",
    "\n",
    "        row_search = pivot_row\n",
    "        col_search = pivot_col\n",
    "        search_end = False\n",
    "\n",
    "        while(pivot == 0 and not search_end):\n",
    "            if(row_search < m-1):\n",
    "                row_search += 1\n",
    "                pivot = B[row_search,col_search]\n",
    "            else:\n",
    "                if(col_search < n-1):\n",
    "                    row_search = pivot_row\n",
    "                    col_search += 1\n",
    "                    pivot = B[row_search,col_search]\n",
    "                else:  \n",
    "                    # col_search = n-1 and row_search = m-1\n",
    "                    search_end = True\n",
    "                        \n",
    "        # Swap row if needed to bring pivot to position for rref\n",
    "        if (pivot != 0 and pivot_row != row_search):\n",
    "            B = row_swap(B,pivot_row,row_search)\n",
    "            pivot_row, row_search = row_search, pivot_row\n",
    "            \n",
    "        # Set pivot position to search position\n",
    "        pivot_row = row_search\n",
    "        pivot_col = col_search\n",
    "            \n",
    "        # If pivot is nonzero, carry on with elimination in pivot column \n",
    "        if (pivot != 0):\n",
    "            \n",
    "            # Set pivot entry to one\n",
    "            B = row_scale(B,pivot_row,1./B[pivot_row,pivot_col])\n",
    "\n",
    "            # Create zeros above pivot\n",
    "            for i in range(pivot_row):    \n",
    "                B = row_add(B,pivot_row,i,-B[i][pivot_col])\n",
    "                # Force known zeros\n",
    "                B[i,pivot_col] = 0\n",
    "\n",
    "            # Create zeros below pivot\n",
    "            for i in range(pivot_row+1,m):    \n",
    "                B = row_add(B,pivot_row,i,-B[i][pivot_col])\n",
    "                # Force known zeros\n",
    "                B[i,pivot_col] = 0\n",
    "\n",
    "            # Force small numbers to zero to account for roundoff error\n",
    "            for i in range(m):\n",
    "                for j in range(n):\n",
    "                    if abs(B[i,j])< tol :\n",
    "                        B[i,j] = 0\n",
    "\n",
    "        # Advance to next possible pivot position\n",
    "        pivot_row += 1\n",
    "        pivot_col += 1\n",
    "        \n",
    "    return B\n",
    "\n",
    "def row_reduction(A):\n",
    "    \n",
    "    m = A.shape[0]  # A has m rows \n",
    "    n = A.shape[1]  # It is assumed that A has m+1 columns\n",
    "    \n",
    "    B = np.copy(A).astype('float64')\n",
    "\n",
    "    # For each step of elimination, we find a suitable pivot, move it into\n",
    "    # position and create zeros for all entries below.\n",
    "    \n",
    "    for k in range(m):\n",
    "        # Set pivot as (k,k) entry\n",
    "        pivot = B[k][k]\n",
    "        pivot_row = k\n",
    "        \n",
    "        # Find a suitable pivot if the (k,k) entry is zero\n",
    "        while(pivot == 0 and pivot_row < m-1):\n",
    "            pivot_row += 1\n",
    "            pivot = B[pivot_row][k]\n",
    "            \n",
    "        # Swap row if needed\n",
    "        if (pivot_row != k):\n",
    "            B = row_swap(B,k,pivot_row)\n",
    "            \n",
    "        # If pivot is nonzero, carry on with elimination in column k\n",
    "        if (pivot != 0):\n",
    "            B = row_scale(B,k,1./B[k][k])\n",
    "            for i in range(k+1,m):    \n",
    "                B = row_add(B,k,i,-B[i][k])\n",
    "        else:\n",
    "            print(\"Pivot could not be found in column\",k,\".\")\n",
    "            \n",
    "    return B\n",
    "\n"
   ]
  },
  {
   "cell_type": "code",
   "execution_count": 2,
   "metadata": {},
   "outputs": [
    {
     "name": "stdout",
     "output_type": "stream",
     "text": [
      "[[1. 0. 0.]\n",
      " [0. 1. 0.]]\n"
     ]
    }
   ],
   "source": [
    "import numpy as np\n",
    "\n",
    "A_augmented = np.array([[2,1,0],[1,-6,0]])\n",
    "print(full_row_reduction(A_augmented))"
   ]
  },
  {
   "cell_type": "markdown",
   "metadata": {},
   "source": [
    "RREF에서 방정식의 유일한 해는 $c_1 = c_2 = 0$임을 알 수 있습니다. 집합 $\\{V_1, V_2\\}$는 선형 독립적입니다."
   ]
  },
  {
   "cell_type": "markdown",
   "metadata": {},
   "source": [
    "## 예제 2: Vectors in $\\mathbb{R}^3$\n",
    "\n",
    "$$\n",
    "\\begin{matrix}\n",
    "W_1 = \\left[ \\begin{array}{r} 2 \\\\ -1  \\\\ 1 \\end{array}\\right] \\hspace{1cm} \n",
    "W_2 = \\left[ \\begin{array}{r} 1 \\\\ -4 \\\\ 0  \\end{array}\\right] \\hspace{1cm}\n",
    "W_3 = \\left[ \\begin{array}{r} 3 \\\\ 2 \\\\ 2  \\end{array}\\right] \\hspace{1cm}\n",
    "\\end{matrix}\n",
    "$$\n",
    "\n",
    "다시 한 번 벡터 방정식의 해를 살펴봐야 합니다.\n",
    "\n",
    "$$\n",
    "\\begin{matrix}\n",
    "c_1\\left[ \\begin{array}{r} 2 \\\\ -1 \\\\ 1 \\end{array}\\right] +\n",
    "c_2\\left[ \\begin{array}{r} 1 \\\\ -4 \\\\ 0  \\end{array}\\right] +\n",
    "c_3\\left[ \\begin{array}{r} 3 \\\\ 2 \\\\ 2  \\end{array}\\right] =\n",
    "\\left[ \\begin{array}{r} 0 \\\\ 0 \\\\ 0\\end{array}\\right]\\end{matrix}\n",
    "$$\n"
   ]
  },
  {
   "cell_type": "code",
   "execution_count": 3,
   "metadata": {},
   "outputs": [
    {
     "name": "stdout",
     "output_type": "stream",
     "text": [
      "[[ 1.  0.  2.  0.]\n",
      " [ 0.  1. -1.  0.]\n",
      " [ 0.  0.  0.  0.]]\n"
     ]
    }
   ],
   "source": [
    "B_augmented = np.array([[2,1,3,0],[-1,-4,2,0],[1,0,2,0]])\n",
    "print(full_row_reduction(B_augmented))"
   ]
  },
  {
   "cell_type": "markdown",
   "metadata": {},
   "source": [
    "이 경우 $c_3$이 자유 변수임을 알 수 있습니다. 만약 $c_3 = 1$로 설정하면 $c_2 = 1$, $c_1 = -2$가 됩니다.  $c_1 = c_2 = c_3 = 0$ 이외의 해를 찾을 수 있으므로 벡터 집합 $\\{W_1, W_2, W_3\\}$은 선형 종속적입니다."
   ]
  },
  {
   "cell_type": "markdown",
   "metadata": {},
   "source": [
    "## 동형 시스템"
   ]
  },
  {
   "cell_type": "markdown",
   "metadata": {},
   "source": [
    "선형시스템은 행렬 방정식 $AX = 0$으로 설명할 수 있는 경우 **동형 시스템**이라고 합니다. 이러한 시스템의 해는 $AX=B$ 시스템의 해와 연결되어 있습니다. 동형 시스템은 선형 독립성의 개념과도 관련이 있습니다. 이 모든 아이디어를 서로 연결하면 선형 독립성에 대한 정보를 바탕으로 $AX=B$ 시스템의 해에 대한 정보를 얻을 수 있습니다.\n",
    "\n",
    "이전 예제에서는 벡터 방정식 $c_1V_1 + c_2V_2 + c_3V_3 + .... + c_nV_n = 0$ 의 벡터 집합 $\\{V_1, V_2, V_3 .... V_n\\}$ 벡터 집합이 선형적으로 독립적인지 확인합니다. 이 벡터 방정식은 $AX=0$로도 설명할 수 있는  동차 선형 시스템을 나타내며, 여기서 $V_1$, $V_2$, ... $V_n$은 행렬 $A$의 열이고, $X$는 미지 계수의 벡터입니다. 벡터의 집합은 연관된 동질계가 모든 항목이 0인 벡터 이외의 해를 갖는 경우에만 선형 의존적입니다. 모든 0의 벡터를 **삼차 해법**이라고 합니다. 이 0 벡터는 $A$의 엔트리에 관계없이 *모든 동형계* $AX=0$에 대한 해이기 때문에 사칙연산 해라고 부릅니다. 이러한 이유로 우리는 $AX=0$에 대한 *비소수 해*의 존재 여부에만 관심이 있습니다.\n",
    "\n",
    "동형 시스템 $AX=0$에 비동형 해가 있다고 가정하고, 이를 $X_h$라고 부를 수 있다고 가정해 봅시다. 또한 관련 비동차 시스템인 $AX=B$에도 어떤 특정 해가 있으며, 이를 $X_p$라고 부를 수 있다고 가정해 봅시다.  따라서 $AX_h = 0$과 $AX_p = B$가 됩니다.  이제 행렬 곱셈의 성질에 따라 $A(X_p + X_h) = AX_p + AX_h = B + 0$이므로 $X_p + X_h$도 $AX=B$의 해가 됩니다."
   ]
  },
  {
   "cell_type": "markdown",
   "metadata": {},
   "source": [
    "다음 시스템을 예로 들어 보겠습니다.\n",
    "\n",
    "$$\n",
    "\\begin{matrix}\n",
    "AX = \\left[ \\begin{array}{rrr} -3 & 2 & 1 \\\\ -2 & 1 & -1 \\\\ 4 & 3 & 3 \\end{array}\\right]\n",
    "\\left[ \\begin{array}{r} x_1 \\\\ x_2 \\\\ x_3 \\end{array}\\right]=\n",
    "\\left[ \\begin{array}{r} -6 \\\\ 1 \\\\ 13  \\end{array}\\right]= B\n",
    "\\end{matrix}\n",
    "$$\n",
    "\n",
    "연관된 동질계를 살펴보고 $A$의 열이 선형적으로 독립적인지 확인할 수 있습니다.\n",
    "\n",
    "$$\n",
    "\\begin{matrix}\n",
    "\\left[ \\begin{array}{rrr} -3 & 2 & 1 \\\\ -2 & 1 & -1 \\\\ 4 & 3 & 3 \\end{array}\\right]\n",
    "\\left[ \\begin{array}{r} c_1 \\\\ c_2 \\\\ c_3 \\end{array}\\right]=\n",
    "\\left[ \\begin{array}{r} 0 \\\\ 0 \\\\ 0  \\end{array}\\right]\n",
    "\\end{matrix}\n",
    "$$"
   ]
  },
  {
   "cell_type": "code",
   "execution_count": 4,
   "metadata": {},
   "outputs": [
    {
     "name": "stdout",
     "output_type": "stream",
     "text": [
      "[[1. 0. 3. 0.]\n",
      " [0. 1. 5. 0.]\n",
      " [0. 0. 0. 0.]]\n"
     ]
    }
   ],
   "source": [
    "A_augmented = np.array([[-3,2,1,0],[-2,1,-1,0],[4,-3,-3,0]])\n",
    "A_augmented_reduced = full_row_reduction(A_augmented)\n",
    "print(A_augmented_reduced)"
   ]
  },
  {
   "cell_type": "markdown",
   "metadata": {},
   "source": [
    "세 번째 열에 피벗이 없다는 것은 $c_3$이 자유 변수이며, 동종 시스템에 대한 비분산 해가 존재한다는 것을 나타냅니다.  한 가지 가능성은 $c_1 = 3$, $c_2=5$, $c_3 = -1$입니다.  여기서 모든 항목이 0이기 때문에 증강 행렬의 마지막 열에서 행 연산을 수행할 필요가 없다는 점에 주목할 필요가 있습니다.  동종 시스템을 고려할 때는 계수 행렬의 RREF를 구하는 것으로 충분합니다.\n",
    "\n",
    "동차방정식이 비미분 해를 갖는다는 사실은 $A$의 열을 벡터로 생각하면 선형적으로 의존한다는 것을 의미합니다.  지금까지의 논의를 바탕으로 $AX=B$ 시스템에 해가 있다면, 그 해는 고유하지 않을 것으로 예상할 수 있습니다."
   ]
  },
  {
   "cell_type": "code",
   "execution_count": 5,
   "metadata": {},
   "outputs": [
    {
     "name": "stdout",
     "output_type": "stream",
     "text": [
      "[[  1.   0.   3.  -8.]\n",
      " [  0.   1.   5. -15.]\n",
      " [  0.   0.   0.   0.]]\n"
     ]
    }
   ],
   "source": [
    "A_augmented = np.array([[-3,2,1,-6],[-2,1,-1,1],[4,-3,-3,13]])\n",
    "A_augmented_reduced = full_row_reduction(A_augmented)\n",
    "print(A_augmented_reduced)"
   ]
  },
  {
   "cell_type": "markdown",
   "metadata": {},
   "source": [
    "RREF는 두 개의 방정식을 나타내며, 세 번째 변수는 자유 변수입니다.\n",
    "\n",
    "$$\n",
    "\\begin{matrix}\n",
    "x_1 \\quad\\quad + 3x_3 & = & -8\\\\\n",
    "x_2 + 5x_3 & = & = -15 \n",
    "\\end{matrix}\n",
    "$$\n",
    "\n",
    "가능한 해를 표현하기 위해 $x_3 = t$를 설정하면 $x_2 = -15 -5t$와 $x_1 = -8-3t$가 됩니다.  이러한 구성 요소는 매개변수 $t$를 포함하는 벡터로 조립할 수 있습니다.\n",
    "\n",
    "$$\n",
    "\\begin{matrix}\n",
    "X = \\left[ \\begin{array}{c} -8-3t \\\\ -15-5t  \\\\ t \\end{array}\\right]\n",
    "\\end{matrix}\n",
    "$$\n",
    "\n",
    "이 벡터를 두 조각으로 나누면 이 솔루션을 동종 시스템의 솔루션과 연결하는 데 도움이 됩니다.\n",
    "\n",
    "$$\n",
    "\\begin{matrix}\n",
    "X  = \n",
    "\\left[ \\begin{array}{c} -8 \\\\ -15  \\\\ 0 \\end{array}\\right] + \n",
    "t\\left[ \\begin{array}{c} -3 \\\\ -5  \\\\ 1 \\end{array}\\right] = X_p + X_h\n",
    "\\end{matrix}\n",
    "$$\n",
    "\n",
    "모든 $t$에 대해 $AX_p= B$, $AX_h= 0$, 모든 $t$에 대해 $A(X_p+X_h) = B$라는 것을 확인할 수 있습니다."
   ]
  },
  {
   "cell_type": "code",
   "execution_count": 6,
   "metadata": {},
   "outputs": [
    {
     "name": "stdout",
     "output_type": "stream",
     "text": [
      "[[ -8.44841871]\n",
      " [-15.74736452]\n",
      " [  0.1494729 ]]\n",
      "\n",
      "\n",
      "[[-6]\n",
      " [ 1]\n",
      " [13]]\n",
      "\n",
      "\n",
      "[[0.00000000e+00]\n",
      " [0.00000000e+00]\n",
      " [1.11022302e-16]]\n",
      "\n",
      "\n",
      "[[-6.]\n",
      " [ 1.]\n",
      " [13.]]\n"
     ]
    }
   ],
   "source": [
    "A = np.array([[-3,2,1],[-2,1,-1],[4,-3,-3]])\n",
    "\n",
    "X_p = np.array([[-8],[-15],[0]])\n",
    "X_h = np.array([[-3],[-5],[1]])\n",
    "\n",
    "t = np.random.rand()\n",
    "X = X_p + t*X_h\n",
    "\n",
    "print(X)\n",
    "print('\\n')\n",
    "print(A@X_p)\n",
    "print('\\n')\n",
    "print(A@(t*X_h))\n",
    "print('\\n')\n",
    "print(A@X)"
   ]
  },
  {
   "cell_type": "markdown",
   "metadata": {},
   "source": [
    "동종 시스템의 증강 행렬에 대한 RREF의 처음 세 열이 $AX=B$ 시스템의 RREF와 정확히 동일하다는 점에 유의해야 합니다. 물론 처음 세 열은 두 시스템에서 동일한 계수 행렬 $A$에서 나오기 때문에 그럴 수밖에 없습니다. 여기서 중요한 점은 $AX=B$ 시스템은 $A$의 열이 선형적으로 독립적인 경우에만 고유한 해를 가질 수 있다는 것입니다."
   ]
  },
  {
   "cell_type": "markdown",
   "metadata": {},
   "source": [
    "## Null space\n",
    "\n",
    "동종 시스템의 개념이 정립되었으므로 이제 두 번째 기본 부분 공간을 정의할 준비가 되었습니다. A$가 $m\\times n$ 행렬인 경우, $A$의 **널 공간**은 $AX=0$이 되는 벡터 $X$의 집합입니다. 다시 말해, $A$의 널 공간은 동종 시스템 $AX=0$에 대한 모든 해의 집합입니다. $A$의 널 공간은 $\\mathbb{R}^n$의 부분공간이며, $\\mathcal{N}(A)$라는 표기법으로 쓰입니다. 이제 앞서 설명한 내용을 널 공간의 관점에서 재구성할 수 있습니다.  \n",
    "\n",
    "- 행렬 $A$의 열은 $\\mathcal{N}(A)$가 0 벡터만 포함하는 경우에만 선형적으로 독립적입니다.\n",
    "\n",
    "- $AX=B$ 시스템은 $\\mathcal{N}(A)$ 가 0 벡터만 포함하는 경우에만 최대 하나의 해를 갖습니다.\n",
    "\n",
    "$A$의 기본 부분공간과 $AX=B$ 시스템의 해집합을 연결하면 선형 시스템에 대한 이해와 이를 풀 수 있는 방법을 더욱 강화하는 일반적인 결론을 내릴 수 있습니다."
   ]
  }
 ],
 "metadata": {
  "kernelspec": {
   "display_name": "Python 3",
   "language": "python",
   "name": "python3"
  },
  "language_info": {
   "codemirror_mode": {
    "name": "ipython",
    "version": 3
   },
   "file_extension": ".py",
   "mimetype": "text/x-python",
   "name": "python",
   "nbconvert_exporter": "python",
   "pygments_lexer": "ipython3",
   "version": "3.11.7"
  }
 },
 "nbformat": 4,
 "nbformat_minor": 4
}
