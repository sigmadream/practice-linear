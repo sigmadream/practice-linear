{
 "cells": [
  {
   "cell_type": "markdown",
   "metadata": {},
   "source": [
    "# 4. 역행렬"
   ]
  },
  {
   "cell_type": "markdown",
   "metadata": {},
   "source": [
    "행렬 형식으로 작성된 연립 선형 방정식에 대해서 다시 한 번 생각해보도록 하겠습니다.\n",
    "\n",
    "$$\n",
    "AX = B\n",
    "$$\n",
    "\n",
    "다시 말하지만, $A$는 계수행렬이고, $B$는 미지수 벡터이며, $X$는 상수 벡터입니다. 만약 $A$, $B$, $X$가 숫자로만 이루어진다면, 우리는 $X$를 해결하는 방법이 방정식의 양변을 $A$로 나누는 것임을 즉시 알 수 있습니다($A\\neq 0$이면). 이 시스템에 대해 자연스럽게 던질 수 있는 질문은 \"행렬 나누기를 정의할 수 있는가?\"입니다.\n",
    "\n",
    "대부분이 아는 것 처럼 당연히 *아니다* 입니다. 하지만 $A$, $B$, $X$가 숫자인 경우 $1/A$를 곱하면 해를 구할 수 있다는 점을 이해하면 진전을 이룰 수 있습니다. 이 미묘한 차이가 중요한 이유는 나눗셈을 정의할 필요가 없다는 것을 의미하기 때문입니다. 우리는 $A$를 곱하면 1이 되는 숫자만 찾으면 됩니다. 이 숫자를 $A$의 곱셈 역수라고 하며, $A\\neq 0$인 경우 $1/A$로 표기합니다.\n",
    "\n",
    "이 아이디어를 $A$, $B$, $X$가 행렬인 상황으로 확장할 수 있습니다. $AX=B$ 시스템을 풀기 위해 $A$를 곱하면 행렬 $I$가 되는 특정 행렬을 곱하고 싶습니다. 이 행렬을 **역행렬**이라고 하며, 기호는 $A^{-1}$입니다.\n",
    "\n",
    "$A$가 정방행렬인 경우 $A^{-1}$(\"A의 역행렬, A inverse\"으로 읽음)를 다음이 참인 행렬로 정의합니다.\n",
    "\n",
    "$$\n",
    "A^{-1}A = I \\hspace{3cm}AA^{-1} = I\n",
    "$$"
   ]
  },
  {
   "cell_type": "markdown",
   "metadata": {},
   "source": [
    "## 역행렬의 구성\n",
    "$C$를 예제를 통해서 역행렬을 어떻게 만들 수 있는지 생각해 보겠습니다.\n",
    "\n",
    "$$\n",
    "C = \\left[ \\begin{array}{rrrr} 1 & 0 & 2 & -1 \\\\ 3 & 1 & -3 & 2 \\\\ 2 & 0 & 4 & 4 \\\\ 2 & 1 & -1 & -1 \\end{array}\\right]\n",
    "$$\n",
    "\n",
    "행렬 곱 $CC^{-1}= I$를 $C^{-1}$의 열에 대해 생각해 봅시다. 예를 들어 세 번째 열에 초점을 맞추고, 알 수 없는 항목에는 $y_i$로 레이블을 지정합니다. 알 수 없는 \\* 항목도 있지만 지금은 무시하겠습니다.\n",
    "\n",
    "$$\n",
    "CC^{-1}=\n",
    "\\left[ \\begin{array}{rrrr} 1 & 0 & 2 & -1 \\\\ 3 & 1 & -3 & 2 \\\\ 2 & 0 & 4 & 4 \\\\ 2 & 1 & -1 & -1 \\end{array}\\right]\n",
    "\\left[ \\begin{array}{rrrr} * & * & y_1& * \\\\ * & * & y_2 & * \\\\ * & * & y_3 & * \\\\ * & * & y_4 & *  \\end{array}\\right]=\n",
    "\\left[ \\begin{array}{rrrr} 1 & 0 & 0 & 0 \\\\ 0 & 1 & 0 & 0 \\\\ 0 & 0 & 1 & 0 \\\\ 0 & 0 & 0 & 1 \\end{array}\\right]=\n",
    "I\n",
    "$$\n",
    "\n",
    "이제 $C$에 $C^{-1}$의 세 번째 열을 곱하면 $I$의 세 번째 열이 나온다는 것을 기억하세요. 이렇게 하면 $y_i$를 풀 수 있는 선형 시스템이 생깁니다.\n",
    "\n",
    "$$\n",
    "\\left[ \\begin{array}{rrrr} 1 & 0 & 2 & -1 \\\\ 3 & 1 & -3 & 2 \\\\ 2 & 0 & 4 & 4 \\\\ 2 & 1 & -1 & -1 \\end{array}\\right]\n",
    "\\left[ \\begin{array}{r}  y_1 \\\\  y_2  \\\\ y_3 \\\\ y_4  \\end{array}\\right]=\n",
    "\\left[ \\begin{array}{r}  0 \\\\  0  \\\\ 1 \\\\ 0  \\end{array}\\right]\n",
    "$$\n"
   ]
  },
  {
   "cell_type": "code",
   "execution_count": 4,
   "metadata": {},
   "outputs": [],
   "source": [
    "import numpy as np\n",
    "import linear_solver as ls"
   ]
  },
  {
   "cell_type": "code",
   "execution_count": 5,
   "metadata": {},
   "outputs": [
    {
     "name": "stdout",
     "output_type": "stream",
     "text": [
      "[[-0.16666667]\n",
      " [ 0.66666667]\n",
      " [ 0.16666667]\n",
      " [ 0.16666667]]\n"
     ]
    }
   ],
   "source": [
    "## Solve CY = I3\n",
    "C = np.array([[1,0,2,-1],[3,1,-3,2],[2,0,4,4],[2,1,-1,-1]])\n",
    "I3 = np.array([[0],[0],[1],[0]])\n",
    "Y3 = ls.solve_system(C,I3)\n",
    "print(Y3)\n"
   ]
  },
  {
   "cell_type": "markdown",
   "metadata": {},
   "source": [
    "$C^{-1}$의 다른 열은 동일성 행렬의 해당 열로 유사한 시스템을 풀면 찾을 수 있습니다. 그런 다음 열을 하나의 행렬로 조합하여 $C^{-1}$를 만들고, $C^{-1}C$와 $CC^{-1}$의 곱을 확인하여 결과를 테스트할 수 있습니다."
   ]
  },
  {
   "cell_type": "code",
   "execution_count": 6,
   "metadata": {},
   "outputs": [
    {
     "name": "stdout",
     "output_type": "stream",
     "text": [
      "C inverse:\n",
      "[[ 0.83333333  0.5        -0.16666667 -0.5       ]\n",
      " [-2.08333333 -1.25        0.66666667  2.25      ]\n",
      " [-0.08333333 -0.25        0.16666667  0.25      ]\n",
      " [-0.33333333  0.          0.16666667  0.        ]]\n",
      "\n",
      "C inverse times C:\n",
      "[[ 1.00000000e+00  0.00000000e+00 -1.11022302e-16  1.11022302e-16]\n",
      " [ 0.00000000e+00  1.00000000e+00  0.00000000e+00  4.44089210e-16]\n",
      " [ 5.55111512e-17  0.00000000e+00  1.00000000e+00 -5.55111512e-17]\n",
      " [ 0.00000000e+00  0.00000000e+00  0.00000000e+00  1.00000000e+00]]\n",
      "\n",
      "C times C inverse:\n",
      "[[ 1.00000000e+00  0.00000000e+00  0.00000000e+00  0.00000000e+00]\n",
      " [-1.11022302e-16  1.00000000e+00  5.55111512e-17  0.00000000e+00]\n",
      " [ 0.00000000e+00  0.00000000e+00  1.00000000e+00  0.00000000e+00]\n",
      " [-3.33066907e-16  0.00000000e+00  1.11022302e-16  1.00000000e+00]]\n"
     ]
    }
   ],
   "source": [
    "I1 = np.array([[1],[0],[0],[0]])\n",
    "I2 = np.array([[0],[1],[0],[0]])\n",
    "I4 = np.array([[0],[0],[0],[1]])\n",
    "\n",
    "Y1 = ls.solve_system(C,I1)\n",
    "Y2 = ls.solve_system(C,I2)\n",
    "Y4 = ls.solve_system(C,I4)\n",
    "\n",
    "C_inverse = np.hstack((Y1,Y2,Y3,Y4))\n",
    "print(\"C inverse:\\n\",C_inverse,'\\n',sep='')\n",
    "print(\"C inverse times C:\\n\",C_inverse@C,'\\n',sep='')\n",
    "print(\"C times C inverse:\\n\",C@C_inverse,sep='')"
   ]
  },
  {
   "cell_type": "markdown",
   "metadata": {},
   "source": [
    "반올림 오류로 인해 0이 되어야 하는 일부 항목이 정확히 0이 아닙니다."
   ]
  },
  {
   "cell_type": "code",
   "execution_count": 7,
   "metadata": {},
   "outputs": [
    {
     "name": "stdout",
     "output_type": "stream",
     "text": [
      "[[ 1.  0.  0.  0.]\n",
      " [-0.  1.  0.  0.]\n",
      " [ 0.  0.  1.  0.]\n",
      " [-0.  0.  0.  1.]]\n"
     ]
    }
   ],
   "source": [
    "print(np.round(C@C_inverse,8))"
   ]
  },
  {
   "cell_type": "markdown",
   "metadata": {},
   "source": [
    "다음으로 행렬의 역을 계산하는 파이썬 함수를 작성해 보겠습니다. 실제로 행렬의 역을 구하는 것은 선형 시스템을 푸는 매우 비효율적인 방법입니다. 행렬의 역을 구하기 위해 $n$개의 시스템을 풀어야 하므로, 제거를 통해 시스템을 풀 때보다 $n$배의 작업량이 소요되는 것으로 보입니다. 그러나 *다양한 벡터* $B$에 대한 선형 시스템 $AX=B$를 풀어야 하지만 계수 행렬 $A$는 동일하다고 가정해 보겠습니다.  이 경우 $A^{-1}$를 구성하는 것이 매력적으로 보일 수 있습니다.\n",
    "\n",
    "계산의 효율성을 높이기 위해 행 연산의 반복을 최대한 피하고 싶습니다.  $A^{-1}$를 구성하기 위해서는 $AX_i=Y_i$ 시스템을 풀어야 하는데, 여기서 $Y_i$는 $I$의 $i$번째 열입니다.  이렇게 하면 $A^{-1}$의 $i$번째 열인 $X$가 생성됩니다.  증강된 각 행렬 $[A|Y_i]$에서 제거를 수행하는 대신, 전체 행렬 $I$로 $A$를 증강하고 모든 $Y_i$에 필요한 연산을 동시에 수행할 수 있습니다.  예를 들어 $A$가 $4 \\times 4$ 행렬인 경우 다음과 같은 증강 행렬을 갖게 됩니다.\n",
    "\n",
    "$$\n",
    "\\begin{matrix}\n",
    "[A|I] = \\left[ \\begin{array}{rrrr|rrrr} \n",
    "* & * & * & * & 1 & 0 & 0 & 0 \\\\ \n",
    "* & * & * & * & 0 & 1 & 0 & 0 \\\\\n",
    "* & * & * & * & 0 & 0 & 1 & 0 \\\\\n",
    "* & * & * & * & 0 & 0 & 0 & 1 \\\\ \n",
    "\\end{array}\\right]\n",
    "\\end{matrix}\n",
    "$$\n",
    "\n",
    "$A$가 역행렬이 가능한 경우, `texttt{row_reduction}` 루틴은 다음 형식의 행렬을 반환해야 합니다.\n",
    "\n",
    "\n",
    "$$\n",
    "\\begin{matrix}\n",
    "[A|I] = \\left[ \\begin{array}{rrrr|rrrr} \n",
    "* & * & * & * & * & * & * & * \\\\ \n",
    "0 & * & * & * & * & * & * & * \\\\\n",
    "0 & 0 & * & * & * & * & * & * \\\\\n",
    "0 & 0 & 0 & * & * & * & * & * \\\\ \n",
    "\\end{array}\\right]\n",
    "\\end{matrix}\n",
    "$$\n",
    "\n",
    "그런 다음 이 행렬의 오른쪽 절반에 있는 각 열에 대해 `back_substitution` 함수를 한 번씩 호출하면 됩니다."
   ]
  },
  {
   "cell_type": "code",
   "execution_count": 15,
   "metadata": {},
   "outputs": [
    {
     "name": "stdout",
     "output_type": "stream",
     "text": [
      "[[ 0.83333333  0.5        -0.16666667 -0.5       ]\n",
      " [-2.08333333 -1.25        0.66666667  2.25      ]\n",
      " [-0.08333333 -0.25        0.16666667  0.25      ]\n",
      " [-0.33333333  0.          0.16666667  0.        ]]\n"
     ]
    }
   ],
   "source": [
    "print(ls.inverse(C))"
   ]
  },
  {
   "cell_type": "markdown",
   "metadata": {},
   "source": [
    "역행렬이 불가능한 행렬이라면 위의 과정은 실패합니다. 우리는 `back_substitution` 루틴 내에서 위쪽 삼각형 행렬의 주 대각선을 따른 항목으로 나눈다는 것을 깨달아야 합니다. 이 항목들이 매우 중요한 피벗 위치에 있다는 것을 기억하세요. 하나 이상의 피벗 위치에 0이 있으면 원래 행렬은 반전할 수 없는 행렬입니다.\n",
    "\n",
    "예를 들어 `inverse` 루틴에서 증강 행렬 $[A|I]$에 대해 `row_reduction`을 수행한 후 결과가 다음과 같다고 가정해 보겠습니다.\n",
    "\n",
    "$$\n",
    "\\begin{equation}\n",
    "[A|I] = \\left[ \\begin{array}{rrrr|rrrr} \n",
    "* & * & * & * & * & * & * & * \\\\ \n",
    "0 & 0 & * & * & * & * & * & * \\\\\n",
    "0 & 0 & * & * & * & * & * & * \\\\\n",
    "0 & 0 & 0 & * & * & * & * & * \\\\ \n",
    "\\end{array}\\right]\n",
    "\\end{equation}\n",
    "$$\n",
    "\n",
    "이 경우 두 번째 행의 피벗 위치에 0이 있기 때문에 `back_substitution`은 실패합니다. 따라서 $A^{-1}$ 는 존재하지 않으며 $A$는 역행렬이 존재하지 않는다는 사실을 알게 됩니다.\n",
    "\n",
    "일반적으로 주어진 행렬의 역행렬이 가능한지 여부는 제거 단계를 수행하고 해당 위쪽 삼각형 행렬의 주 대각선에 있는 항목을 검사하여 결정합니다."
   ]
  },
  {
   "cell_type": "markdown",
   "metadata": {},
   "source": [
    "## SciPy를 사용한 역행렬 계산"
   ]
  },
  {
   "cell_type": "code",
   "execution_count": 16,
   "metadata": {},
   "outputs": [
    {
     "name": "stdout",
     "output_type": "stream",
     "text": [
      "[[ 0.83333333  0.5        -0.16666667 -0.5       ]\n",
      " [-2.08333333 -1.25        0.66666667  2.25      ]\n",
      " [-0.08333333 -0.25        0.16666667  0.25      ]\n",
      " [-0.33333333  0.          0.16666667  0.        ]]\n"
     ]
    }
   ],
   "source": [
    "import scipy.linalg as sla\n",
    "\n",
    "C_inverse = sla.inv(C)\n",
    "print(C_inverse)"
   ]
  }
 ],
 "metadata": {
  "kernelspec": {
   "display_name": "Python 3",
   "language": "python",
   "name": "python3"
  },
  "language_info": {
   "codemirror_mode": {
    "name": "ipython",
    "version": 3
   },
   "file_extension": ".py",
   "mimetype": "text/x-python",
   "name": "python",
   "nbconvert_exporter": "python",
   "pygments_lexer": "ipython3",
   "version": "3.12.1"
  }
 },
 "nbformat": 4,
 "nbformat_minor": 4
}
