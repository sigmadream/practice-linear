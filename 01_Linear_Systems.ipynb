{
 "cells": [
  {
   "cell_type": "markdown",
   "metadata": {},
   "source": [
    "# 1. 연립 선형 방정식과 해집합"
   ]
  },
  {
   "cell_type": "markdown",
   "metadata": {},
   "source": [
    "선형 방정식을 살펴보고 그 해를 구하는 방법 소개합니다. \n",
    "\n",
    "## 선형 연립방정식(system of linear equations, 혹은 선형계(linear system)) \n",
    "\n",
    "미지수 $x_1$, $x_2$, $\\cdots$, $x_n$에 대해서 다음과 같은 1차식으로 작성된 방정식을 선형방정식(linear equation)이라고 합니다.\n",
    "\n",
    "$$ \n",
    "\\begin{split}\n",
    "\\begin{matrix}\n",
    "a_1 x_1 + a_2 x_2 + \\cdots + a_n x_n = b \n",
    "\\end{matrix}\n",
    "\\end{split}\n",
    "$$\n",
    "\n",
    "미지수 $x_1$, $x_2$, $x_3$, ... $x_n$이 있는 $m$개의 **연립 선형방정식**은 다음과 같은 형식 표현할 수 있습니다.\n",
    "\n",
    "$$\n",
    "\\begin{split}\n",
    "\\begin{matrix}\n",
    "a_{11}x_1 + a_{12}x_2 + \\hspace{0.5cm} ... \\hspace{0.5cm} + a_{1n}x_n & = & b_1 \\\\\n",
    "a_{21}x_1 + a_{22}x_2 + \\hspace{0.5cm} ... \\hspace{0.5cm} + a_{2n}x_n & = & b_2 \\\\\n",
    "\\vdots \\hspace{1.2cm} \\vdots \\hspace{3cm} \\vdots \\hspace{0.5cm}  & = & \\vdots \\\\\n",
    "a_{m1}x_1 + a_{m2}x_2 + \\hspace{0.5cm} ... \\hspace{0.5cm} +  a_{mn}x_n & = & b_m \\\\\n",
    "\\end{matrix}\n",
    "\\end{split}\n",
    "$$\n",
    "\n",
    "연립 선형방정식의 해는 모든 방정식을 동시에 만족하는 미지수의 집합 입니다. 이런 미지수의 값 혹은 해를 모아둔 집합을 **해집합**이라고 합니다. 해를 갖지 않는 연립 선형방정식은 해가 없다(inconsistent)라고 하며, 적어도 하나의 해가 존재하면 모순이 없다(consistent)라고 합니다.\n",
    "\n",
    "두 개의 방정식과 두 개의 미지수가 있는 연립 선형방정식은 $x_1x_2$ 좌표 평면에서 각 방정식을 만족하는 점의 집합을 쉽게 그래프로 그릴 수 있습니다. 연립 선형방정식의 해집합을 시각적으로 확인하기 위해서 간단한 그래프를 작성해보도록 하겠습니다."
   ]
  },
  {
   "cell_type": "markdown",
   "metadata": {},
   "source": [
    "## 예제1: unique solution\n",
    "\n",
    "$$\n",
    "\\begin{matrix}\n",
    "x_1 + x_2 - 2 & = & 0 \\\\\n",
    "x_1 - x_2 -1 & = & 0 \\\n",
    "\\end{matrix}\n",
    "$$\n",
    "\n",
    "각 방정식의 해집합은 선으로 나타낼 수 있으며, 선형 시스템의 해집합은 두 선에 놓인 모든 점으로 나타낼 수 있습니다. 이 경우 선은 한 점에서 교차하며 두 방정식을 모두 만족하는 값은 한 쌍만 존재합니다."
   ]
  },
  {
   "cell_type": "code",
   "execution_count": null,
   "metadata": {},
   "outputs": [],
   "source": [
    "import numpy as np\n",
    "import matplotlib.pyplot as plt\n",
    "%config InlineBackend.figure_format = 'retina'"
   ]
  },
  {
   "cell_type": "code",
   "execution_count": null,
   "metadata": {},
   "outputs": [],
   "source": [
    "x=np.linspace(-10,10,100)"
   ]
  },
  {
   "cell_type": "code",
   "execution_count": null,
   "metadata": {
    "tags": [
     "hide_input"
    ]
   },
   "outputs": [],
   "source": [
    "fig, ax = plt.subplots()\n",
    "ax.plot(x,(2-x))\n",
    "ax.plot(x,(1+x))\n",
    "\n",
    "ax.text(1,1.6,'$x_1+x_2 -2 = 0$')\n",
    "ax.text(-3,0.5,'$x_1-x_2 -1 = 0$')\n",
    "\n",
    "ax.set_xlim(-4,4)\n",
    "ax.set_ylim(-2,6)\n",
    "ax.axvline(color='k',linewidth = 1)\n",
    "ax.axhline(color='k',linewidth = 1)\n",
    "\n",
    "ax.set_xticks(list(range(-4,5)))\n",
    "ax.set_aspect('equal')\n",
    "ax.grid(True,ls=':')"
   ]
  },
  {
   "cell_type": "markdown",
   "metadata": {},
   "source": [
    "## 예제 2: no solutions\n",
    "\n",
    "$$\n",
    "\\begin{matrix}\n",
    "x_1 + 3x_2 & = & 5 \\\\\n",
    "x_1 + 3x_2 & = & 0 \\\\\n",
    "\\end{matrix}\n",
    "$$\n",
    "\n",
    "두 방정식을 동시에 만족하는 해는 없습니다."
   ]
  },
  {
   "cell_type": "code",
   "execution_count": null,
   "metadata": {
    "tags": [
     "hide_input"
    ]
   },
   "outputs": [],
   "source": [
    "fig, ax = plt.subplots()\n",
    "ax.plot(x,(2*x-3))\n",
    "ax.plot(x,(4*x-6)/2)\n",
    "\n",
    "ax.text(1,1.6,'$2x_1-x_2 -3 = 0$')\n",
    "ax.text(1,2.6,'$-4x_1+2x_2 +6 = 0$')\n",
    "\n",
    "ax.set_xlim(-4,4)\n",
    "ax.set_ylim(-4,4)\n",
    "ax.axvline(color='k',linewidth = 1)\n",
    "ax.axhline(color='k',linewidth = 1)\n",
    "\n",
    "ax.set_xticks(list(range(-4,5)))\n",
    "ax.set_aspect('equal')\n",
    "ax.grid(True,ls=':')"
   ]
  },
  {
   "cell_type": "markdown",
   "metadata": {},
   "source": [
    "## 예제 3: infinite number of solutions\n",
    "\n",
    "$$\n",
    "\\begin{matrix}\n",
    "x_1 + 3x_2 & = & 5 \\\\\n",
    "2x_1 + 6x_2 & = & 10 \\\\\n",
    "\\end{matrix}\n",
    "$$\n",
    "\n",
    "마지막 예제에서 두 번째 방정식은 첫 번째 방정식의 배수입니다. 두 방정식의 해는 모두 같은 선으로 표시되므로 선의 모든 점이 선형 시스템의 해입니다."
   ]
  },
  {
   "cell_type": "code",
   "execution_count": null,
   "metadata": {
    "tags": [
     "hide_input"
    ]
   },
   "outputs": [],
   "source": [
    "fig, ax = plt.subplots()\n",
    "ax.plot(x,(1-x))\n",
    "ax.plot(x,(1+x))\n",
    "ax.plot(x,(-3+3*x))\n",
    "\n",
    "ax.text(0,1,'$x_1+x_2 - 1 = 0$')\n",
    "ax.text(-1,2,'$x_1-x_2 - 1= 0$')\n",
    "ax.text(1.5,2,'$-x_1+3x_2 - 3 = 10$')\n",
    "\n",
    "ax.set_xlim(-4,4)\n",
    "ax.set_ylim(-2,6)\n",
    "ax.axvline(color='k',linewidth = 1)\n",
    "ax.axhline(color='k',linewidth = 1)\n",
    "\n",
    "ax.set_xticks(list(range(-4,5)))\n",
    "ax.set_aspect('equal')\n",
    "ax.grid(True,ls=':')"
   ]
  },
  {
   "cell_type": "markdown",
   "metadata": {},
   "source": [
    "앞선 세 가지 예는 두 개의 미지수가 있는 연립 선형 방정식의 모든 유형의 해집합을 보여줍니다. 정확히 하나의 해가 있을 수도 있고, 해가 없을 수도 있으며, 해가 무한 할 수도 있습니다. 선형 시스템에 대한 기본적인 사실은 해집합이 이 세 가지 경우 중 하나라는 것입니다."
   ]
  },
  {
   "cell_type": "markdown",
   "metadata": {},
   "source": []
  }
 ],
 "metadata": {
  "kernelspec": {
   "display_name": "Python 3 (ipykernel)",
   "language": "python",
   "name": "python3"
  },
  "language_info": {
   "codemirror_mode": {
    "name": "ipython",
    "version": 3
   },
   "file_extension": ".py",
   "mimetype": "text/x-python",
   "name": "python",
   "nbconvert_exporter": "python",
   "pygments_lexer": "ipython3",
   "version": "3.12.1"
  }
 },
 "nbformat": 4,
 "nbformat_minor": 4
}
